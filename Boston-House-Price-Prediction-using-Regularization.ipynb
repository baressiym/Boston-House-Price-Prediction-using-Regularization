{
 "cells": [
  {
   "cell_type": "code",
   "execution_count": 1,
   "id": "9c2dfcca",
   "metadata": {},
   "outputs": [],
   "source": [
    "import numpy as np\n",
    "import pandas as pd\n",
    "import matplotlib.pyplot as plt\n",
    "import seaborn as sns"
   ]
  },
  {
   "cell_type": "code",
   "execution_count": 2,
   "id": "4e2543b7",
   "metadata": {},
   "outputs": [],
   "source": [
    "from sklearn.datasets import load_boston"
   ]
  },
  {
   "cell_type": "code",
   "execution_count": 3,
   "id": "06089d01",
   "metadata": {},
   "outputs": [
    {
     "name": "stderr",
     "output_type": "stream",
     "text": [
      "C:\\Users\\bares\\anaconda3\\lib\\site-packages\\sklearn\\utils\\deprecation.py:87: FutureWarning: Function load_boston is deprecated; `load_boston` is deprecated in 1.0 and will be removed in 1.2.\n",
      "\n",
      "    The Boston housing prices dataset has an ethical problem. You can refer to\n",
      "    the documentation of this function for further details.\n",
      "\n",
      "    The scikit-learn maintainers therefore strongly discourage the use of this\n",
      "    dataset unless the purpose of the code is to study and educate about\n",
      "    ethical issues in data science and machine learning.\n",
      "\n",
      "    In this special case, you can fetch the dataset from the original\n",
      "    source::\n",
      "\n",
      "        import pandas as pd\n",
      "        import numpy as np\n",
      "\n",
      "        data_url = \"http://lib.stat.cmu.edu/datasets/boston\"\n",
      "        raw_df = pd.read_csv(data_url, sep=\"\\s+\", skiprows=22, header=None)\n",
      "        data = np.hstack([raw_df.values[::2, :], raw_df.values[1::2, :2]])\n",
      "        target = raw_df.values[1::2, 2]\n",
      "\n",
      "    Alternative datasets include the California housing dataset (i.e.\n",
      "    :func:`~sklearn.datasets.fetch_california_housing`) and the Ames housing\n",
      "    dataset. You can load the datasets as follows::\n",
      "\n",
      "        from sklearn.datasets import fetch_california_housing\n",
      "        housing = fetch_california_housing()\n",
      "\n",
      "    for the California housing dataset and::\n",
      "\n",
      "        from sklearn.datasets import fetch_openml\n",
      "        housing = fetch_openml(name=\"house_prices\", as_frame=True)\n",
      "\n",
      "    for the Ames housing dataset.\n",
      "  warnings.warn(msg, category=FutureWarning)\n"
     ]
    }
   ],
   "source": [
    "boston = load_boston()"
   ]
  },
  {
   "cell_type": "code",
   "execution_count": 4,
   "id": "9b90b7a3",
   "metadata": {},
   "outputs": [
    {
     "data": {
      "text/plain": [
       "dict_keys(['data', 'target', 'feature_names', 'DESCR', 'filename', 'data_module'])"
      ]
     },
     "execution_count": 4,
     "metadata": {},
     "output_type": "execute_result"
    }
   ],
   "source": [
    "boston.keys()"
   ]
  },
  {
   "cell_type": "code",
   "execution_count": 5,
   "id": "ee8302c2",
   "metadata": {},
   "outputs": [
    {
     "data": {
      "text/plain": [
       "(506, 13)"
      ]
     },
     "execution_count": 5,
     "metadata": {},
     "output_type": "execute_result"
    }
   ],
   "source": [
    "boston['data'].shape"
   ]
  },
  {
   "cell_type": "code",
   "execution_count": 6,
   "id": "e3caa3a6",
   "metadata": {},
   "outputs": [
    {
     "data": {
      "text/plain": [
       "array([24. , 21.6, 34.7, 33.4, 36.2, 28.7, 22.9, 27.1, 16.5, 18.9, 15. ,\n",
       "       18.9, 21.7, 20.4, 18.2, 19.9, 23.1, 17.5, 20.2, 18.2, 13.6, 19.6,\n",
       "       15.2, 14.5, 15.6, 13.9, 16.6, 14.8, 18.4, 21. , 12.7, 14.5, 13.2,\n",
       "       13.1, 13.5, 18.9, 20. , 21. , 24.7, 30.8, 34.9, 26.6, 25.3, 24.7,\n",
       "       21.2, 19.3, 20. , 16.6, 14.4, 19.4, 19.7, 20.5, 25. , 23.4, 18.9,\n",
       "       35.4, 24.7, 31.6, 23.3, 19.6, 18.7, 16. , 22.2, 25. , 33. , 23.5,\n",
       "       19.4, 22. , 17.4, 20.9, 24.2, 21.7, 22.8, 23.4, 24.1, 21.4, 20. ,\n",
       "       20.8, 21.2, 20.3, 28. , 23.9, 24.8, 22.9, 23.9, 26.6, 22.5, 22.2,\n",
       "       23.6, 28.7, 22.6, 22. , 22.9, 25. , 20.6, 28.4, 21.4, 38.7, 43.8,\n",
       "       33.2, 27.5, 26.5, 18.6, 19.3, 20.1, 19.5, 19.5, 20.4, 19.8, 19.4,\n",
       "       21.7, 22.8, 18.8, 18.7, 18.5, 18.3, 21.2, 19.2, 20.4, 19.3, 22. ,\n",
       "       20.3, 20.5, 17.3, 18.8, 21.4, 15.7, 16.2, 18. , 14.3, 19.2, 19.6,\n",
       "       23. , 18.4, 15.6, 18.1, 17.4, 17.1, 13.3, 17.8, 14. , 14.4, 13.4,\n",
       "       15.6, 11.8, 13.8, 15.6, 14.6, 17.8, 15.4, 21.5, 19.6, 15.3, 19.4,\n",
       "       17. , 15.6, 13.1, 41.3, 24.3, 23.3, 27. , 50. , 50. , 50. , 22.7,\n",
       "       25. , 50. , 23.8, 23.8, 22.3, 17.4, 19.1, 23.1, 23.6, 22.6, 29.4,\n",
       "       23.2, 24.6, 29.9, 37.2, 39.8, 36.2, 37.9, 32.5, 26.4, 29.6, 50. ,\n",
       "       32. , 29.8, 34.9, 37. , 30.5, 36.4, 31.1, 29.1, 50. , 33.3, 30.3,\n",
       "       34.6, 34.9, 32.9, 24.1, 42.3, 48.5, 50. , 22.6, 24.4, 22.5, 24.4,\n",
       "       20. , 21.7, 19.3, 22.4, 28.1, 23.7, 25. , 23.3, 28.7, 21.5, 23. ,\n",
       "       26.7, 21.7, 27.5, 30.1, 44.8, 50. , 37.6, 31.6, 46.7, 31.5, 24.3,\n",
       "       31.7, 41.7, 48.3, 29. , 24. , 25.1, 31.5, 23.7, 23.3, 22. , 20.1,\n",
       "       22.2, 23.7, 17.6, 18.5, 24.3, 20.5, 24.5, 26.2, 24.4, 24.8, 29.6,\n",
       "       42.8, 21.9, 20.9, 44. , 50. , 36. , 30.1, 33.8, 43.1, 48.8, 31. ,\n",
       "       36.5, 22.8, 30.7, 50. , 43.5, 20.7, 21.1, 25.2, 24.4, 35.2, 32.4,\n",
       "       32. , 33.2, 33.1, 29.1, 35.1, 45.4, 35.4, 46. , 50. , 32.2, 22. ,\n",
       "       20.1, 23.2, 22.3, 24.8, 28.5, 37.3, 27.9, 23.9, 21.7, 28.6, 27.1,\n",
       "       20.3, 22.5, 29. , 24.8, 22. , 26.4, 33.1, 36.1, 28.4, 33.4, 28.2,\n",
       "       22.8, 20.3, 16.1, 22.1, 19.4, 21.6, 23.8, 16.2, 17.8, 19.8, 23.1,\n",
       "       21. , 23.8, 23.1, 20.4, 18.5, 25. , 24.6, 23. , 22.2, 19.3, 22.6,\n",
       "       19.8, 17.1, 19.4, 22.2, 20.7, 21.1, 19.5, 18.5, 20.6, 19. , 18.7,\n",
       "       32.7, 16.5, 23.9, 31.2, 17.5, 17.2, 23.1, 24.5, 26.6, 22.9, 24.1,\n",
       "       18.6, 30.1, 18.2, 20.6, 17.8, 21.7, 22.7, 22.6, 25. , 19.9, 20.8,\n",
       "       16.8, 21.9, 27.5, 21.9, 23.1, 50. , 50. , 50. , 50. , 50. , 13.8,\n",
       "       13.8, 15. , 13.9, 13.3, 13.1, 10.2, 10.4, 10.9, 11.3, 12.3,  8.8,\n",
       "        7.2, 10.5,  7.4, 10.2, 11.5, 15.1, 23.2,  9.7, 13.8, 12.7, 13.1,\n",
       "       12.5,  8.5,  5. ,  6.3,  5.6,  7.2, 12.1,  8.3,  8.5,  5. , 11.9,\n",
       "       27.9, 17.2, 27.5, 15. , 17.2, 17.9, 16.3,  7. ,  7.2,  7.5, 10.4,\n",
       "        8.8,  8.4, 16.7, 14.2, 20.8, 13.4, 11.7,  8.3, 10.2, 10.9, 11. ,\n",
       "        9.5, 14.5, 14.1, 16.1, 14.3, 11.7, 13.4,  9.6,  8.7,  8.4, 12.8,\n",
       "       10.5, 17.1, 18.4, 15.4, 10.8, 11.8, 14.9, 12.6, 14.1, 13. , 13.4,\n",
       "       15.2, 16.1, 17.8, 14.9, 14.1, 12.7, 13.5, 14.9, 20. , 16.4, 17.7,\n",
       "       19.5, 20.2, 21.4, 19.9, 19. , 19.1, 19.1, 20.1, 19.9, 19.6, 23.2,\n",
       "       29.8, 13.8, 13.3, 16.7, 12. , 14.6, 21.4, 23. , 23.7, 25. , 21.8,\n",
       "       20.6, 21.2, 19.1, 20.6, 15.2,  7. ,  8.1, 13.6, 20.1, 21.8, 24.5,\n",
       "       23.1, 19.7, 18.3, 21.2, 17.5, 16.8, 22.4, 20.6, 23.9, 22. , 11.9])"
      ]
     },
     "execution_count": 6,
     "metadata": {},
     "output_type": "execute_result"
    }
   ],
   "source": [
    "boston['target']"
   ]
  },
  {
   "cell_type": "code",
   "execution_count": 7,
   "id": "84689e16",
   "metadata": {},
   "outputs": [
    {
     "data": {
      "text/plain": [
       "array(['CRIM', 'ZN', 'INDUS', 'CHAS', 'NOX', 'RM', 'AGE', 'DIS', 'RAD',\n",
       "       'TAX', 'PTRATIO', 'B', 'LSTAT'], dtype='<U7')"
      ]
     },
     "execution_count": 7,
     "metadata": {},
     "output_type": "execute_result"
    }
   ],
   "source": [
    "boston['feature_names']"
   ]
  },
  {
   "cell_type": "code",
   "execution_count": 8,
   "id": "a26300d3",
   "metadata": {},
   "outputs": [
    {
     "data": {
      "text/html": [
       "<div>\n",
       "<style scoped>\n",
       "    .dataframe tbody tr th:only-of-type {\n",
       "        vertical-align: middle;\n",
       "    }\n",
       "\n",
       "    .dataframe tbody tr th {\n",
       "        vertical-align: top;\n",
       "    }\n",
       "\n",
       "    .dataframe thead th {\n",
       "        text-align: right;\n",
       "    }\n",
       "</style>\n",
       "<table border=\"1\" class=\"dataframe\">\n",
       "  <thead>\n",
       "    <tr style=\"text-align: right;\">\n",
       "      <th></th>\n",
       "      <th>CRIM</th>\n",
       "      <th>ZN</th>\n",
       "      <th>INDUS</th>\n",
       "      <th>CHAS</th>\n",
       "      <th>NOX</th>\n",
       "      <th>RM</th>\n",
       "      <th>AGE</th>\n",
       "      <th>DIS</th>\n",
       "      <th>RAD</th>\n",
       "      <th>TAX</th>\n",
       "      <th>PTRATIO</th>\n",
       "      <th>B</th>\n",
       "      <th>LSTAT</th>\n",
       "    </tr>\n",
       "  </thead>\n",
       "  <tbody>\n",
       "    <tr>\n",
       "      <th>0</th>\n",
       "      <td>0.00632</td>\n",
       "      <td>18.0</td>\n",
       "      <td>2.31</td>\n",
       "      <td>0.0</td>\n",
       "      <td>0.538</td>\n",
       "      <td>6.575</td>\n",
       "      <td>65.2</td>\n",
       "      <td>4.0900</td>\n",
       "      <td>1.0</td>\n",
       "      <td>296.0</td>\n",
       "      <td>15.3</td>\n",
       "      <td>396.90</td>\n",
       "      <td>4.98</td>\n",
       "    </tr>\n",
       "    <tr>\n",
       "      <th>1</th>\n",
       "      <td>0.02731</td>\n",
       "      <td>0.0</td>\n",
       "      <td>7.07</td>\n",
       "      <td>0.0</td>\n",
       "      <td>0.469</td>\n",
       "      <td>6.421</td>\n",
       "      <td>78.9</td>\n",
       "      <td>4.9671</td>\n",
       "      <td>2.0</td>\n",
       "      <td>242.0</td>\n",
       "      <td>17.8</td>\n",
       "      <td>396.90</td>\n",
       "      <td>9.14</td>\n",
       "    </tr>\n",
       "    <tr>\n",
       "      <th>2</th>\n",
       "      <td>0.02729</td>\n",
       "      <td>0.0</td>\n",
       "      <td>7.07</td>\n",
       "      <td>0.0</td>\n",
       "      <td>0.469</td>\n",
       "      <td>7.185</td>\n",
       "      <td>61.1</td>\n",
       "      <td>4.9671</td>\n",
       "      <td>2.0</td>\n",
       "      <td>242.0</td>\n",
       "      <td>17.8</td>\n",
       "      <td>392.83</td>\n",
       "      <td>4.03</td>\n",
       "    </tr>\n",
       "    <tr>\n",
       "      <th>3</th>\n",
       "      <td>0.03237</td>\n",
       "      <td>0.0</td>\n",
       "      <td>2.18</td>\n",
       "      <td>0.0</td>\n",
       "      <td>0.458</td>\n",
       "      <td>6.998</td>\n",
       "      <td>45.8</td>\n",
       "      <td>6.0622</td>\n",
       "      <td>3.0</td>\n",
       "      <td>222.0</td>\n",
       "      <td>18.7</td>\n",
       "      <td>394.63</td>\n",
       "      <td>2.94</td>\n",
       "    </tr>\n",
       "    <tr>\n",
       "      <th>4</th>\n",
       "      <td>0.06905</td>\n",
       "      <td>0.0</td>\n",
       "      <td>2.18</td>\n",
       "      <td>0.0</td>\n",
       "      <td>0.458</td>\n",
       "      <td>7.147</td>\n",
       "      <td>54.2</td>\n",
       "      <td>6.0622</td>\n",
       "      <td>3.0</td>\n",
       "      <td>222.0</td>\n",
       "      <td>18.7</td>\n",
       "      <td>396.90</td>\n",
       "      <td>5.33</td>\n",
       "    </tr>\n",
       "  </tbody>\n",
       "</table>\n",
       "</div>"
      ],
      "text/plain": [
       "      CRIM    ZN  INDUS  CHAS    NOX     RM   AGE     DIS  RAD    TAX  \\\n",
       "0  0.00632  18.0   2.31   0.0  0.538  6.575  65.2  4.0900  1.0  296.0   \n",
       "1  0.02731   0.0   7.07   0.0  0.469  6.421  78.9  4.9671  2.0  242.0   \n",
       "2  0.02729   0.0   7.07   0.0  0.469  7.185  61.1  4.9671  2.0  242.0   \n",
       "3  0.03237   0.0   2.18   0.0  0.458  6.998  45.8  6.0622  3.0  222.0   \n",
       "4  0.06905   0.0   2.18   0.0  0.458  7.147  54.2  6.0622  3.0  222.0   \n",
       "\n",
       "   PTRATIO       B  LSTAT  \n",
       "0     15.3  396.90   4.98  \n",
       "1     17.8  396.90   9.14  \n",
       "2     17.8  392.83   4.03  \n",
       "3     18.7  394.63   2.94  \n",
       "4     18.7  396.90   5.33  "
      ]
     },
     "execution_count": 8,
     "metadata": {},
     "output_type": "execute_result"
    }
   ],
   "source": [
    "df = pd.DataFrame(data = boston['data'], columns = boston['feature_names'])\n",
    "df.head()"
   ]
  },
  {
   "cell_type": "code",
   "execution_count": 9,
   "id": "df1b0b7e",
   "metadata": {},
   "outputs": [],
   "source": [
    "target = pd.Series(boston['target'])"
   ]
  },
  {
   "cell_type": "code",
   "execution_count": 10,
   "id": "1d7bc350",
   "metadata": {},
   "outputs": [],
   "source": [
    "df['Price'] = target"
   ]
  },
  {
   "cell_type": "markdown",
   "id": "935214c9",
   "metadata": {},
   "source": [
    "## Quick EDA"
   ]
  },
  {
   "cell_type": "code",
   "execution_count": 11,
   "id": "1008e5f2",
   "metadata": {},
   "outputs": [
    {
     "name": "stdout",
     "output_type": "stream",
     "text": [
      "<class 'pandas.core.frame.DataFrame'>\n",
      "RangeIndex: 506 entries, 0 to 505\n",
      "Data columns (total 14 columns):\n",
      " #   Column   Non-Null Count  Dtype  \n",
      "---  ------   --------------  -----  \n",
      " 0   CRIM     506 non-null    float64\n",
      " 1   ZN       506 non-null    float64\n",
      " 2   INDUS    506 non-null    float64\n",
      " 3   CHAS     506 non-null    float64\n",
      " 4   NOX      506 non-null    float64\n",
      " 5   RM       506 non-null    float64\n",
      " 6   AGE      506 non-null    float64\n",
      " 7   DIS      506 non-null    float64\n",
      " 8   RAD      506 non-null    float64\n",
      " 9   TAX      506 non-null    float64\n",
      " 10  PTRATIO  506 non-null    float64\n",
      " 11  B        506 non-null    float64\n",
      " 12  LSTAT    506 non-null    float64\n",
      " 13  Price    506 non-null    float64\n",
      "dtypes: float64(14)\n",
      "memory usage: 55.5 KB\n"
     ]
    }
   ],
   "source": [
    "df.info()"
   ]
  },
  {
   "cell_type": "code",
   "execution_count": 12,
   "id": "8f11b1f4",
   "metadata": {},
   "outputs": [
    {
     "data": {
      "text/plain": [
       "CRIM       0\n",
       "ZN         0\n",
       "INDUS      0\n",
       "CHAS       0\n",
       "NOX        0\n",
       "RM         0\n",
       "AGE        0\n",
       "DIS        0\n",
       "RAD        0\n",
       "TAX        0\n",
       "PTRATIO    0\n",
       "B          0\n",
       "LSTAT      0\n",
       "Price      0\n",
       "dtype: int64"
      ]
     },
     "execution_count": 12,
     "metadata": {},
     "output_type": "execute_result"
    }
   ],
   "source": [
    "df.isna().sum()"
   ]
  },
  {
   "cell_type": "code",
   "execution_count": 13,
   "id": "1c52909a",
   "metadata": {},
   "outputs": [
    {
     "data": {
      "text/html": [
       "<div>\n",
       "<style scoped>\n",
       "    .dataframe tbody tr th:only-of-type {\n",
       "        vertical-align: middle;\n",
       "    }\n",
       "\n",
       "    .dataframe tbody tr th {\n",
       "        vertical-align: top;\n",
       "    }\n",
       "\n",
       "    .dataframe thead th {\n",
       "        text-align: right;\n",
       "    }\n",
       "</style>\n",
       "<table border=\"1\" class=\"dataframe\">\n",
       "  <thead>\n",
       "    <tr style=\"text-align: right;\">\n",
       "      <th></th>\n",
       "      <th>count</th>\n",
       "      <th>mean</th>\n",
       "      <th>std</th>\n",
       "      <th>min</th>\n",
       "      <th>25%</th>\n",
       "      <th>50%</th>\n",
       "      <th>75%</th>\n",
       "      <th>max</th>\n",
       "    </tr>\n",
       "  </thead>\n",
       "  <tbody>\n",
       "    <tr>\n",
       "      <th>CRIM</th>\n",
       "      <td>506.0</td>\n",
       "      <td>3.613524</td>\n",
       "      <td>8.601545</td>\n",
       "      <td>0.00632</td>\n",
       "      <td>0.082045</td>\n",
       "      <td>0.25651</td>\n",
       "      <td>3.677083</td>\n",
       "      <td>88.9762</td>\n",
       "    </tr>\n",
       "    <tr>\n",
       "      <th>ZN</th>\n",
       "      <td>506.0</td>\n",
       "      <td>11.363636</td>\n",
       "      <td>23.322453</td>\n",
       "      <td>0.00000</td>\n",
       "      <td>0.000000</td>\n",
       "      <td>0.00000</td>\n",
       "      <td>12.500000</td>\n",
       "      <td>100.0000</td>\n",
       "    </tr>\n",
       "    <tr>\n",
       "      <th>INDUS</th>\n",
       "      <td>506.0</td>\n",
       "      <td>11.136779</td>\n",
       "      <td>6.860353</td>\n",
       "      <td>0.46000</td>\n",
       "      <td>5.190000</td>\n",
       "      <td>9.69000</td>\n",
       "      <td>18.100000</td>\n",
       "      <td>27.7400</td>\n",
       "    </tr>\n",
       "    <tr>\n",
       "      <th>CHAS</th>\n",
       "      <td>506.0</td>\n",
       "      <td>0.069170</td>\n",
       "      <td>0.253994</td>\n",
       "      <td>0.00000</td>\n",
       "      <td>0.000000</td>\n",
       "      <td>0.00000</td>\n",
       "      <td>0.000000</td>\n",
       "      <td>1.0000</td>\n",
       "    </tr>\n",
       "    <tr>\n",
       "      <th>NOX</th>\n",
       "      <td>506.0</td>\n",
       "      <td>0.554695</td>\n",
       "      <td>0.115878</td>\n",
       "      <td>0.38500</td>\n",
       "      <td>0.449000</td>\n",
       "      <td>0.53800</td>\n",
       "      <td>0.624000</td>\n",
       "      <td>0.8710</td>\n",
       "    </tr>\n",
       "    <tr>\n",
       "      <th>RM</th>\n",
       "      <td>506.0</td>\n",
       "      <td>6.284634</td>\n",
       "      <td>0.702617</td>\n",
       "      <td>3.56100</td>\n",
       "      <td>5.885500</td>\n",
       "      <td>6.20850</td>\n",
       "      <td>6.623500</td>\n",
       "      <td>8.7800</td>\n",
       "    </tr>\n",
       "    <tr>\n",
       "      <th>AGE</th>\n",
       "      <td>506.0</td>\n",
       "      <td>68.574901</td>\n",
       "      <td>28.148861</td>\n",
       "      <td>2.90000</td>\n",
       "      <td>45.025000</td>\n",
       "      <td>77.50000</td>\n",
       "      <td>94.075000</td>\n",
       "      <td>100.0000</td>\n",
       "    </tr>\n",
       "    <tr>\n",
       "      <th>DIS</th>\n",
       "      <td>506.0</td>\n",
       "      <td>3.795043</td>\n",
       "      <td>2.105710</td>\n",
       "      <td>1.12960</td>\n",
       "      <td>2.100175</td>\n",
       "      <td>3.20745</td>\n",
       "      <td>5.188425</td>\n",
       "      <td>12.1265</td>\n",
       "    </tr>\n",
       "    <tr>\n",
       "      <th>RAD</th>\n",
       "      <td>506.0</td>\n",
       "      <td>9.549407</td>\n",
       "      <td>8.707259</td>\n",
       "      <td>1.00000</td>\n",
       "      <td>4.000000</td>\n",
       "      <td>5.00000</td>\n",
       "      <td>24.000000</td>\n",
       "      <td>24.0000</td>\n",
       "    </tr>\n",
       "    <tr>\n",
       "      <th>TAX</th>\n",
       "      <td>506.0</td>\n",
       "      <td>408.237154</td>\n",
       "      <td>168.537116</td>\n",
       "      <td>187.00000</td>\n",
       "      <td>279.000000</td>\n",
       "      <td>330.00000</td>\n",
       "      <td>666.000000</td>\n",
       "      <td>711.0000</td>\n",
       "    </tr>\n",
       "    <tr>\n",
       "      <th>PTRATIO</th>\n",
       "      <td>506.0</td>\n",
       "      <td>18.455534</td>\n",
       "      <td>2.164946</td>\n",
       "      <td>12.60000</td>\n",
       "      <td>17.400000</td>\n",
       "      <td>19.05000</td>\n",
       "      <td>20.200000</td>\n",
       "      <td>22.0000</td>\n",
       "    </tr>\n",
       "    <tr>\n",
       "      <th>B</th>\n",
       "      <td>506.0</td>\n",
       "      <td>356.674032</td>\n",
       "      <td>91.294864</td>\n",
       "      <td>0.32000</td>\n",
       "      <td>375.377500</td>\n",
       "      <td>391.44000</td>\n",
       "      <td>396.225000</td>\n",
       "      <td>396.9000</td>\n",
       "    </tr>\n",
       "    <tr>\n",
       "      <th>LSTAT</th>\n",
       "      <td>506.0</td>\n",
       "      <td>12.653063</td>\n",
       "      <td>7.141062</td>\n",
       "      <td>1.73000</td>\n",
       "      <td>6.950000</td>\n",
       "      <td>11.36000</td>\n",
       "      <td>16.955000</td>\n",
       "      <td>37.9700</td>\n",
       "    </tr>\n",
       "    <tr>\n",
       "      <th>Price</th>\n",
       "      <td>506.0</td>\n",
       "      <td>22.532806</td>\n",
       "      <td>9.197104</td>\n",
       "      <td>5.00000</td>\n",
       "      <td>17.025000</td>\n",
       "      <td>21.20000</td>\n",
       "      <td>25.000000</td>\n",
       "      <td>50.0000</td>\n",
       "    </tr>\n",
       "  </tbody>\n",
       "</table>\n",
       "</div>"
      ],
      "text/plain": [
       "         count        mean         std        min         25%        50%  \\\n",
       "CRIM     506.0    3.613524    8.601545    0.00632    0.082045    0.25651   \n",
       "ZN       506.0   11.363636   23.322453    0.00000    0.000000    0.00000   \n",
       "INDUS    506.0   11.136779    6.860353    0.46000    5.190000    9.69000   \n",
       "CHAS     506.0    0.069170    0.253994    0.00000    0.000000    0.00000   \n",
       "NOX      506.0    0.554695    0.115878    0.38500    0.449000    0.53800   \n",
       "RM       506.0    6.284634    0.702617    3.56100    5.885500    6.20850   \n",
       "AGE      506.0   68.574901   28.148861    2.90000   45.025000   77.50000   \n",
       "DIS      506.0    3.795043    2.105710    1.12960    2.100175    3.20745   \n",
       "RAD      506.0    9.549407    8.707259    1.00000    4.000000    5.00000   \n",
       "TAX      506.0  408.237154  168.537116  187.00000  279.000000  330.00000   \n",
       "PTRATIO  506.0   18.455534    2.164946   12.60000   17.400000   19.05000   \n",
       "B        506.0  356.674032   91.294864    0.32000  375.377500  391.44000   \n",
       "LSTAT    506.0   12.653063    7.141062    1.73000    6.950000   11.36000   \n",
       "Price    506.0   22.532806    9.197104    5.00000   17.025000   21.20000   \n",
       "\n",
       "                75%       max  \n",
       "CRIM       3.677083   88.9762  \n",
       "ZN        12.500000  100.0000  \n",
       "INDUS     18.100000   27.7400  \n",
       "CHAS       0.000000    1.0000  \n",
       "NOX        0.624000    0.8710  \n",
       "RM         6.623500    8.7800  \n",
       "AGE       94.075000  100.0000  \n",
       "DIS        5.188425   12.1265  \n",
       "RAD       24.000000   24.0000  \n",
       "TAX      666.000000  711.0000  \n",
       "PTRATIO   20.200000   22.0000  \n",
       "B        396.225000  396.9000  \n",
       "LSTAT     16.955000   37.9700  \n",
       "Price     25.000000   50.0000  "
      ]
     },
     "execution_count": 13,
     "metadata": {},
     "output_type": "execute_result"
    }
   ],
   "source": [
    "df.describe().T"
   ]
  },
  {
   "cell_type": "code",
   "execution_count": 14,
   "id": "2f9af1f5",
   "metadata": {},
   "outputs": [],
   "source": [
    "bsDesc = []\n",
    "\n",
    "for i in df.columns:\n",
    "    bsDesc.append([\n",
    "        i,\n",
    "        df[i].dtypes,\n",
    "        df[i].isna().sum(),\n",
    "        round((df[i].isna().sum() / len(df)) * 100, 2),\n",
    "        df[i].nunique(),\n",
    "        df[i].drop_duplicates().sample(2).values\n",
    "    ])"
   ]
  },
  {
   "cell_type": "code",
   "execution_count": 15,
   "id": "4f258743",
   "metadata": {},
   "outputs": [
    {
     "data": {
      "text/html": [
       "<div>\n",
       "<style scoped>\n",
       "    .dataframe tbody tr th:only-of-type {\n",
       "        vertical-align: middle;\n",
       "    }\n",
       "\n",
       "    .dataframe tbody tr th {\n",
       "        vertical-align: top;\n",
       "    }\n",
       "\n",
       "    .dataframe thead th {\n",
       "        text-align: right;\n",
       "    }\n",
       "</style>\n",
       "<table border=\"1\" class=\"dataframe\">\n",
       "  <thead>\n",
       "    <tr style=\"text-align: right;\">\n",
       "      <th></th>\n",
       "      <th>Features</th>\n",
       "      <th>DataType</th>\n",
       "      <th>Null</th>\n",
       "      <th>NullPercentage</th>\n",
       "      <th>Unique</th>\n",
       "      <th>UniqueSample</th>\n",
       "    </tr>\n",
       "  </thead>\n",
       "  <tbody>\n",
       "    <tr>\n",
       "      <th>0</th>\n",
       "      <td>CRIM</td>\n",
       "      <td>float64</td>\n",
       "      <td>0</td>\n",
       "      <td>0.0</td>\n",
       "      <td>504</td>\n",
       "      <td>[0.84054, 0.12204]</td>\n",
       "    </tr>\n",
       "    <tr>\n",
       "      <th>1</th>\n",
       "      <td>ZN</td>\n",
       "      <td>float64</td>\n",
       "      <td>0</td>\n",
       "      <td>0.0</td>\n",
       "      <td>26</td>\n",
       "      <td>[100.0, 22.0]</td>\n",
       "    </tr>\n",
       "    <tr>\n",
       "      <th>2</th>\n",
       "      <td>INDUS</td>\n",
       "      <td>float64</td>\n",
       "      <td>0</td>\n",
       "      <td>0.0</td>\n",
       "      <td>76</td>\n",
       "      <td>[27.74, 5.19]</td>\n",
       "    </tr>\n",
       "    <tr>\n",
       "      <th>3</th>\n",
       "      <td>CHAS</td>\n",
       "      <td>float64</td>\n",
       "      <td>0</td>\n",
       "      <td>0.0</td>\n",
       "      <td>2</td>\n",
       "      <td>[1.0, 0.0]</td>\n",
       "    </tr>\n",
       "    <tr>\n",
       "      <th>4</th>\n",
       "      <td>NOX</td>\n",
       "      <td>float64</td>\n",
       "      <td>0</td>\n",
       "      <td>0.0</td>\n",
       "      <td>81</td>\n",
       "      <td>[0.624, 0.532]</td>\n",
       "    </tr>\n",
       "    <tr>\n",
       "      <th>5</th>\n",
       "      <td>RM</td>\n",
       "      <td>float64</td>\n",
       "      <td>0</td>\n",
       "      <td>0.0</td>\n",
       "      <td>446</td>\n",
       "      <td>[7.041, 6.101]</td>\n",
       "    </tr>\n",
       "    <tr>\n",
       "      <th>6</th>\n",
       "      <td>AGE</td>\n",
       "      <td>float64</td>\n",
       "      <td>0</td>\n",
       "      <td>0.0</td>\n",
       "      <td>356</td>\n",
       "      <td>[23.4, 77.8]</td>\n",
       "    </tr>\n",
       "    <tr>\n",
       "      <th>7</th>\n",
       "      <td>DIS</td>\n",
       "      <td>float64</td>\n",
       "      <td>0</td>\n",
       "      <td>0.0</td>\n",
       "      <td>412</td>\n",
       "      <td>[5.7321, 4.2392]</td>\n",
       "    </tr>\n",
       "    <tr>\n",
       "      <th>8</th>\n",
       "      <td>RAD</td>\n",
       "      <td>float64</td>\n",
       "      <td>0</td>\n",
       "      <td>0.0</td>\n",
       "      <td>9</td>\n",
       "      <td>[6.0, 2.0]</td>\n",
       "    </tr>\n",
       "    <tr>\n",
       "      <th>9</th>\n",
       "      <td>TAX</td>\n",
       "      <td>float64</td>\n",
       "      <td>0</td>\n",
       "      <td>0.0</td>\n",
       "      <td>66</td>\n",
       "      <td>[252.0, 334.0]</td>\n",
       "    </tr>\n",
       "    <tr>\n",
       "      <th>10</th>\n",
       "      <td>PTRATIO</td>\n",
       "      <td>float64</td>\n",
       "      <td>0</td>\n",
       "      <td>0.0</td>\n",
       "      <td>46</td>\n",
       "      <td>[15.1, 20.9]</td>\n",
       "    </tr>\n",
       "    <tr>\n",
       "      <th>11</th>\n",
       "      <td>B</td>\n",
       "      <td>float64</td>\n",
       "      <td>0</td>\n",
       "      <td>0.0</td>\n",
       "      <td>357</td>\n",
       "      <td>[395.24, 387.69]</td>\n",
       "    </tr>\n",
       "    <tr>\n",
       "      <th>12</th>\n",
       "      <td>LSTAT</td>\n",
       "      <td>float64</td>\n",
       "      <td>0</td>\n",
       "      <td>0.0</td>\n",
       "      <td>455</td>\n",
       "      <td>[6.12, 23.27]</td>\n",
       "    </tr>\n",
       "    <tr>\n",
       "      <th>13</th>\n",
       "      <td>Price</td>\n",
       "      <td>float64</td>\n",
       "      <td>0</td>\n",
       "      <td>0.0</td>\n",
       "      <td>229</td>\n",
       "      <td>[17.2, 8.4]</td>\n",
       "    </tr>\n",
       "  </tbody>\n",
       "</table>\n",
       "</div>"
      ],
      "text/plain": [
       "   Features DataType  Null  NullPercentage  Unique        UniqueSample\n",
       "0      CRIM  float64     0             0.0     504  [0.84054, 0.12204]\n",
       "1        ZN  float64     0             0.0      26       [100.0, 22.0]\n",
       "2     INDUS  float64     0             0.0      76       [27.74, 5.19]\n",
       "3      CHAS  float64     0             0.0       2          [1.0, 0.0]\n",
       "4       NOX  float64     0             0.0      81      [0.624, 0.532]\n",
       "5        RM  float64     0             0.0     446      [7.041, 6.101]\n",
       "6       AGE  float64     0             0.0     356        [23.4, 77.8]\n",
       "7       DIS  float64     0             0.0     412    [5.7321, 4.2392]\n",
       "8       RAD  float64     0             0.0       9          [6.0, 2.0]\n",
       "9       TAX  float64     0             0.0      66      [252.0, 334.0]\n",
       "10  PTRATIO  float64     0             0.0      46        [15.1, 20.9]\n",
       "11        B  float64     0             0.0     357    [395.24, 387.69]\n",
       "12    LSTAT  float64     0             0.0     455       [6.12, 23.27]\n",
       "13    Price  float64     0             0.0     229         [17.2, 8.4]"
      ]
     },
     "execution_count": 15,
     "metadata": {},
     "output_type": "execute_result"
    }
   ],
   "source": [
    "pd.DataFrame(data = bsDesc,\n",
    "            columns=[\n",
    "                'Features',\n",
    "                'DataType',\n",
    "                'Null',\n",
    "                'NullPercentage',\n",
    "                'Unique',\n",
    "                'UniqueSample'\n",
    "            ])"
   ]
  },
  {
   "cell_type": "code",
   "execution_count": 16,
   "id": "4b9f7686",
   "metadata": {},
   "outputs": [],
   "source": [
    "import warnings\n",
    "warnings.filterwarnings('ignore')"
   ]
  },
  {
   "cell_type": "code",
   "execution_count": 17,
   "id": "ff9ae09f",
   "metadata": {},
   "outputs": [
    {
     "data": {
      "image/png": "[encoded data removed]",
      "text/plain": [
       "<Figure size 432x288 with 1 Axes>"
      ]
     },
     "metadata": {
      "needs_background": "light"
     },
     "output_type": "display_data"
    }
   ],
   "source": [
    "sns.boxplot(df['Price'])\n",
    "plt.show()"
   ]
  },
  {
   "cell_type": "code",
   "execution_count": 18,
   "id": "d12c605f",
   "metadata": {},
   "outputs": [
    {
     "data": {
      "image/png": "[encoded data removed]",
      "text/plain": [
       "<Figure size 432x288 with 1 Axes>"
      ]
     },
     "metadata": {
      "needs_background": "light"
     },
     "output_type": "display_data"
    }
   ],
   "source": [
    "sns.distplot(df['Price'])\n",
    "plt.show()"
   ]
  },
  {
   "cell_type": "code",
   "execution_count": 19,
   "id": "3ea40326",
   "metadata": {},
   "outputs": [
    {
     "data": {
      "image/png": "[encoded data removed]",
      "text/plain": [
       "<Figure size 864x720 with 2 Axes>"
      ]
     },
     "metadata": {
      "needs_background": "light"
     },
     "output_type": "display_data"
    }
   ],
   "source": [
    "plt.figure(figsize=(12,10))\n",
    "sns.heatmap(df.corr(), annot=True)\n",
    "plt.show()"
   ]
  },
  {
   "cell_type": "markdown",
   "id": "f5cd3ce2",
   "metadata": {},
   "source": [
    "## Feature Engineering & Feature Selection"
   ]
  },
  {
   "cell_type": "code",
   "execution_count": 20,
   "id": "92871475",
   "metadata": {},
   "outputs": [],
   "source": [
    "df.drop(columns=['ZN', 'CHAS', 'DIS', 'RAD', 'B'], inplace=True)"
   ]
  },
  {
   "cell_type": "code",
   "execution_count": 21,
   "id": "63f57f4e",
   "metadata": {},
   "outputs": [],
   "source": [
    "X = df.drop(columns='Price')\n",
    "y = df['Price']"
   ]
  },
  {
   "cell_type": "code",
   "execution_count": 22,
   "id": "80ac264c",
   "metadata": {},
   "outputs": [],
   "source": [
    "from sklearn.model_selection import train_test_split"
   ]
  },
  {
   "cell_type": "code",
   "execution_count": 23,
   "id": "cb25f1dc",
   "metadata": {},
   "outputs": [],
   "source": [
    "X_train, X_test, y_train, y_test = train_test_split(X, y, test_size = .20, random_state = 13)"
   ]
  },
  {
   "cell_type": "code",
   "execution_count": 24,
   "id": "9e6b0bcb",
   "metadata": {},
   "outputs": [
    {
     "data": {
      "text/html": [
       "<div>\n",
       "<style scoped>\n",
       "    .dataframe tbody tr th:only-of-type {\n",
       "        vertical-align: middle;\n",
       "    }\n",
       "\n",
       "    .dataframe tbody tr th {\n",
       "        vertical-align: top;\n",
       "    }\n",
       "\n",
       "    .dataframe thead th {\n",
       "        text-align: right;\n",
       "    }\n",
       "</style>\n",
       "<table border=\"1\" class=\"dataframe\">\n",
       "  <thead>\n",
       "    <tr style=\"text-align: right;\">\n",
       "      <th></th>\n",
       "      <th>CRIM</th>\n",
       "      <th>INDUS</th>\n",
       "      <th>NOX</th>\n",
       "      <th>RM</th>\n",
       "      <th>AGE</th>\n",
       "      <th>TAX</th>\n",
       "      <th>PTRATIO</th>\n",
       "      <th>LSTAT</th>\n",
       "    </tr>\n",
       "  </thead>\n",
       "  <tbody>\n",
       "    <tr>\n",
       "      <th>51</th>\n",
       "      <td>0.04337</td>\n",
       "      <td>5.64</td>\n",
       "      <td>0.439</td>\n",
       "      <td>6.115</td>\n",
       "      <td>63.0</td>\n",
       "      <td>243.0</td>\n",
       "      <td>16.8</td>\n",
       "      <td>9.43</td>\n",
       "    </tr>\n",
       "    <tr>\n",
       "      <th>265</th>\n",
       "      <td>0.76162</td>\n",
       "      <td>3.97</td>\n",
       "      <td>0.647</td>\n",
       "      <td>5.560</td>\n",
       "      <td>62.8</td>\n",
       "      <td>264.0</td>\n",
       "      <td>13.0</td>\n",
       "      <td>10.45</td>\n",
       "    </tr>\n",
       "    <tr>\n",
       "      <th>66</th>\n",
       "      <td>0.04379</td>\n",
       "      <td>3.37</td>\n",
       "      <td>0.398</td>\n",
       "      <td>5.787</td>\n",
       "      <td>31.1</td>\n",
       "      <td>337.0</td>\n",
       "      <td>16.1</td>\n",
       "      <td>10.24</td>\n",
       "    </tr>\n",
       "    <tr>\n",
       "      <th>12</th>\n",
       "      <td>0.09378</td>\n",
       "      <td>7.87</td>\n",
       "      <td>0.524</td>\n",
       "      <td>5.889</td>\n",
       "      <td>39.0</td>\n",
       "      <td>311.0</td>\n",
       "      <td>15.2</td>\n",
       "      <td>15.71</td>\n",
       "    </tr>\n",
       "    <tr>\n",
       "      <th>347</th>\n",
       "      <td>0.01870</td>\n",
       "      <td>4.15</td>\n",
       "      <td>0.429</td>\n",
       "      <td>6.516</td>\n",
       "      <td>27.7</td>\n",
       "      <td>351.0</td>\n",
       "      <td>17.9</td>\n",
       "      <td>6.36</td>\n",
       "    </tr>\n",
       "  </tbody>\n",
       "</table>\n",
       "</div>"
      ],
      "text/plain": [
       "        CRIM  INDUS    NOX     RM   AGE    TAX  PTRATIO  LSTAT\n",
       "51   0.04337   5.64  0.439  6.115  63.0  243.0     16.8   9.43\n",
       "265  0.76162   3.97  0.647  5.560  62.8  264.0     13.0  10.45\n",
       "66   0.04379   3.37  0.398  5.787  31.1  337.0     16.1  10.24\n",
       "12   0.09378   7.87  0.524  5.889  39.0  311.0     15.2  15.71\n",
       "347  0.01870   4.15  0.429  6.516  27.7  351.0     17.9   6.36"
      ]
     },
     "execution_count": 24,
     "metadata": {},
     "output_type": "execute_result"
    }
   ],
   "source": [
    "X_train.head()"
   ]
  },
  {
   "cell_type": "code",
   "execution_count": 25,
   "id": "43b8a095",
   "metadata": {},
   "outputs": [
    {
     "data": {
      "text/html": [
       "<div>\n",
       "<style scoped>\n",
       "    .dataframe tbody tr th:only-of-type {\n",
       "        vertical-align: middle;\n",
       "    }\n",
       "\n",
       "    .dataframe tbody tr th {\n",
       "        vertical-align: top;\n",
       "    }\n",
       "\n",
       "    .dataframe thead th {\n",
       "        text-align: right;\n",
       "    }\n",
       "</style>\n",
       "<table border=\"1\" class=\"dataframe\">\n",
       "  <thead>\n",
       "    <tr style=\"text-align: right;\">\n",
       "      <th></th>\n",
       "      <th>CRIM</th>\n",
       "      <th>INDUS</th>\n",
       "      <th>NOX</th>\n",
       "      <th>RM</th>\n",
       "      <th>AGE</th>\n",
       "      <th>TAX</th>\n",
       "      <th>PTRATIO</th>\n",
       "      <th>LSTAT</th>\n",
       "    </tr>\n",
       "  </thead>\n",
       "  <tbody>\n",
       "    <tr>\n",
       "      <th>477</th>\n",
       "      <td>15.02340</td>\n",
       "      <td>18.10</td>\n",
       "      <td>0.614</td>\n",
       "      <td>5.304</td>\n",
       "      <td>97.3</td>\n",
       "      <td>666.0</td>\n",
       "      <td>20.2</td>\n",
       "      <td>24.91</td>\n",
       "    </tr>\n",
       "    <tr>\n",
       "      <th>451</th>\n",
       "      <td>5.44114</td>\n",
       "      <td>18.10</td>\n",
       "      <td>0.713</td>\n",
       "      <td>6.655</td>\n",
       "      <td>98.2</td>\n",
       "      <td>666.0</td>\n",
       "      <td>20.2</td>\n",
       "      <td>17.73</td>\n",
       "    </tr>\n",
       "    <tr>\n",
       "      <th>29</th>\n",
       "      <td>1.00245</td>\n",
       "      <td>8.14</td>\n",
       "      <td>0.538</td>\n",
       "      <td>6.674</td>\n",
       "      <td>87.3</td>\n",
       "      <td>307.0</td>\n",
       "      <td>21.0</td>\n",
       "      <td>11.98</td>\n",
       "    </tr>\n",
       "    <tr>\n",
       "      <th>0</th>\n",
       "      <td>0.00632</td>\n",
       "      <td>2.31</td>\n",
       "      <td>0.538</td>\n",
       "      <td>6.575</td>\n",
       "      <td>65.2</td>\n",
       "      <td>296.0</td>\n",
       "      <td>15.3</td>\n",
       "      <td>4.98</td>\n",
       "    </tr>\n",
       "    <tr>\n",
       "      <th>312</th>\n",
       "      <td>0.26169</td>\n",
       "      <td>9.90</td>\n",
       "      <td>0.544</td>\n",
       "      <td>6.023</td>\n",
       "      <td>90.4</td>\n",
       "      <td>304.0</td>\n",
       "      <td>18.4</td>\n",
       "      <td>11.72</td>\n",
       "    </tr>\n",
       "  </tbody>\n",
       "</table>\n",
       "</div>"
      ],
      "text/plain": [
       "         CRIM  INDUS    NOX     RM   AGE    TAX  PTRATIO  LSTAT\n",
       "477  15.02340  18.10  0.614  5.304  97.3  666.0     20.2  24.91\n",
       "451   5.44114  18.10  0.713  6.655  98.2  666.0     20.2  17.73\n",
       "29    1.00245   8.14  0.538  6.674  87.3  307.0     21.0  11.98\n",
       "0     0.00632   2.31  0.538  6.575  65.2  296.0     15.3   4.98\n",
       "312   0.26169   9.90  0.544  6.023  90.4  304.0     18.4  11.72"
      ]
     },
     "execution_count": 25,
     "metadata": {},
     "output_type": "execute_result"
    }
   ],
   "source": [
    "X_test.head()"
   ]
  },
  {
   "cell_type": "code",
   "execution_count": 26,
   "id": "ab0bdd66",
   "metadata": {},
   "outputs": [
    {
     "data": {
      "text/plain": [
       "51     20.5\n",
       "265    22.8\n",
       "66     19.4\n",
       "12     21.7\n",
       "347    23.1\n",
       "Name: Price, dtype: float64"
      ]
     },
     "execution_count": 26,
     "metadata": {},
     "output_type": "execute_result"
    }
   ],
   "source": [
    "y_train.head()"
   ]
  },
  {
   "cell_type": "code",
   "execution_count": 27,
   "id": "4be8e0d9",
   "metadata": {},
   "outputs": [
    {
     "data": {
      "text/plain": [
       "477    12.0\n",
       "451    15.2\n",
       "29     21.0\n",
       "0      24.0\n",
       "312    19.4\n",
       "Name: Price, dtype: float64"
      ]
     },
     "execution_count": 27,
     "metadata": {},
     "output_type": "execute_result"
    }
   ],
   "source": [
    "y_test.head()"
   ]
  },
  {
   "cell_type": "markdown",
   "id": "f3a891fe",
   "metadata": {},
   "source": [
    "## Machine Learning Modelling"
   ]
  },
  {
   "cell_type": "markdown",
   "id": "fec978c7",
   "metadata": {},
   "source": [
    "### LinearRegression"
   ]
  },
  {
   "cell_type": "code",
   "execution_count": 28,
   "id": "1196269d",
   "metadata": {},
   "outputs": [],
   "source": [
    "from sklearn.linear_model import LinearRegression"
   ]
  },
  {
   "cell_type": "code",
   "execution_count": 29,
   "id": "e54e6eac",
   "metadata": {},
   "outputs": [],
   "source": [
    "Model = LinearRegression(fit_intercept=True)"
   ]
  },
  {
   "cell_type": "code",
   "execution_count": 30,
   "id": "27d0e3bc",
   "metadata": {},
   "outputs": [
    {
     "data": {
      "text/html": [
       "<style>#sk-container-id-1 {color: black;background-color: white;}#sk-container-id-1 pre{padding: 0;}#sk-container-id-1 div.sk-toggleable {background-color: white;}#sk-container-id-1 label.sk-toggleable__label {cursor: pointer;display: block;width: 100%;margin-bottom: 0;padding: 0.3em;box-sizing: border-box;text-align: center;}#sk-container-id-1 label.sk-toggleable__label-arrow:before {content: \"▸\";float: left;margin-right: 0.25em;color: #696969;}#sk-container-id-1 label.sk-toggleable__label-arrow:hover:before {color: black;}#sk-container-id-1 div.sk-estimator:hover label.sk-toggleable__label-arrow:before {color: black;}#sk-container-id-1 div.sk-toggleable__content {max-height: 0;max-width: 0;overflow: hidden;text-align: left;background-color: #f0f8ff;}#sk-container-id-1 div.sk-toggleable__content pre {margin: 0.2em;color: black;border-radius: 0.25em;background-color: #f0f8ff;}#sk-container-id-1 input.sk-toggleable__control:checked~div.sk-toggleable__content {max-height: 200px;max-width: 100%;overflow: auto;}#sk-container-id-1 input.sk-toggleable__control:checked~label.sk-toggleable__label-arrow:before {content: \"▾\";}#sk-container-id-1 div.sk-estimator input.sk-toggleable__control:checked~label.sk-toggleable__label {background-color: #d4ebff;}#sk-container-id-1 div.sk-label input.sk-toggleable__control:checked~label.sk-toggleable__label {background-color: #d4ebff;}#sk-container-id-1 input.sk-hidden--visually {border: 0;clip: rect(1px 1px 1px 1px);clip: rect(1px, 1px, 1px, 1px);height: 1px;margin: -1px;overflow: hidden;padding: 0;position: absolute;width: 1px;}#sk-container-id-1 div.sk-estimator {font-family: monospace;background-color: #f0f8ff;border: 1px dotted black;border-radius: 0.25em;box-sizing: border-box;margin-bottom: 0.5em;}#sk-container-id-1 div.sk-estimator:hover {background-color: #d4ebff;}#sk-container-id-1 div.sk-parallel-item::after {content: \"\";width: 100%;border-bottom: 1px solid gray;flex-grow: 1;}#sk-container-id-1 div.sk-label:hover label.sk-toggleable__label {background-color: #d4ebff;}#sk-container-id-1 div.sk-serial::before {content: \"\";position: absolute;border-left: 1px solid gray;box-sizing: border-box;top: 0;bottom: 0;left: 50%;z-index: 0;}#sk-container-id-1 div.sk-serial {display: flex;flex-direction: column;align-items: center;background-color: white;padding-right: 0.2em;padding-left: 0.2em;position: relative;}#sk-container-id-1 div.sk-item {position: relative;z-index: 1;}#sk-container-id-1 div.sk-parallel {display: flex;align-items: stretch;justify-content: center;background-color: white;position: relative;}#sk-container-id-1 div.sk-item::before, #sk-container-id-1 div.sk-parallel-item::before {content: \"\";position: absolute;border-left: 1px solid gray;box-sizing: border-box;top: 0;bottom: 0;left: 50%;z-index: -1;}#sk-container-id-1 div.sk-parallel-item {display: flex;flex-direction: column;z-index: 1;position: relative;background-color: white;}#sk-container-id-1 div.sk-parallel-item:first-child::after {align-self: flex-end;width: 50%;}#sk-container-id-1 div.sk-parallel-item:last-child::after {align-self: flex-start;width: 50%;}#sk-container-id-1 div.sk-parallel-item:only-child::after {width: 0;}#sk-container-id-1 div.sk-dashed-wrapped {border: 1px dashed gray;margin: 0 0.4em 0.5em 0.4em;box-sizing: border-box;padding-bottom: 0.4em;background-color: white;}#sk-container-id-1 div.sk-label label {font-family: monospace;font-weight: bold;display: inline-block;line-height: 1.2em;}#sk-container-id-1 div.sk-label-container {text-align: center;}#sk-container-id-1 div.sk-container {/* jupyter's `normalize.less` sets `[hidden] { display: none; }` but bootstrap.min.css set `[hidden] { display: none !important; }` so we also need the `!important` here to be able to override the default hidden behavior on the sphinx rendered scikit-learn.org. See: https://github.com/scikit-learn/scikit-learn/issues/21755 */display: inline-block !important;position: relative;}#sk-container-id-1 div.sk-text-repr-fallback {display: none;}</style><div id=\"sk-container-id-1\" class=\"sk-top-container\"><div class=\"sk-text-repr-fallback\"><pre>LinearRegression()</pre><b>In a Jupyter environment, please rerun this cell to show the HTML representation or trust the notebook. <br />On GitHub, the HTML representation is unable to render, please try loading this page with nbviewer.org.</b></div><div class=\"sk-container\" hidden><div class=\"sk-item\"><div class=\"sk-estimator sk-toggleable\"><input class=\"sk-toggleable__control sk-hidden--visually\" id=\"sk-estimator-id-1\" type=\"checkbox\" checked><label for=\"sk-estimator-id-1\" class=\"sk-toggleable__label sk-toggleable__label-arrow\">LinearRegression</label><div class=\"sk-toggleable__content\"><pre>LinearRegression()</pre></div></div></div></div></div>"
      ],
      "text/plain": [
       "LinearRegression()"
      ]
     },
     "execution_count": 30,
     "metadata": {},
     "output_type": "execute_result"
    }
   ],
   "source": [
    "Model.fit(X_train, y_train)"
   ]
  },
  {
   "cell_type": "markdown",
   "id": "e0ac279b",
   "metadata": {},
   "source": [
    "## Quick Evaluation Matrix"
   ]
  },
  {
   "cell_type": "code",
   "execution_count": 31,
   "id": "25de5b05",
   "metadata": {},
   "outputs": [
    {
     "data": {
      "text/plain": [
       "0.6791618509642396"
      ]
     },
     "execution_count": 31,
     "metadata": {},
     "output_type": "execute_result"
    }
   ],
   "source": [
    "Model.score(X_train, y_train)"
   ]
  },
  {
   "cell_type": "code",
   "execution_count": 32,
   "id": "0ebb8992",
   "metadata": {},
   "outputs": [
    {
     "data": {
      "text/plain": [
       "0.6994662028811741"
      ]
     },
     "execution_count": 32,
     "metadata": {},
     "output_type": "execute_result"
    }
   ],
   "source": [
    "Model.score(X_test, y_test)"
   ]
  },
  {
   "cell_type": "code",
   "execution_count": 33,
   "id": "d1651e3e",
   "metadata": {},
   "outputs": [
    {
     "data": {
      "text/plain": [
       "array([25.68755746, 25.0695995 , 23.48983059, 21.13656594, 27.24430354,\n",
       "       26.07798939, 25.15995681, 16.36163916, 19.28954616, 39.39275112,\n",
       "       14.59096802, 23.51601322, 33.72428825, 18.19427064, 15.91921856,\n",
       "       22.36645993,  4.43308891, 31.72726882, 31.9485536 , 36.4278029 ,\n",
       "       27.50558853, 24.71119431, 23.49280476,  4.9301271 , 38.10829458,\n",
       "       20.36855465, 36.81766292, 21.49819336, 17.48945033, 19.66343628,\n",
       "       15.7942641 ,  7.57541356, 19.59506156, 26.33074469, 21.83857468,\n",
       "       20.47473766, 24.08999249, 28.74225116, 29.81806823, 27.1104615 ,\n",
       "       20.17101481, 29.92606665, 19.05414914, 30.040753  , 20.57409884,\n",
       "       20.75493534, 20.28078921, 26.99423862, 33.41049375, 28.01394568,\n",
       "       14.21022098, 11.58219382, 29.94552457, 25.05658743, 28.79636678,\n",
       "        3.56265375, 18.61127765, 23.48622431, 17.44123319, 19.03035013,\n",
       "       31.46646179, 27.91121595, 27.82651905, 18.81502128, 25.37208083,\n",
       "       20.42673453, 27.8716774 , 28.52328451, 21.83522863, 30.10745273,\n",
       "       29.53257757, 25.24363501, 21.08808613, 38.00751485, 10.04617569,\n",
       "       26.30228628, 17.72227307, 17.58221079, 17.28046506, 20.67306472,\n",
       "       33.61724214, 19.48441103, 16.66184672, 20.09725238, 33.53840879,\n",
       "       18.21672916,  6.65900268, 19.46635322, 32.28171041, 19.93091756,\n",
       "       33.50294503, 19.31987678,  5.79724949, 25.55548559, 26.59512739,\n",
       "       41.61524198, 24.70548882, 23.81653848, 24.41652828, 15.84934818,\n",
       "        7.39259597, 22.37323245, 19.85156114, 29.13062004, 17.96897436,\n",
       "       29.78631646, 15.68688221, 21.47421791, 32.14384886, 22.33647104,\n",
       "       17.72039948, 26.38540213, 24.65783695, 30.85732856, 28.03103579,\n",
       "       18.57077352, 16.34122919, 24.37611074, 20.54596064, 27.49350392,\n",
       "       23.47665588, 20.64407969, 26.57707522, 23.05059636, 31.04437703,\n",
       "       20.48756921, 22.23807519, 10.28936949, 25.42147638, 16.76576146,\n",
       "       24.11237987, 20.64119037, 32.26280567, 16.69384445, 24.71386782,\n",
       "       11.11002579, 24.30500053,  3.20215099, 28.32499709, 22.63694992,\n",
       "       20.40084665, 26.93053597, 15.04261176, 11.86896286, 20.83320727,\n",
       "       28.55050356, 18.54078794,  7.85584224, 24.79634736, 10.20178783,\n",
       "       24.39481609, 22.78243659, 16.17792406, 24.71271511, 22.63952677,\n",
       "       21.63372037, 30.65264816, 11.86882001, 30.99878003, 42.97705469,\n",
       "       31.25303925, 14.93019991, 10.5294627 , 25.20276509, 25.21455151,\n",
       "       15.23119179, 27.72273406, 14.64262274, 24.6019772 , 24.87630181,\n",
       "       18.41039964, 20.8535305 , 11.65605851, 26.76956494, 29.24664975,\n",
       "       18.20838886, 21.29712131, 20.12203361, 14.72351337, 24.55563674,\n",
       "       28.36151208, 23.44666811, 14.80409505, 31.35459159, 30.64308101,\n",
       "       12.99653229, 20.98484939, 19.25091072, 32.8022067 , 16.35149647,\n",
       "       18.20164359, 22.20667556, 24.64424813, 29.79310543, 18.6913707 ,\n",
       "       29.22501808, 21.52172147, 15.27352657, 21.12371521, 24.58348772,\n",
       "       17.03137102, 21.90597915, 24.62399569, 28.7404807 , 28.2769111 ,\n",
       "       20.42909576, 39.96671979, 37.69042979, 11.1546164 , 28.97853116,\n",
       "       16.19934024, 13.19101698, 17.67460117, 23.53891822, 13.58453955,\n",
       "       17.81522648, 27.43731094, 20.68480309, 33.61885643, 24.17351247,\n",
       "       24.01736381, 26.73527634,  4.23201802, 24.02630817, 25.36751479,\n",
       "       30.94101819, 15.78190935, 18.9247475 , 37.53611898, 20.605431  ,\n",
       "       24.43446137, 18.00000152, 23.85697605, 21.56403719, 12.72399772,\n",
       "       13.38784166, 26.87480635, 32.93930589, 32.50863821, 25.41745094,\n",
       "       24.52344065, 18.37014957, 14.91309383, 17.25030854, 25.52954796,\n",
       "       34.82994083, 28.21383952, 19.06450547, 23.08035154, 13.34279171,\n",
       "       31.95084846, 18.22505479, 24.76785261, 18.00868506, 18.26445895,\n",
       "       23.61469691, 31.11865768, 24.30569839, 21.6864537 , 20.24931706,\n",
       "       20.35664888, 27.13459238, 14.43697263, 20.34534229, 39.13124445,\n",
       "       39.24171672, 27.65289982, 23.12913854, 10.58996066, 34.87538073,\n",
       "       31.71115594, 28.54960406, 22.429616  ,  9.50136399, 27.27793633,\n",
       "       39.01285012, 19.30678764, 19.89584846, 21.15550604, 27.86775023,\n",
       "       25.62669237, 16.98144548, 36.51784102, 17.17506304, 25.818481  ,\n",
       "       30.78292057, 20.69790147, 28.40106009, 22.15770413, 33.17168995,\n",
       "       31.17214561, 20.98893711, 33.5306241 , 15.98529274, 26.99229459,\n",
       "       33.47562264, 11.47488722, 18.45527468, 31.60776352, 30.6102933 ,\n",
       "       11.14249344, 21.96501089, 32.97227734, 38.50693312, 11.60744093,\n",
       "       25.31163973, 28.64360185, 18.15676267, 23.36628181, 18.95396485,\n",
       "       21.83719541, 17.84743259,  9.37232734, 28.83082485, 15.69581403,\n",
       "       17.18131877, 20.04736844, 31.44525937,  2.19536092, 22.90577055,\n",
       "       21.29677895, 18.95357734, 27.62379902, 21.95355138, 21.30748725,\n",
       "       19.35555511, 20.93550585, 27.85950216, 28.5447717 , 27.94001391,\n",
       "       35.44486601, 36.5548312 ,  9.28745592, 28.40844428, 20.03458831,\n",
       "       32.09017855, 18.70991609, 26.88961222, 12.46446121, 20.87035325,\n",
       "       13.95029885, 21.76369434, 39.4623193 , 28.45503031, 27.87577603,\n",
       "       19.10942339, 41.31164683, 13.3513405 , 16.09850381, 20.14058506,\n",
       "       14.49350812, 20.75040275, 23.83192244, 17.54406125, 26.44459642,\n",
       "       24.05136688, 29.94758788, 13.65708813, 30.89257552, 19.262996  ,\n",
       "       12.24383331,  1.51922984, 33.63911816, 29.50085432, 16.89845138,\n",
       "       26.76075461, 24.90061344, 29.22025175, 24.64600323,  0.22939464,\n",
       "       38.34867661, 20.43106418, 26.7462648 , 24.55820296, 18.74448281,\n",
       "       16.96192645, 21.90492437, 17.13323175, 11.34292902, 30.91942911,\n",
       "       35.75753688, 29.79329874, 20.82416395, 26.26934237, 28.51058342,\n",
       "       20.31859162, 28.87347305,  5.58826891, 18.43953621, 20.15011493,\n",
       "       11.0834424 , 17.51538748, 17.51328082, 19.40268132, 18.5652221 ,\n",
       "       27.52563302, 21.26379485, 19.99195836, 18.67405013, 23.10302609,\n",
       "       21.33164309, 24.504763  , 24.21480971, 21.79532455])"
      ]
     },
     "execution_count": 33,
     "metadata": {},
     "output_type": "execute_result"
    }
   ],
   "source": [
    "Model.predict(X_train)"
   ]
  },
  {
   "cell_type": "code",
   "execution_count": 34,
   "id": "15e5f3ae",
   "metadata": {},
   "outputs": [
    {
     "data": {
      "text/plain": [
       "array([ 9.13618286, 19.84993756, 23.23696967, 31.44072434, 22.98861951,\n",
       "       24.68516684, 23.62763335, 23.03356531, 18.62872986, -4.39949678,\n",
       "       21.56538044, 22.20201971, 34.73380038, 15.19433759, 14.74529053,\n",
       "       19.46711379, 17.580622  , 17.55040392, 31.58123049, 20.17372037,\n",
       "       30.375071  , 28.66436914, 23.27848738, 15.30637393, 18.34651758,\n",
       "        6.66712473, 30.72089507, 14.91086651, 13.11500953, 22.88140895,\n",
       "       25.64698844,  2.24186442, -4.37216454, 22.36200266, 20.17709814,\n",
       "       16.26148621, 20.62689144, 18.69902427, 34.7939747 , 14.44906746,\n",
       "       23.0093279 , 21.90982873, 38.59753354, 14.51711971, 16.86872055,\n",
       "       37.02242051, 17.28760588,  0.55540235, 28.00155561, 20.2058538 ,\n",
       "       34.14696942,  6.67958208, 40.07756408, 15.88221921, 21.99607574,\n",
       "       28.06174487, 19.73861661, 34.61766339, 34.68816906, 18.67612767,\n",
       "       19.4150729 , 13.44227178, 21.2196596 , 20.08992963, 23.66909326,\n",
       "       32.63208219, 28.79110172, 18.67913551, 19.45360495, 19.26036609,\n",
       "       23.86977569, 16.07441366, 17.45665366, 21.67665111, 30.39096025,\n",
       "       17.5520217 , 35.55048428, 21.94131932, 37.89912717, 26.14003485,\n",
       "       19.01144153, 20.12875634, 22.55153059, 15.65388114, 28.2392211 ,\n",
       "       25.55872068, 24.68423531,  9.84108907, 30.81279039, 13.85474852,\n",
       "       37.85985161, 23.5145774 ,  9.96974294, 12.72435394, 15.84189783,\n",
       "       22.35734831, 16.8462601 , 15.67594697, 26.40599248, 22.53425807,\n",
       "       23.6157782 , 26.30702915])"
      ]
     },
     "execution_count": 34,
     "metadata": {},
     "output_type": "execute_result"
    }
   ],
   "source": [
    "Model.predict(X_test)"
   ]
  },
  {
   "cell_type": "code",
   "execution_count": 35,
   "id": "433d25d0",
   "metadata": {},
   "outputs": [
    {
     "data": {
      "text/plain": [
       "19.04589684610944"
      ]
     },
     "execution_count": 35,
     "metadata": {},
     "output_type": "execute_result"
    }
   ],
   "source": [
    "Model.intercept_"
   ]
  },
  {
   "cell_type": "code",
   "execution_count": 36,
   "id": "15464943",
   "metadata": {},
   "outputs": [
    {
     "data": {
      "text/plain": [
       "array([-7.88991896e-02,  5.36907696e-03, -4.13838968e+00,  4.39268719e+00,\n",
       "        3.38976218e-02,  4.57465684e-04, -8.86575457e-01, -6.13146861e-01])"
      ]
     },
     "execution_count": 36,
     "metadata": {},
     "output_type": "execute_result"
    }
   ],
   "source": [
    "Model.coef_"
   ]
  },
  {
   "cell_type": "code",
   "execution_count": 37,
   "id": "05a7b65e",
   "metadata": {},
   "outputs": [
    {
     "data": {
      "text/html": [
       "<div>\n",
       "<style scoped>\n",
       "    .dataframe tbody tr th:only-of-type {\n",
       "        vertical-align: middle;\n",
       "    }\n",
       "\n",
       "    .dataframe tbody tr th {\n",
       "        vertical-align: top;\n",
       "    }\n",
       "\n",
       "    .dataframe thead th {\n",
       "        text-align: right;\n",
       "    }\n",
       "</style>\n",
       "<table border=\"1\" class=\"dataframe\">\n",
       "  <thead>\n",
       "    <tr style=\"text-align: right;\">\n",
       "      <th></th>\n",
       "      <th>Coef</th>\n",
       "    </tr>\n",
       "  </thead>\n",
       "  <tbody>\n",
       "    <tr>\n",
       "      <th>CRIM</th>\n",
       "      <td>-0.078899</td>\n",
       "    </tr>\n",
       "    <tr>\n",
       "      <th>INDUS</th>\n",
       "      <td>0.005369</td>\n",
       "    </tr>\n",
       "    <tr>\n",
       "      <th>NOX</th>\n",
       "      <td>-4.138390</td>\n",
       "    </tr>\n",
       "    <tr>\n",
       "      <th>RM</th>\n",
       "      <td>4.392687</td>\n",
       "    </tr>\n",
       "    <tr>\n",
       "      <th>AGE</th>\n",
       "      <td>0.033898</td>\n",
       "    </tr>\n",
       "    <tr>\n",
       "      <th>TAX</th>\n",
       "      <td>0.000457</td>\n",
       "    </tr>\n",
       "    <tr>\n",
       "      <th>PTRATIO</th>\n",
       "      <td>-0.886575</td>\n",
       "    </tr>\n",
       "    <tr>\n",
       "      <th>LSTAT</th>\n",
       "      <td>-0.613147</td>\n",
       "    </tr>\n",
       "  </tbody>\n",
       "</table>\n",
       "</div>"
      ],
      "text/plain": [
       "             Coef\n",
       "CRIM    -0.078899\n",
       "INDUS    0.005369\n",
       "NOX     -4.138390\n",
       "RM       4.392687\n",
       "AGE      0.033898\n",
       "TAX      0.000457\n",
       "PTRATIO -0.886575\n",
       "LSTAT   -0.613147"
      ]
     },
     "execution_count": 37,
     "metadata": {},
     "output_type": "execute_result"
    }
   ],
   "source": [
    "pd.DataFrame(data = Model.coef_, index = X_train.columns, columns=['Coef'])"
   ]
  },
  {
   "cell_type": "code",
   "execution_count": 38,
   "id": "43a50712",
   "metadata": {},
   "outputs": [
    {
     "data": {
      "text/html": [
       "<div>\n",
       "<style scoped>\n",
       "    .dataframe tbody tr th:only-of-type {\n",
       "        vertical-align: middle;\n",
       "    }\n",
       "\n",
       "    .dataframe tbody tr th {\n",
       "        vertical-align: top;\n",
       "    }\n",
       "\n",
       "    .dataframe thead th {\n",
       "        text-align: right;\n",
       "    }\n",
       "</style>\n",
       "<table border=\"1\" class=\"dataframe\">\n",
       "  <thead>\n",
       "    <tr style=\"text-align: right;\">\n",
       "      <th></th>\n",
       "      <th>CRIM</th>\n",
       "      <th>INDUS</th>\n",
       "      <th>NOX</th>\n",
       "      <th>RM</th>\n",
       "      <th>AGE</th>\n",
       "      <th>TAX</th>\n",
       "      <th>PTRATIO</th>\n",
       "      <th>LSTAT</th>\n",
       "    </tr>\n",
       "  </thead>\n",
       "  <tbody>\n",
       "    <tr>\n",
       "      <th>51</th>\n",
       "      <td>0.04337</td>\n",
       "      <td>5.64</td>\n",
       "      <td>0.439</td>\n",
       "      <td>6.115</td>\n",
       "      <td>63.0</td>\n",
       "      <td>243.0</td>\n",
       "      <td>16.8</td>\n",
       "      <td>9.43</td>\n",
       "    </tr>\n",
       "    <tr>\n",
       "      <th>265</th>\n",
       "      <td>0.76162</td>\n",
       "      <td>3.97</td>\n",
       "      <td>0.647</td>\n",
       "      <td>5.560</td>\n",
       "      <td>62.8</td>\n",
       "      <td>264.0</td>\n",
       "      <td>13.0</td>\n",
       "      <td>10.45</td>\n",
       "    </tr>\n",
       "    <tr>\n",
       "      <th>66</th>\n",
       "      <td>0.04379</td>\n",
       "      <td>3.37</td>\n",
       "      <td>0.398</td>\n",
       "      <td>5.787</td>\n",
       "      <td>31.1</td>\n",
       "      <td>337.0</td>\n",
       "      <td>16.1</td>\n",
       "      <td>10.24</td>\n",
       "    </tr>\n",
       "    <tr>\n",
       "      <th>12</th>\n",
       "      <td>0.09378</td>\n",
       "      <td>7.87</td>\n",
       "      <td>0.524</td>\n",
       "      <td>5.889</td>\n",
       "      <td>39.0</td>\n",
       "      <td>311.0</td>\n",
       "      <td>15.2</td>\n",
       "      <td>15.71</td>\n",
       "    </tr>\n",
       "    <tr>\n",
       "      <th>347</th>\n",
       "      <td>0.01870</td>\n",
       "      <td>4.15</td>\n",
       "      <td>0.429</td>\n",
       "      <td>6.516</td>\n",
       "      <td>27.7</td>\n",
       "      <td>351.0</td>\n",
       "      <td>17.9</td>\n",
       "      <td>6.36</td>\n",
       "    </tr>\n",
       "  </tbody>\n",
       "</table>\n",
       "</div>"
      ],
      "text/plain": [
       "        CRIM  INDUS    NOX     RM   AGE    TAX  PTRATIO  LSTAT\n",
       "51   0.04337   5.64  0.439  6.115  63.0  243.0     16.8   9.43\n",
       "265  0.76162   3.97  0.647  5.560  62.8  264.0     13.0  10.45\n",
       "66   0.04379   3.37  0.398  5.787  31.1  337.0     16.1  10.24\n",
       "12   0.09378   7.87  0.524  5.889  39.0  311.0     15.2  15.71\n",
       "347  0.01870   4.15  0.429  6.516  27.7  351.0     17.9   6.36"
      ]
     },
     "execution_count": 38,
     "metadata": {},
     "output_type": "execute_result"
    }
   ],
   "source": [
    "X_train.head()"
   ]
  },
  {
   "cell_type": "code",
   "execution_count": 39,
   "id": "84c13f67",
   "metadata": {},
   "outputs": [
    {
     "data": {
      "text/plain": [
       "array([26.15090193])"
      ]
     },
     "execution_count": 39,
     "metadata": {},
     "output_type": "execute_result"
    }
   ],
   "source": [
    "Model.predict([[0.11, 6.23, 0.75, 7.56, 28, 250, 18.20, 12.97]])"
   ]
  },
  {
   "cell_type": "code",
   "execution_count": 40,
   "id": "ebb44caf",
   "metadata": {},
   "outputs": [
    {
     "data": {
      "text/plain": [
       "19.04589684610944"
      ]
     },
     "execution_count": 40,
     "metadata": {},
     "output_type": "execute_result"
    }
   ],
   "source": [
    "Model.intercept_"
   ]
  },
  {
   "cell_type": "code",
   "execution_count": 41,
   "id": "c72cfc9b",
   "metadata": {},
   "outputs": [
    {
     "data": {
      "text/plain": [
       "array([19.04589685])"
      ]
     },
     "execution_count": 41,
     "metadata": {},
     "output_type": "execute_result"
    }
   ],
   "source": [
    "Model.predict([[0, 0, 0, 0, 0, 0, 0, 0]])"
   ]
  },
  {
   "cell_type": "markdown",
   "id": "e8a02d90",
   "metadata": {},
   "source": [
    "## Evaluation Matrix"
   ]
  },
  {
   "cell_type": "code",
   "execution_count": 42,
   "id": "d7f3773c",
   "metadata": {},
   "outputs": [],
   "source": [
    "pred_train = Model.predict(X_train)"
   ]
  },
  {
   "cell_type": "code",
   "execution_count": 43,
   "id": "a406a80c",
   "metadata": {},
   "outputs": [
    {
     "data": {
      "image/png": "[encoded data removed]",
      "text/plain": [
       "<Figure size 432x288 with 1 Axes>"
      ]
     },
     "metadata": {
      "needs_background": "light"
     },
     "output_type": "display_data"
    }
   ],
   "source": [
    "plt.scatter(y_train, pred_train, s=20)\n",
    "plt.xlabel(\"Actual\")\n",
    "plt.ylabel(\"Prediction\")\n",
    "plt.show()"
   ]
  },
  {
   "cell_type": "code",
   "execution_count": 44,
   "id": "39b61278",
   "metadata": {},
   "outputs": [],
   "source": [
    "pred_test = Model.predict(X_test)"
   ]
  },
  {
   "cell_type": "code",
   "execution_count": 45,
   "id": "fb7b5836",
   "metadata": {},
   "outputs": [
    {
     "data": {
      "image/png": "[encoded data removed]",
      "text/plain": [
       "<Figure size 432x288 with 1 Axes>"
      ]
     },
     "metadata": {
      "needs_background": "light"
     },
     "output_type": "display_data"
    }
   ],
   "source": [
    "plt.scatter(y_test, pred_test, s=20)\n",
    "plt.xlabel(\"Actual\")\n",
    "plt.ylabel(\"Prediction\")\n",
    "plt.show()"
   ]
  },
  {
   "cell_type": "code",
   "execution_count": 46,
   "id": "f2ad0fb4",
   "metadata": {},
   "outputs": [],
   "source": [
    "Training_set = pd.concat([X_train, y_train], axis=1)"
   ]
  },
  {
   "cell_type": "code",
   "execution_count": 47,
   "id": "fc8404e7",
   "metadata": {},
   "outputs": [],
   "source": [
    "Testing_set = pd.concat([X_test, y_test], axis=1)"
   ]
  },
  {
   "cell_type": "code",
   "execution_count": 48,
   "id": "929346a8",
   "metadata": {},
   "outputs": [],
   "source": [
    "Training_set['price_pred'] = pred_train"
   ]
  },
  {
   "cell_type": "code",
   "execution_count": 49,
   "id": "9a9a1529",
   "metadata": {},
   "outputs": [
    {
     "data": {
      "text/html": [
       "<div>\n",
       "<style scoped>\n",
       "    .dataframe tbody tr th:only-of-type {\n",
       "        vertical-align: middle;\n",
       "    }\n",
       "\n",
       "    .dataframe tbody tr th {\n",
       "        vertical-align: top;\n",
       "    }\n",
       "\n",
       "    .dataframe thead th {\n",
       "        text-align: right;\n",
       "    }\n",
       "</style>\n",
       "<table border=\"1\" class=\"dataframe\">\n",
       "  <thead>\n",
       "    <tr style=\"text-align: right;\">\n",
       "      <th></th>\n",
       "      <th>CRIM</th>\n",
       "      <th>INDUS</th>\n",
       "      <th>NOX</th>\n",
       "      <th>RM</th>\n",
       "      <th>AGE</th>\n",
       "      <th>TAX</th>\n",
       "      <th>PTRATIO</th>\n",
       "      <th>LSTAT</th>\n",
       "      <th>Price</th>\n",
       "      <th>price_pred</th>\n",
       "    </tr>\n",
       "  </thead>\n",
       "  <tbody>\n",
       "    <tr>\n",
       "      <th>51</th>\n",
       "      <td>0.04337</td>\n",
       "      <td>5.64</td>\n",
       "      <td>0.439</td>\n",
       "      <td>6.115</td>\n",
       "      <td>63.0</td>\n",
       "      <td>243.0</td>\n",
       "      <td>16.8</td>\n",
       "      <td>9.43</td>\n",
       "      <td>20.5</td>\n",
       "      <td>25.687557</td>\n",
       "    </tr>\n",
       "    <tr>\n",
       "      <th>265</th>\n",
       "      <td>0.76162</td>\n",
       "      <td>3.97</td>\n",
       "      <td>0.647</td>\n",
       "      <td>5.560</td>\n",
       "      <td>62.8</td>\n",
       "      <td>264.0</td>\n",
       "      <td>13.0</td>\n",
       "      <td>10.45</td>\n",
       "      <td>22.8</td>\n",
       "      <td>25.069600</td>\n",
       "    </tr>\n",
       "    <tr>\n",
       "      <th>66</th>\n",
       "      <td>0.04379</td>\n",
       "      <td>3.37</td>\n",
       "      <td>0.398</td>\n",
       "      <td>5.787</td>\n",
       "      <td>31.1</td>\n",
       "      <td>337.0</td>\n",
       "      <td>16.1</td>\n",
       "      <td>10.24</td>\n",
       "      <td>19.4</td>\n",
       "      <td>23.489831</td>\n",
       "    </tr>\n",
       "    <tr>\n",
       "      <th>12</th>\n",
       "      <td>0.09378</td>\n",
       "      <td>7.87</td>\n",
       "      <td>0.524</td>\n",
       "      <td>5.889</td>\n",
       "      <td>39.0</td>\n",
       "      <td>311.0</td>\n",
       "      <td>15.2</td>\n",
       "      <td>15.71</td>\n",
       "      <td>21.7</td>\n",
       "      <td>21.136566</td>\n",
       "    </tr>\n",
       "    <tr>\n",
       "      <th>347</th>\n",
       "      <td>0.01870</td>\n",
       "      <td>4.15</td>\n",
       "      <td>0.429</td>\n",
       "      <td>6.516</td>\n",
       "      <td>27.7</td>\n",
       "      <td>351.0</td>\n",
       "      <td>17.9</td>\n",
       "      <td>6.36</td>\n",
       "      <td>23.1</td>\n",
       "      <td>27.244304</td>\n",
       "    </tr>\n",
       "    <tr>\n",
       "      <th>...</th>\n",
       "      <td>...</td>\n",
       "      <td>...</td>\n",
       "      <td>...</td>\n",
       "      <td>...</td>\n",
       "      <td>...</td>\n",
       "      <td>...</td>\n",
       "      <td>...</td>\n",
       "      <td>...</td>\n",
       "      <td>...</td>\n",
       "      <td>...</td>\n",
       "    </tr>\n",
       "    <tr>\n",
       "      <th>230</th>\n",
       "      <td>0.53700</td>\n",
       "      <td>6.20</td>\n",
       "      <td>0.504</td>\n",
       "      <td>5.981</td>\n",
       "      <td>68.1</td>\n",
       "      <td>307.0</td>\n",
       "      <td>17.4</td>\n",
       "      <td>11.65</td>\n",
       "      <td>24.3</td>\n",
       "      <td>23.103026</td>\n",
       "    </tr>\n",
       "    <tr>\n",
       "      <th>16</th>\n",
       "      <td>1.05393</td>\n",
       "      <td>8.14</td>\n",
       "      <td>0.538</td>\n",
       "      <td>5.935</td>\n",
       "      <td>29.3</td>\n",
       "      <td>307.0</td>\n",
       "      <td>21.0</td>\n",
       "      <td>6.58</td>\n",
       "      <td>23.1</td>\n",
       "      <td>21.331643</td>\n",
       "    </tr>\n",
       "    <tr>\n",
       "      <th>74</th>\n",
       "      <td>0.07896</td>\n",
       "      <td>12.83</td>\n",
       "      <td>0.437</td>\n",
       "      <td>6.273</td>\n",
       "      <td>6.0</td>\n",
       "      <td>398.0</td>\n",
       "      <td>18.7</td>\n",
       "      <td>6.78</td>\n",
       "      <td>24.1</td>\n",
       "      <td>24.504763</td>\n",
       "    </tr>\n",
       "    <tr>\n",
       "      <th>176</th>\n",
       "      <td>0.07022</td>\n",
       "      <td>4.05</td>\n",
       "      <td>0.510</td>\n",
       "      <td>6.020</td>\n",
       "      <td>47.2</td>\n",
       "      <td>296.0</td>\n",
       "      <td>16.6</td>\n",
       "      <td>10.11</td>\n",
       "      <td>23.2</td>\n",
       "      <td>24.214810</td>\n",
       "    </tr>\n",
       "    <tr>\n",
       "      <th>338</th>\n",
       "      <td>0.03306</td>\n",
       "      <td>5.19</td>\n",
       "      <td>0.515</td>\n",
       "      <td>6.059</td>\n",
       "      <td>37.3</td>\n",
       "      <td>224.0</td>\n",
       "      <td>20.2</td>\n",
       "      <td>8.51</td>\n",
       "      <td>20.6</td>\n",
       "      <td>21.795325</td>\n",
       "    </tr>\n",
       "  </tbody>\n",
       "</table>\n",
       "<p>404 rows × 10 columns</p>\n",
       "</div>"
      ],
      "text/plain": [
       "        CRIM  INDUS    NOX     RM   AGE    TAX  PTRATIO  LSTAT  Price  \\\n",
       "51   0.04337   5.64  0.439  6.115  63.0  243.0     16.8   9.43   20.5   \n",
       "265  0.76162   3.97  0.647  5.560  62.8  264.0     13.0  10.45   22.8   \n",
       "66   0.04379   3.37  0.398  5.787  31.1  337.0     16.1  10.24   19.4   \n",
       "12   0.09378   7.87  0.524  5.889  39.0  311.0     15.2  15.71   21.7   \n",
       "347  0.01870   4.15  0.429  6.516  27.7  351.0     17.9   6.36   23.1   \n",
       "..       ...    ...    ...    ...   ...    ...      ...    ...    ...   \n",
       "230  0.53700   6.20  0.504  5.981  68.1  307.0     17.4  11.65   24.3   \n",
       "16   1.05393   8.14  0.538  5.935  29.3  307.0     21.0   6.58   23.1   \n",
       "74   0.07896  12.83  0.437  6.273   6.0  398.0     18.7   6.78   24.1   \n",
       "176  0.07022   4.05  0.510  6.020  47.2  296.0     16.6  10.11   23.2   \n",
       "338  0.03306   5.19  0.515  6.059  37.3  224.0     20.2   8.51   20.6   \n",
       "\n",
       "     price_pred  \n",
       "51    25.687557  \n",
       "265   25.069600  \n",
       "66    23.489831  \n",
       "12    21.136566  \n",
       "347   27.244304  \n",
       "..          ...  \n",
       "230   23.103026  \n",
       "16    21.331643  \n",
       "74    24.504763  \n",
       "176   24.214810  \n",
       "338   21.795325  \n",
       "\n",
       "[404 rows x 10 columns]"
      ]
     },
     "execution_count": 49,
     "metadata": {},
     "output_type": "execute_result"
    }
   ],
   "source": [
    "Training_set"
   ]
  },
  {
   "cell_type": "code",
   "execution_count": 50,
   "id": "ba62612c",
   "metadata": {},
   "outputs": [],
   "source": [
    "Training_set['Error'] = abs(Training_set['Price'] - Training_set['price_pred'])"
   ]
  },
  {
   "cell_type": "code",
   "execution_count": 51,
   "id": "f587bb7a",
   "metadata": {},
   "outputs": [
    {
     "data": {
      "image/png": "[encoded data removed]",
      "text/plain": [
       "<Figure size 432x288 with 1 Axes>"
      ]
     },
     "metadata": {
      "needs_background": "light"
     },
     "output_type": "display_data"
    }
   ],
   "source": [
    "plt.scatter(Training_set['Price'], Training_set['Error'], s=30)\n",
    "plt.xlabel(\"Actual\")\n",
    "plt.ylabel(\"Error\")\n",
    "plt.show()"
   ]
  },
  {
   "cell_type": "code",
   "execution_count": 52,
   "id": "0beed3ae",
   "metadata": {},
   "outputs": [
    {
     "data": {
      "image/png": "[encoded data removed]",
      "text/plain": [
       "<Figure size 432x288 with 1 Axes>"
      ]
     },
     "metadata": {
      "needs_background": "light"
     },
     "output_type": "display_data"
    }
   ],
   "source": [
    "sns.distplot(Training_set['Error'])\n",
    "plt.show()"
   ]
  },
  {
   "cell_type": "code",
   "execution_count": 53,
   "id": "5643c8bc",
   "metadata": {},
   "outputs": [
    {
     "data": {
      "text/plain": [
       "3.5905835556611567"
      ]
     },
     "execution_count": 53,
     "metadata": {},
     "output_type": "execute_result"
    }
   ],
   "source": [
    "Training_set['Error'].mean()"
   ]
  },
  {
   "cell_type": "code",
   "execution_count": 54,
   "id": "08c1b003",
   "metadata": {},
   "outputs": [
    {
     "data": {
      "text/html": [
       "<div>\n",
       "<style scoped>\n",
       "    .dataframe tbody tr th:only-of-type {\n",
       "        vertical-align: middle;\n",
       "    }\n",
       "\n",
       "    .dataframe tbody tr th {\n",
       "        vertical-align: top;\n",
       "    }\n",
       "\n",
       "    .dataframe thead th {\n",
       "        text-align: right;\n",
       "    }\n",
       "</style>\n",
       "<table border=\"1\" class=\"dataframe\">\n",
       "  <thead>\n",
       "    <tr style=\"text-align: right;\">\n",
       "      <th></th>\n",
       "      <th>CRIM</th>\n",
       "      <th>INDUS</th>\n",
       "      <th>NOX</th>\n",
       "      <th>RM</th>\n",
       "      <th>AGE</th>\n",
       "      <th>TAX</th>\n",
       "      <th>PTRATIO</th>\n",
       "      <th>LSTAT</th>\n",
       "      <th>Price</th>\n",
       "      <th>price_pred</th>\n",
       "      <th>Error</th>\n",
       "    </tr>\n",
       "  </thead>\n",
       "  <tbody>\n",
       "    <tr>\n",
       "      <th>372</th>\n",
       "      <td>8.26725</td>\n",
       "      <td>18.10</td>\n",
       "      <td>0.668</td>\n",
       "      <td>5.875</td>\n",
       "      <td>89.6</td>\n",
       "      <td>666.0</td>\n",
       "      <td>20.2</td>\n",
       "      <td>8.88</td>\n",
       "      <td>50.0</td>\n",
       "      <td>21.521721</td>\n",
       "      <td>28.478279</td>\n",
       "    </tr>\n",
       "    <tr>\n",
       "      <th>368</th>\n",
       "      <td>4.89822</td>\n",
       "      <td>18.10</td>\n",
       "      <td>0.631</td>\n",
       "      <td>4.970</td>\n",
       "      <td>100.0</td>\n",
       "      <td>666.0</td>\n",
       "      <td>20.2</td>\n",
       "      <td>3.26</td>\n",
       "      <td>50.0</td>\n",
       "      <td>21.763694</td>\n",
       "      <td>28.236306</td>\n",
       "    </tr>\n",
       "    <tr>\n",
       "      <th>371</th>\n",
       "      <td>9.23230</td>\n",
       "      <td>18.10</td>\n",
       "      <td>0.631</td>\n",
       "      <td>6.216</td>\n",
       "      <td>100.0</td>\n",
       "      <td>666.0</td>\n",
       "      <td>20.2</td>\n",
       "      <td>9.53</td>\n",
       "      <td>50.0</td>\n",
       "      <td>23.050596</td>\n",
       "      <td>26.949404</td>\n",
       "    </tr>\n",
       "    <tr>\n",
       "      <th>369</th>\n",
       "      <td>5.66998</td>\n",
       "      <td>18.10</td>\n",
       "      <td>0.631</td>\n",
       "      <td>6.683</td>\n",
       "      <td>96.8</td>\n",
       "      <td>666.0</td>\n",
       "      <td>20.2</td>\n",
       "      <td>3.73</td>\n",
       "      <td>50.0</td>\n",
       "      <td>28.830825</td>\n",
       "      <td>21.169175</td>\n",
       "    </tr>\n",
       "    <tr>\n",
       "      <th>412</th>\n",
       "      <td>18.81100</td>\n",
       "      <td>18.10</td>\n",
       "      <td>0.597</td>\n",
       "      <td>4.628</td>\n",
       "      <td>100.0</td>\n",
       "      <td>666.0</td>\n",
       "      <td>20.2</td>\n",
       "      <td>34.37</td>\n",
       "      <td>17.9</td>\n",
       "      <td>0.229395</td>\n",
       "      <td>17.670605</td>\n",
       "    </tr>\n",
       "    <tr>\n",
       "      <th>186</th>\n",
       "      <td>0.05602</td>\n",
       "      <td>2.46</td>\n",
       "      <td>0.488</td>\n",
       "      <td>7.831</td>\n",
       "      <td>53.6</td>\n",
       "      <td>193.0</td>\n",
       "      <td>17.8</td>\n",
       "      <td>4.45</td>\n",
       "      <td>50.0</td>\n",
       "      <td>34.829941</td>\n",
       "      <td>15.170059</td>\n",
       "    </tr>\n",
       "    <tr>\n",
       "      <th>365</th>\n",
       "      <td>4.55587</td>\n",
       "      <td>18.10</td>\n",
       "      <td>0.718</td>\n",
       "      <td>3.561</td>\n",
       "      <td>87.9</td>\n",
       "      <td>666.0</td>\n",
       "      <td>20.2</td>\n",
       "      <td>7.12</td>\n",
       "      <td>27.5</td>\n",
       "      <td>12.464461</td>\n",
       "      <td>15.035539</td>\n",
       "    </tr>\n",
       "    <tr>\n",
       "      <th>364</th>\n",
       "      <td>3.47428</td>\n",
       "      <td>18.10</td>\n",
       "      <td>0.718</td>\n",
       "      <td>8.780</td>\n",
       "      <td>82.9</td>\n",
       "      <td>666.0</td>\n",
       "      <td>20.2</td>\n",
       "      <td>5.29</td>\n",
       "      <td>21.9</td>\n",
       "      <td>36.427803</td>\n",
       "      <td>14.527803</td>\n",
       "    </tr>\n",
       "    <tr>\n",
       "      <th>228</th>\n",
       "      <td>0.29819</td>\n",
       "      <td>6.20</td>\n",
       "      <td>0.504</td>\n",
       "      <td>7.686</td>\n",
       "      <td>17.0</td>\n",
       "      <td>307.0</td>\n",
       "      <td>17.4</td>\n",
       "      <td>3.92</td>\n",
       "      <td>46.7</td>\n",
       "      <td>33.618856</td>\n",
       "      <td>13.081144</td>\n",
       "    </tr>\n",
       "    <tr>\n",
       "      <th>367</th>\n",
       "      <td>13.52220</td>\n",
       "      <td>18.10</td>\n",
       "      <td>0.631</td>\n",
       "      <td>3.863</td>\n",
       "      <td>100.0</td>\n",
       "      <td>666.0</td>\n",
       "      <td>20.2</td>\n",
       "      <td>13.33</td>\n",
       "      <td>23.1</td>\n",
       "      <td>10.046176</td>\n",
       "      <td>13.053824</td>\n",
       "    </tr>\n",
       "  </tbody>\n",
       "</table>\n",
       "</div>"
      ],
      "text/plain": [
       "         CRIM  INDUS    NOX     RM    AGE    TAX  PTRATIO  LSTAT  Price  \\\n",
       "372   8.26725  18.10  0.668  5.875   89.6  666.0     20.2   8.88   50.0   \n",
       "368   4.89822  18.10  0.631  4.970  100.0  666.0     20.2   3.26   50.0   \n",
       "371   9.23230  18.10  0.631  6.216  100.0  666.0     20.2   9.53   50.0   \n",
       "369   5.66998  18.10  0.631  6.683   96.8  666.0     20.2   3.73   50.0   \n",
       "412  18.81100  18.10  0.597  4.628  100.0  666.0     20.2  34.37   17.9   \n",
       "186   0.05602   2.46  0.488  7.831   53.6  193.0     17.8   4.45   50.0   \n",
       "365   4.55587  18.10  0.718  3.561   87.9  666.0     20.2   7.12   27.5   \n",
       "364   3.47428  18.10  0.718  8.780   82.9  666.0     20.2   5.29   21.9   \n",
       "228   0.29819   6.20  0.504  7.686   17.0  307.0     17.4   3.92   46.7   \n",
       "367  13.52220  18.10  0.631  3.863  100.0  666.0     20.2  13.33   23.1   \n",
       "\n",
       "     price_pred      Error  \n",
       "372   21.521721  28.478279  \n",
       "368   21.763694  28.236306  \n",
       "371   23.050596  26.949404  \n",
       "369   28.830825  21.169175  \n",
       "412    0.229395  17.670605  \n",
       "186   34.829941  15.170059  \n",
       "365   12.464461  15.035539  \n",
       "364   36.427803  14.527803  \n",
       "228   33.618856  13.081144  \n",
       "367   10.046176  13.053824  "
      ]
     },
     "execution_count": 54,
     "metadata": {},
     "output_type": "execute_result"
    }
   ],
   "source": [
    "Training_set.sort_values('Error', ascending=False).head(10)"
   ]
  },
  {
   "cell_type": "code",
   "execution_count": 55,
   "id": "4a388d5f",
   "metadata": {},
   "outputs": [],
   "source": [
    "df = df[df['TAX'] != 666]"
   ]
  },
  {
   "cell_type": "code",
   "execution_count": 56,
   "id": "96321e53",
   "metadata": {},
   "outputs": [],
   "source": [
    "### Evaluation Matrix for Regression"
   ]
  },
  {
   "cell_type": "code",
   "execution_count": 57,
   "id": "d9d66349",
   "metadata": {},
   "outputs": [],
   "source": [
    "error_train = abs(y_train - pred_train)"
   ]
  },
  {
   "cell_type": "code",
   "execution_count": 58,
   "id": "a445c612",
   "metadata": {},
   "outputs": [],
   "source": [
    "error_test = abs(y_test - pred_test)"
   ]
  },
  {
   "cell_type": "code",
   "execution_count": 59,
   "id": "d5357040",
   "metadata": {},
   "outputs": [],
   "source": [
    "## Evaluation Metrics Calculation"
   ]
  },
  {
   "cell_type": "code",
   "execution_count": 60,
   "id": "102bcc4e",
   "metadata": {},
   "outputs": [],
   "source": [
    "from sklearn.metrics import mean_absolute_error, r2_score, mean_squared_error, median_absolute_error"
   ]
  },
  {
   "cell_type": "code",
   "execution_count": 61,
   "id": "0b07941c",
   "metadata": {},
   "outputs": [],
   "source": [
    "### Evaluation untuk Data Training"
   ]
  },
  {
   "cell_type": "code",
   "execution_count": 62,
   "id": "add8d2a2",
   "metadata": {},
   "outputs": [
    {
     "data": {
      "text/plain": [
       "51     20.5\n",
       "265    22.8\n",
       "66     19.4\n",
       "12     21.7\n",
       "347    23.1\n",
       "       ... \n",
       "230    24.3\n",
       "16     23.1\n",
       "74     24.1\n",
       "176    23.2\n",
       "338    20.6\n",
       "Name: Price, Length: 404, dtype: float64"
      ]
     },
     "execution_count": 62,
     "metadata": {},
     "output_type": "execute_result"
    }
   ],
   "source": [
    "y_train"
   ]
  },
  {
   "cell_type": "code",
   "execution_count": 63,
   "id": "2f0db6f7",
   "metadata": {},
   "outputs": [],
   "source": [
    "pred_train = Model.predict(X_train) "
   ]
  },
  {
   "cell_type": "code",
   "execution_count": 64,
   "id": "8d1e4e1a",
   "metadata": {},
   "outputs": [
    {
     "data": {
      "text/plain": [
       "0.6791618509642396"
      ]
     },
     "execution_count": 64,
     "metadata": {},
     "output_type": "execute_result"
    }
   ],
   "source": [
    "r2_train = r2_score(y_train, pred_train)\n",
    "r2_train"
   ]
  },
  {
   "cell_type": "code",
   "execution_count": 65,
   "id": "8db4c51d",
   "metadata": {},
   "outputs": [
    {
     "data": {
      "text/plain": [
       "3.5905835556611567"
      ]
     },
     "execution_count": 65,
     "metadata": {},
     "output_type": "execute_result"
    }
   ],
   "source": [
    "MAE_train = mean_absolute_error(y_train, pred_train)\n",
    "MAE_train"
   ]
  },
  {
   "cell_type": "code",
   "execution_count": 66,
   "id": "9670aee5",
   "metadata": {},
   "outputs": [
    {
     "data": {
      "text/plain": [
       "26.46328360950616"
      ]
     },
     "execution_count": 66,
     "metadata": {},
     "output_type": "execute_result"
    }
   ],
   "source": [
    "MSE_train = mean_squared_error(y_train, pred_train)\n",
    "MSE_train"
   ]
  },
  {
   "cell_type": "code",
   "execution_count": 67,
   "id": "875b8c30",
   "metadata": {},
   "outputs": [
    {
     "data": {
      "text/plain": [
       "5.144247623268748"
      ]
     },
     "execution_count": 67,
     "metadata": {},
     "output_type": "execute_result"
    }
   ],
   "source": [
    "RMSE_train = np.sqrt(MSE_train)\n",
    "RMSE_train"
   ]
  },
  {
   "cell_type": "code",
   "execution_count": 68,
   "id": "b8ffab38",
   "metadata": {},
   "outputs": [
    {
     "name": "stdout",
     "output_type": "stream",
     "text": [
      "Evaluation Matrix Result for Data Training\n",
      "R Squared :  0.68\n",
      "MAE :  3.59\n",
      "MSE :  26.46\n",
      "RMSE :  5.14\n"
     ]
    }
   ],
   "source": [
    "print(\"Evaluation Matrix Result for Data Training\")\n",
    "print(\"R Squared : \", r2_train.round(2))\n",
    "print(\"MAE : \", MAE_train.round(2))\n",
    "print(\"MSE : \", MSE_train.round(2))\n",
    "print(\"RMSE : \", RMSE_train.round(2))"
   ]
  },
  {
   "cell_type": "markdown",
   "id": "90ca8828",
   "metadata": {},
   "source": [
    "### Data Testing Evaluation"
   ]
  },
  {
   "cell_type": "code",
   "execution_count": 69,
   "id": "8d5d8def",
   "metadata": {},
   "outputs": [
    {
     "data": {
      "text/plain": [
       "477    12.0\n",
       "451    15.2\n",
       "29     21.0\n",
       "0      24.0\n",
       "312    19.4\n",
       "       ... \n",
       "376    13.9\n",
       "90     22.6\n",
       "78     21.2\n",
       "44     21.2\n",
       "350    22.9\n",
       "Name: Price, Length: 102, dtype: float64"
      ]
     },
     "execution_count": 69,
     "metadata": {},
     "output_type": "execute_result"
    }
   ],
   "source": [
    "y_test"
   ]
  },
  {
   "cell_type": "code",
   "execution_count": 70,
   "id": "eef24378",
   "metadata": {},
   "outputs": [],
   "source": [
    "pred_test = Model.predict(X_test)"
   ]
  },
  {
   "cell_type": "code",
   "execution_count": 71,
   "id": "6510b5ef",
   "metadata": {},
   "outputs": [
    {
     "data": {
      "text/plain": [
       "0.6994662028811741"
      ]
     },
     "execution_count": 71,
     "metadata": {},
     "output_type": "execute_result"
    }
   ],
   "source": [
    "r2_test = r2_score(y_test, pred_test)\n",
    "r2_test"
   ]
  },
  {
   "cell_type": "code",
   "execution_count": 72,
   "id": "6544944a",
   "metadata": {},
   "outputs": [
    {
     "data": {
      "text/plain": [
       "3.719478272512291"
      ]
     },
     "execution_count": 72,
     "metadata": {},
     "output_type": "execute_result"
    }
   ],
   "source": [
    "MAE_test = mean_absolute_error(y_test, pred_test)\n",
    "MAE_test"
   ]
  },
  {
   "cell_type": "code",
   "execution_count": 73,
   "id": "dbae896e",
   "metadata": {},
   "outputs": [
    {
     "data": {
      "text/plain": [
       "27.246625137755554"
      ]
     },
     "execution_count": 73,
     "metadata": {},
     "output_type": "execute_result"
    }
   ],
   "source": [
    "MSE_test = mean_squared_error(y_test, pred_test)\n",
    "MSE_test"
   ]
  },
  {
   "cell_type": "code",
   "execution_count": 74,
   "id": "9d9c7f44",
   "metadata": {},
   "outputs": [
    {
     "data": {
      "text/plain": [
       "5.219829991269405"
      ]
     },
     "execution_count": 74,
     "metadata": {},
     "output_type": "execute_result"
    }
   ],
   "source": [
    "RMSE_test = np.sqrt(MSE_test)\n",
    "RMSE_test"
   ]
  },
  {
   "cell_type": "code",
   "execution_count": 75,
   "id": "640a6a49",
   "metadata": {},
   "outputs": [
    {
     "name": "stdout",
     "output_type": "stream",
     "text": [
      "Evaluation Matrix Result for Data Testing\n",
      "R Squared :  0.7\n",
      "MAE :  3.72\n",
      "MSE :  27.25\n",
      "RMSE :  5.22\n"
     ]
    }
   ],
   "source": [
    "print(\"Evaluation Matrix Result for Data Testing\")\n",
    "print(\"R Squared : \", r2_test.round(2))\n",
    "print(\"MAE : \", MAE_test.round(2))\n",
    "print(\"MSE : \", MSE_test.round(2))\n",
    "print(\"RMSE : \", RMSE_test.round(2))"
   ]
  },
  {
   "cell_type": "code",
   "execution_count": 76,
   "id": "f5c4f013",
   "metadata": {},
   "outputs": [],
   "source": [
    "data = {\n",
    "    \"Training\" : [r2_train, MAE_train, MSE_train, RMSE_train],\n",
    "    \"Testing\" : [r2_test, MAE_test, MSE_test, RMSE_test]\n",
    "}"
   ]
  },
  {
   "cell_type": "code",
   "execution_count": 77,
   "id": "01eab719",
   "metadata": {},
   "outputs": [
    {
     "data": {
      "text/html": [
       "<div>\n",
       "<style scoped>\n",
       "    .dataframe tbody tr th:only-of-type {\n",
       "        vertical-align: middle;\n",
       "    }\n",
       "\n",
       "    .dataframe tbody tr th {\n",
       "        vertical-align: top;\n",
       "    }\n",
       "\n",
       "    .dataframe thead th {\n",
       "        text-align: right;\n",
       "    }\n",
       "</style>\n",
       "<table border=\"1\" class=\"dataframe\">\n",
       "  <thead>\n",
       "    <tr style=\"text-align: right;\">\n",
       "      <th></th>\n",
       "      <th>Training</th>\n",
       "      <th>Testing</th>\n",
       "    </tr>\n",
       "  </thead>\n",
       "  <tbody>\n",
       "    <tr>\n",
       "      <th>R Squared</th>\n",
       "      <td>0.679162</td>\n",
       "      <td>0.699466</td>\n",
       "    </tr>\n",
       "    <tr>\n",
       "      <th>MAE</th>\n",
       "      <td>3.590584</td>\n",
       "      <td>3.719478</td>\n",
       "    </tr>\n",
       "    <tr>\n",
       "      <th>MSE</th>\n",
       "      <td>26.463284</td>\n",
       "      <td>27.246625</td>\n",
       "    </tr>\n",
       "    <tr>\n",
       "      <th>RMSE</th>\n",
       "      <td>5.144248</td>\n",
       "      <td>5.219830</td>\n",
       "    </tr>\n",
       "  </tbody>\n",
       "</table>\n",
       "</div>"
      ],
      "text/plain": [
       "            Training    Testing\n",
       "R Squared   0.679162   0.699466\n",
       "MAE         3.590584   3.719478\n",
       "MSE        26.463284  27.246625\n",
       "RMSE        5.144248   5.219830"
      ]
     },
     "execution_count": 77,
     "metadata": {},
     "output_type": "execute_result"
    }
   ],
   "source": [
    "pd.DataFrame(data, index=[\"R Squared\", \"MAE\", \"MSE\", \"RMSE\"])"
   ]
  },
  {
   "cell_type": "markdown",
   "id": "e5a46df8",
   "metadata": {},
   "source": [
    "## Improvement Machine Learning using Polynomial Feature"
   ]
  },
  {
   "cell_type": "code",
   "execution_count": 78,
   "id": "bd21ece9",
   "metadata": {},
   "outputs": [],
   "source": [
    "from sklearn.preprocessing import PolynomialFeatures"
   ]
  },
  {
   "cell_type": "code",
   "execution_count": 79,
   "id": "6ce533ea",
   "metadata": {},
   "outputs": [],
   "source": [
    "X = df.drop(columns='Price')\n",
    "y = df['Price']"
   ]
  },
  {
   "cell_type": "code",
   "execution_count": 80,
   "id": "dc4636a4",
   "metadata": {},
   "outputs": [],
   "source": [
    "X_train, X_test, y_train, y_test = train_test_split(X, y, train_size = .80, random_state=42)"
   ]
  },
  {
   "cell_type": "code",
   "execution_count": 81,
   "id": "e9438c3d",
   "metadata": {},
   "outputs": [],
   "source": [
    "Poli = PolynomialFeatures(degree=3, include_bias=False, interaction_only = True)"
   ]
  },
  {
   "cell_type": "code",
   "execution_count": 82,
   "id": "a9078971",
   "metadata": {},
   "outputs": [],
   "source": [
    "Poli = Poli.fit(X_train)"
   ]
  },
  {
   "cell_type": "code",
   "execution_count": 83,
   "id": "f421d263",
   "metadata": {},
   "outputs": [],
   "source": [
    "X_trainPoli = Poli.transform(X_train)\n",
    "X_testPoli = Poli.transform(X_test)"
   ]
  },
  {
   "cell_type": "code",
   "execution_count": 84,
   "id": "61000d4e",
   "metadata": {},
   "outputs": [
    {
     "data": {
      "text/html": [
       "<div>\n",
       "<style scoped>\n",
       "    .dataframe tbody tr th:only-of-type {\n",
       "        vertical-align: middle;\n",
       "    }\n",
       "\n",
       "    .dataframe tbody tr th {\n",
       "        vertical-align: top;\n",
       "    }\n",
       "\n",
       "    .dataframe thead th {\n",
       "        text-align: right;\n",
       "    }\n",
       "</style>\n",
       "<table border=\"1\" class=\"dataframe\">\n",
       "  <thead>\n",
       "    <tr style=\"text-align: right;\">\n",
       "      <th></th>\n",
       "      <th>0</th>\n",
       "      <th>1</th>\n",
       "      <th>2</th>\n",
       "      <th>3</th>\n",
       "      <th>4</th>\n",
       "      <th>5</th>\n",
       "      <th>6</th>\n",
       "      <th>7</th>\n",
       "      <th>8</th>\n",
       "      <th>9</th>\n",
       "      <th>...</th>\n",
       "      <th>82</th>\n",
       "      <th>83</th>\n",
       "      <th>84</th>\n",
       "      <th>85</th>\n",
       "      <th>86</th>\n",
       "      <th>87</th>\n",
       "      <th>88</th>\n",
       "      <th>89</th>\n",
       "      <th>90</th>\n",
       "      <th>91</th>\n",
       "    </tr>\n",
       "  </thead>\n",
       "  <tbody>\n",
       "    <tr>\n",
       "      <th>0</th>\n",
       "      <td>0.08664</td>\n",
       "      <td>3.44</td>\n",
       "      <td>0.437</td>\n",
       "      <td>7.178</td>\n",
       "      <td>26.3</td>\n",
       "      <td>398.0</td>\n",
       "      <td>15.2</td>\n",
       "      <td>2.87</td>\n",
       "      <td>0.298042</td>\n",
       "      <td>0.037862</td>\n",
       "      <td>...</td>\n",
       "      <td>75134.9972</td>\n",
       "      <td>2869.47728</td>\n",
       "      <td>541.802618</td>\n",
       "      <td>43424.0288</td>\n",
       "      <td>8199.14228</td>\n",
       "      <td>313.133072</td>\n",
       "      <td>159104.48</td>\n",
       "      <td>30041.438</td>\n",
       "      <td>1147.3112</td>\n",
       "      <td>17362.352</td>\n",
       "    </tr>\n",
       "    <tr>\n",
       "      <th>1</th>\n",
       "      <td>0.09512</td>\n",
       "      <td>12.83</td>\n",
       "      <td>0.437</td>\n",
       "      <td>6.286</td>\n",
       "      <td>45.0</td>\n",
       "      <td>398.0</td>\n",
       "      <td>18.7</td>\n",
       "      <td>8.94</td>\n",
       "      <td>1.220390</td>\n",
       "      <td>0.041567</td>\n",
       "      <td>...</td>\n",
       "      <td>112582.2600</td>\n",
       "      <td>5289.66900</td>\n",
       "      <td>2528.857800</td>\n",
       "      <td>46784.1836</td>\n",
       "      <td>22366.34232</td>\n",
       "      <td>1050.880908</td>\n",
       "      <td>334917.00</td>\n",
       "      <td>160115.400</td>\n",
       "      <td>7523.0100</td>\n",
       "      <td>66536.844</td>\n",
       "    </tr>\n",
       "    <tr>\n",
       "      <th>2</th>\n",
       "      <td>0.05059</td>\n",
       "      <td>4.49</td>\n",
       "      <td>0.449</td>\n",
       "      <td>6.389</td>\n",
       "      <td>48.0</td>\n",
       "      <td>247.0</td>\n",
       "      <td>18.5</td>\n",
       "      <td>9.62</td>\n",
       "      <td>0.227149</td>\n",
       "      <td>0.022715</td>\n",
       "      <td>...</td>\n",
       "      <td>75747.9840</td>\n",
       "      <td>5673.43200</td>\n",
       "      <td>2950.184640</td>\n",
       "      <td>29194.5355</td>\n",
       "      <td>15181.15846</td>\n",
       "      <td>1137.050330</td>\n",
       "      <td>219336.00</td>\n",
       "      <td>114054.720</td>\n",
       "      <td>8542.5600</td>\n",
       "      <td>43958.590</td>\n",
       "    </tr>\n",
       "    <tr>\n",
       "      <th>3</th>\n",
       "      <td>0.27957</td>\n",
       "      <td>9.69</td>\n",
       "      <td>0.585</td>\n",
       "      <td>5.926</td>\n",
       "      <td>42.6</td>\n",
       "      <td>391.0</td>\n",
       "      <td>19.2</td>\n",
       "      <td>13.59</td>\n",
       "      <td>2.709033</td>\n",
       "      <td>0.163548</td>\n",
       "      <td>...</td>\n",
       "      <td>98707.0116</td>\n",
       "      <td>4846.99392</td>\n",
       "      <td>3430.762884</td>\n",
       "      <td>44487.6672</td>\n",
       "      <td>31488.92694</td>\n",
       "      <td>1546.259328</td>\n",
       "      <td>319806.72</td>\n",
       "      <td>226363.194</td>\n",
       "      <td>11115.5328</td>\n",
       "      <td>102022.848</td>\n",
       "    </tr>\n",
       "    <tr>\n",
       "      <th>4</th>\n",
       "      <td>1.05393</td>\n",
       "      <td>8.14</td>\n",
       "      <td>0.538</td>\n",
       "      <td>5.935</td>\n",
       "      <td>29.3</td>\n",
       "      <td>307.0</td>\n",
       "      <td>21.0</td>\n",
       "      <td>6.58</td>\n",
       "      <td>8.578990</td>\n",
       "      <td>0.567014</td>\n",
       "      <td>...</td>\n",
       "      <td>53385.9185</td>\n",
       "      <td>3651.80550</td>\n",
       "      <td>1144.232390</td>\n",
       "      <td>38262.9450</td>\n",
       "      <td>11989.05610</td>\n",
       "      <td>820.098300</td>\n",
       "      <td>188897.10</td>\n",
       "      <td>59187.758</td>\n",
       "      <td>4048.6740</td>\n",
       "      <td>42421.260</td>\n",
       "    </tr>\n",
       "  </tbody>\n",
       "</table>\n",
       "<p>5 rows × 92 columns</p>\n",
       "</div>"
      ],
      "text/plain": [
       "        0      1      2      3     4      5     6      7         8         9   \\\n",
       "0  0.08664   3.44  0.437  7.178  26.3  398.0  15.2   2.87  0.298042  0.037862   \n",
       "1  0.09512  12.83  0.437  6.286  45.0  398.0  18.7   8.94  1.220390  0.041567   \n",
       "2  0.05059   4.49  0.449  6.389  48.0  247.0  18.5   9.62  0.227149  0.022715   \n",
       "3  0.27957   9.69  0.585  5.926  42.6  391.0  19.2  13.59  2.709033  0.163548   \n",
       "4  1.05393   8.14  0.538  5.935  29.3  307.0  21.0   6.58  8.578990  0.567014   \n",
       "\n",
       "   ...           82          83           84          85           86  \\\n",
       "0  ...   75134.9972  2869.47728   541.802618  43424.0288   8199.14228   \n",
       "1  ...  112582.2600  5289.66900  2528.857800  46784.1836  22366.34232   \n",
       "2  ...   75747.9840  5673.43200  2950.184640  29194.5355  15181.15846   \n",
       "3  ...   98707.0116  4846.99392  3430.762884  44487.6672  31488.92694   \n",
       "4  ...   53385.9185  3651.80550  1144.232390  38262.9450  11989.05610   \n",
       "\n",
       "            87         88          89          90          91  \n",
       "0   313.133072  159104.48   30041.438   1147.3112   17362.352  \n",
       "1  1050.880908  334917.00  160115.400   7523.0100   66536.844  \n",
       "2  1137.050330  219336.00  114054.720   8542.5600   43958.590  \n",
       "3  1546.259328  319806.72  226363.194  11115.5328  102022.848  \n",
       "4   820.098300  188897.10   59187.758   4048.6740   42421.260  \n",
       "\n",
       "[5 rows x 92 columns]"
      ]
     },
     "execution_count": 84,
     "metadata": {},
     "output_type": "execute_result"
    }
   ],
   "source": [
    "df_XtrainPoli = pd.DataFrame(X_trainPoli)\n",
    "df_XtrainPoli.head()"
   ]
  },
  {
   "cell_type": "code",
   "execution_count": 85,
   "id": "73b34b6c",
   "metadata": {},
   "outputs": [
    {
     "data": {
      "text/html": [
       "<div>\n",
       "<style scoped>\n",
       "    .dataframe tbody tr th:only-of-type {\n",
       "        vertical-align: middle;\n",
       "    }\n",
       "\n",
       "    .dataframe tbody tr th {\n",
       "        vertical-align: top;\n",
       "    }\n",
       "\n",
       "    .dataframe thead th {\n",
       "        text-align: right;\n",
       "    }\n",
       "</style>\n",
       "<table border=\"1\" class=\"dataframe\">\n",
       "  <thead>\n",
       "    <tr style=\"text-align: right;\">\n",
       "      <th></th>\n",
       "      <th>0</th>\n",
       "      <th>1</th>\n",
       "      <th>2</th>\n",
       "      <th>3</th>\n",
       "      <th>4</th>\n",
       "      <th>5</th>\n",
       "      <th>6</th>\n",
       "      <th>7</th>\n",
       "      <th>8</th>\n",
       "      <th>9</th>\n",
       "      <th>...</th>\n",
       "      <th>82</th>\n",
       "      <th>83</th>\n",
       "      <th>84</th>\n",
       "      <th>85</th>\n",
       "      <th>86</th>\n",
       "      <th>87</th>\n",
       "      <th>88</th>\n",
       "      <th>89</th>\n",
       "      <th>90</th>\n",
       "      <th>91</th>\n",
       "    </tr>\n",
       "  </thead>\n",
       "  <tbody>\n",
       "    <tr>\n",
       "      <th>0</th>\n",
       "      <td>0.06724</td>\n",
       "      <td>3.24</td>\n",
       "      <td>0.460</td>\n",
       "      <td>6.333</td>\n",
       "      <td>17.2</td>\n",
       "      <td>430.0</td>\n",
       "      <td>16.9</td>\n",
       "      <td>7.34</td>\n",
       "      <td>0.217858</td>\n",
       "      <td>0.030930</td>\n",
       "      <td>...</td>\n",
       "      <td>46838.8680</td>\n",
       "      <td>1840.87644</td>\n",
       "      <td>799.528584</td>\n",
       "      <td>46021.9110</td>\n",
       "      <td>19988.21460</td>\n",
       "      <td>785.583318</td>\n",
       "      <td>124992.40</td>\n",
       "      <td>54286.640</td>\n",
       "      <td>2133.5912</td>\n",
       "      <td>53339.780</td>\n",
       "    </tr>\n",
       "    <tr>\n",
       "      <th>1</th>\n",
       "      <td>1.15172</td>\n",
       "      <td>8.14</td>\n",
       "      <td>0.538</td>\n",
       "      <td>5.701</td>\n",
       "      <td>95.0</td>\n",
       "      <td>307.0</td>\n",
       "      <td>21.0</td>\n",
       "      <td>18.35</td>\n",
       "      <td>9.375001</td>\n",
       "      <td>0.619625</td>\n",
       "      <td>...</td>\n",
       "      <td>166269.6650</td>\n",
       "      <td>11373.49500</td>\n",
       "      <td>9938.268250</td>\n",
       "      <td>36754.3470</td>\n",
       "      <td>32116.29845</td>\n",
       "      <td>2196.880350</td>\n",
       "      <td>612465.00</td>\n",
       "      <td>535177.750</td>\n",
       "      <td>36608.2500</td>\n",
       "      <td>118302.450</td>\n",
       "    </tr>\n",
       "    <tr>\n",
       "      <th>2</th>\n",
       "      <td>0.62739</td>\n",
       "      <td>8.14</td>\n",
       "      <td>0.538</td>\n",
       "      <td>5.834</td>\n",
       "      <td>56.5</td>\n",
       "      <td>307.0</td>\n",
       "      <td>21.0</td>\n",
       "      <td>8.47</td>\n",
       "      <td>5.106955</td>\n",
       "      <td>0.337536</td>\n",
       "      <td>...</td>\n",
       "      <td>101193.6470</td>\n",
       "      <td>6922.04100</td>\n",
       "      <td>2791.889870</td>\n",
       "      <td>37611.7980</td>\n",
       "      <td>15170.09186</td>\n",
       "      <td>1037.693580</td>\n",
       "      <td>364255.50</td>\n",
       "      <td>146916.385</td>\n",
       "      <td>10049.6550</td>\n",
       "      <td>54606.090</td>\n",
       "    </tr>\n",
       "    <tr>\n",
       "      <th>3</th>\n",
       "      <td>0.19186</td>\n",
       "      <td>7.38</td>\n",
       "      <td>0.493</td>\n",
       "      <td>6.431</td>\n",
       "      <td>14.7</td>\n",
       "      <td>287.0</td>\n",
       "      <td>19.6</td>\n",
       "      <td>5.08</td>\n",
       "      <td>1.415927</td>\n",
       "      <td>0.094587</td>\n",
       "      <td>...</td>\n",
       "      <td>27131.7459</td>\n",
       "      <td>1852.89972</td>\n",
       "      <td>480.241356</td>\n",
       "      <td>36175.6612</td>\n",
       "      <td>9376.14076</td>\n",
       "      <td>640.321808</td>\n",
       "      <td>82690.44</td>\n",
       "      <td>21432.012</td>\n",
       "      <td>1463.6496</td>\n",
       "      <td>28576.016</td>\n",
       "    </tr>\n",
       "    <tr>\n",
       "      <th>4</th>\n",
       "      <td>0.01432</td>\n",
       "      <td>1.32</td>\n",
       "      <td>0.411</td>\n",
       "      <td>6.816</td>\n",
       "      <td>40.5</td>\n",
       "      <td>256.0</td>\n",
       "      <td>15.1</td>\n",
       "      <td>3.95</td>\n",
       "      <td>0.018902</td>\n",
       "      <td>0.005886</td>\n",
       "      <td>...</td>\n",
       "      <td>70668.2880</td>\n",
       "      <td>4168.32480</td>\n",
       "      <td>1090.389600</td>\n",
       "      <td>26347.9296</td>\n",
       "      <td>6892.33920</td>\n",
       "      <td>406.540320</td>\n",
       "      <td>156556.80</td>\n",
       "      <td>40953.600</td>\n",
       "      <td>2415.6225</td>\n",
       "      <td>15269.120</td>\n",
       "    </tr>\n",
       "  </tbody>\n",
       "</table>\n",
       "<p>5 rows × 92 columns</p>\n",
       "</div>"
      ],
      "text/plain": [
       "        0     1      2      3     4      5     6      7         8         9   \\\n",
       "0  0.06724  3.24  0.460  6.333  17.2  430.0  16.9   7.34  0.217858  0.030930   \n",
       "1  1.15172  8.14  0.538  5.701  95.0  307.0  21.0  18.35  9.375001  0.619625   \n",
       "2  0.62739  8.14  0.538  5.834  56.5  307.0  21.0   8.47  5.106955  0.337536   \n",
       "3  0.19186  7.38  0.493  6.431  14.7  287.0  19.6   5.08  1.415927  0.094587   \n",
       "4  0.01432  1.32  0.411  6.816  40.5  256.0  15.1   3.95  0.018902  0.005886   \n",
       "\n",
       "   ...           82           83           84          85           86  \\\n",
       "0  ...   46838.8680   1840.87644   799.528584  46021.9110  19988.21460   \n",
       "1  ...  166269.6650  11373.49500  9938.268250  36754.3470  32116.29845   \n",
       "2  ...  101193.6470   6922.04100  2791.889870  37611.7980  15170.09186   \n",
       "3  ...   27131.7459   1852.89972   480.241356  36175.6612   9376.14076   \n",
       "4  ...   70668.2880   4168.32480  1090.389600  26347.9296   6892.33920   \n",
       "\n",
       "            87         88          89          90          91  \n",
       "0   785.583318  124992.40   54286.640   2133.5912   53339.780  \n",
       "1  2196.880350  612465.00  535177.750  36608.2500  118302.450  \n",
       "2  1037.693580  364255.50  146916.385  10049.6550   54606.090  \n",
       "3   640.321808   82690.44   21432.012   1463.6496   28576.016  \n",
       "4   406.540320  156556.80   40953.600   2415.6225   15269.120  \n",
       "\n",
       "[5 rows x 92 columns]"
      ]
     },
     "execution_count": 85,
     "metadata": {},
     "output_type": "execute_result"
    }
   ],
   "source": [
    "df_XtestPoli = pd.DataFrame(X_testPoli)\n",
    "df_XtestPoli.head()"
   ]
  },
  {
   "cell_type": "code",
   "execution_count": 86,
   "id": "ae93e3c5",
   "metadata": {},
   "outputs": [],
   "source": [
    "Model_PF = LinearRegression()"
   ]
  },
  {
   "cell_type": "code",
   "execution_count": 87,
   "id": "28e48c1e",
   "metadata": {},
   "outputs": [
    {
     "data": {
      "text/html": [
       "<style>#sk-container-id-2 {color: black;background-color: white;}#sk-container-id-2 pre{padding: 0;}#sk-container-id-2 div.sk-toggleable {background-color: white;}#sk-container-id-2 label.sk-toggleable__label {cursor: pointer;display: block;width: 100%;margin-bottom: 0;padding: 0.3em;box-sizing: border-box;text-align: center;}#sk-container-id-2 label.sk-toggleable__label-arrow:before {content: \"▸\";float: left;margin-right: 0.25em;color: #696969;}#sk-container-id-2 label.sk-toggleable__label-arrow:hover:before {color: black;}#sk-container-id-2 div.sk-estimator:hover label.sk-toggleable__label-arrow:before {color: black;}#sk-container-id-2 div.sk-toggleable__content {max-height: 0;max-width: 0;overflow: hidden;text-align: left;background-color: #f0f8ff;}#sk-container-id-2 div.sk-toggleable__content pre {margin: 0.2em;color: black;border-radius: 0.25em;background-color: #f0f8ff;}#sk-container-id-2 input.sk-toggleable__control:checked~div.sk-toggleable__content {max-height: 200px;max-width: 100%;overflow: auto;}#sk-container-id-2 input.sk-toggleable__control:checked~label.sk-toggleable__label-arrow:before {content: \"▾\";}#sk-container-id-2 div.sk-estimator input.sk-toggleable__control:checked~label.sk-toggleable__label {background-color: #d4ebff;}#sk-container-id-2 div.sk-label input.sk-toggleable__control:checked~label.sk-toggleable__label {background-color: #d4ebff;}#sk-container-id-2 input.sk-hidden--visually {border: 0;clip: rect(1px 1px 1px 1px);clip: rect(1px, 1px, 1px, 1px);height: 1px;margin: -1px;overflow: hidden;padding: 0;position: absolute;width: 1px;}#sk-container-id-2 div.sk-estimator {font-family: monospace;background-color: #f0f8ff;border: 1px dotted black;border-radius: 0.25em;box-sizing: border-box;margin-bottom: 0.5em;}#sk-container-id-2 div.sk-estimator:hover {background-color: #d4ebff;}#sk-container-id-2 div.sk-parallel-item::after {content: \"\";width: 100%;border-bottom: 1px solid gray;flex-grow: 1;}#sk-container-id-2 div.sk-label:hover label.sk-toggleable__label {background-color: #d4ebff;}#sk-container-id-2 div.sk-serial::before {content: \"\";position: absolute;border-left: 1px solid gray;box-sizing: border-box;top: 0;bottom: 0;left: 50%;z-index: 0;}#sk-container-id-2 div.sk-serial {display: flex;flex-direction: column;align-items: center;background-color: white;padding-right: 0.2em;padding-left: 0.2em;position: relative;}#sk-container-id-2 div.sk-item {position: relative;z-index: 1;}#sk-container-id-2 div.sk-parallel {display: flex;align-items: stretch;justify-content: center;background-color: white;position: relative;}#sk-container-id-2 div.sk-item::before, #sk-container-id-2 div.sk-parallel-item::before {content: \"\";position: absolute;border-left: 1px solid gray;box-sizing: border-box;top: 0;bottom: 0;left: 50%;z-index: -1;}#sk-container-id-2 div.sk-parallel-item {display: flex;flex-direction: column;z-index: 1;position: relative;background-color: white;}#sk-container-id-2 div.sk-parallel-item:first-child::after {align-self: flex-end;width: 50%;}#sk-container-id-2 div.sk-parallel-item:last-child::after {align-self: flex-start;width: 50%;}#sk-container-id-2 div.sk-parallel-item:only-child::after {width: 0;}#sk-container-id-2 div.sk-dashed-wrapped {border: 1px dashed gray;margin: 0 0.4em 0.5em 0.4em;box-sizing: border-box;padding-bottom: 0.4em;background-color: white;}#sk-container-id-2 div.sk-label label {font-family: monospace;font-weight: bold;display: inline-block;line-height: 1.2em;}#sk-container-id-2 div.sk-label-container {text-align: center;}#sk-container-id-2 div.sk-container {/* jupyter's `normalize.less` sets `[hidden] { display: none; }` but bootstrap.min.css set `[hidden] { display: none !important; }` so we also need the `!important` here to be able to override the default hidden behavior on the sphinx rendered scikit-learn.org. See: https://github.com/scikit-learn/scikit-learn/issues/21755 */display: inline-block !important;position: relative;}#sk-container-id-2 div.sk-text-repr-fallback {display: none;}</style><div id=\"sk-container-id-2\" class=\"sk-top-container\"><div class=\"sk-text-repr-fallback\"><pre>LinearRegression()</pre><b>In a Jupyter environment, please rerun this cell to show the HTML representation or trust the notebook. <br />On GitHub, the HTML representation is unable to render, please try loading this page with nbviewer.org.</b></div><div class=\"sk-container\" hidden><div class=\"sk-item\"><div class=\"sk-estimator sk-toggleable\"><input class=\"sk-toggleable__control sk-hidden--visually\" id=\"sk-estimator-id-2\" type=\"checkbox\" checked><label for=\"sk-estimator-id-2\" class=\"sk-toggleable__label sk-toggleable__label-arrow\">LinearRegression</label><div class=\"sk-toggleable__content\"><pre>LinearRegression()</pre></div></div></div></div></div>"
      ],
      "text/plain": [
       "LinearRegression()"
      ]
     },
     "execution_count": 87,
     "metadata": {},
     "output_type": "execute_result"
    }
   ],
   "source": [
    "Model_PF.fit(df_XtrainPoli, y_train)"
   ]
  },
  {
   "cell_type": "code",
   "execution_count": 88,
   "id": "c23f3333",
   "metadata": {},
   "outputs": [],
   "source": [
    "PF_train = Model_PF.predict(df_XtrainPoli)\n",
    "PF_test = Model_PF.predict(df_XtestPoli)"
   ]
  },
  {
   "cell_type": "markdown",
   "id": "fd01c221",
   "metadata": {},
   "source": [
    "## Evaluation Matrix Comparison"
   ]
  },
  {
   "cell_type": "code",
   "execution_count": 89,
   "id": "cbcef6cc",
   "metadata": {},
   "outputs": [],
   "source": [
    "## Training"
   ]
  },
  {
   "cell_type": "code",
   "execution_count": 90,
   "id": "41a10a56",
   "metadata": {},
   "outputs": [
    {
     "data": {
      "text/plain": [
       "0.954237794617823"
      ]
     },
     "execution_count": 90,
     "metadata": {},
     "output_type": "execute_result"
    }
   ],
   "source": [
    "r2_PF = r2_score(y_train, PF_train)\n",
    "r2_PF"
   ]
  },
  {
   "cell_type": "code",
   "execution_count": 91,
   "id": "49914e67",
   "metadata": {},
   "outputs": [
    {
     "data": {
      "text/plain": [
       "1.360326241633552"
      ]
     },
     "execution_count": 91,
     "metadata": {},
     "output_type": "execute_result"
    }
   ],
   "source": [
    "MAE_PF = mean_absolute_error(y_train, PF_train)\n",
    "MAE_PF"
   ]
  },
  {
   "cell_type": "code",
   "execution_count": 92,
   "id": "425ed00c",
   "metadata": {},
   "outputs": [
    {
     "data": {
      "text/plain": [
       "3.3974902533412004"
      ]
     },
     "execution_count": 92,
     "metadata": {},
     "output_type": "execute_result"
    }
   ],
   "source": [
    "MSE_PF = mean_squared_error(y_train, PF_train)\n",
    "MSE_PF"
   ]
  },
  {
   "cell_type": "code",
   "execution_count": 93,
   "id": "1a17e79b",
   "metadata": {},
   "outputs": [
    {
     "data": {
      "text/plain": [
       "1.8432282152086323"
      ]
     },
     "execution_count": 93,
     "metadata": {},
     "output_type": "execute_result"
    }
   ],
   "source": [
    "RMSE_PF = np.sqrt(MSE_PF)\n",
    "RMSE_PF"
   ]
  },
  {
   "cell_type": "code",
   "execution_count": 94,
   "id": "dd88ada4",
   "metadata": {},
   "outputs": [],
   "source": [
    "## Test"
   ]
  },
  {
   "cell_type": "code",
   "execution_count": 95,
   "id": "6d986244",
   "metadata": {},
   "outputs": [
    {
     "data": {
      "text/plain": [
       "0.7025950087556682"
      ]
     },
     "execution_count": 95,
     "metadata": {},
     "output_type": "execute_result"
    }
   ],
   "source": [
    "r2_PF_test = r2_score(y_test, PF_test)\n",
    "r2_PF_test"
   ]
  },
  {
   "cell_type": "code",
   "execution_count": 96,
   "id": "4d5a711d",
   "metadata": {},
   "outputs": [
    {
     "data": {
      "text/plain": [
       "2.4929195133354907"
      ]
     },
     "execution_count": 96,
     "metadata": {},
     "output_type": "execute_result"
    }
   ],
   "source": [
    "MAE_PF_test = mean_absolute_error(y_test, PF_test)\n",
    "MAE_PF_test"
   ]
  },
  {
   "cell_type": "code",
   "execution_count": 97,
   "id": "30c474f6",
   "metadata": {},
   "outputs": [
    {
     "data": {
      "text/plain": [
       "16.522337725258755"
      ]
     },
     "execution_count": 97,
     "metadata": {},
     "output_type": "execute_result"
    }
   ],
   "source": [
    "MSE_PF_test = mean_squared_error(y_test, PF_test)\n",
    "MSE_PF_test"
   ]
  },
  {
   "cell_type": "code",
   "execution_count": 98,
   "id": "4404562f",
   "metadata": {},
   "outputs": [
    {
     "data": {
      "text/plain": [
       "4.0647678562568315"
      ]
     },
     "execution_count": 98,
     "metadata": {},
     "output_type": "execute_result"
    }
   ],
   "source": [
    "RMSE_PF_test = np.sqrt(MSE_PF_test)\n",
    "RMSE_PF_test"
   ]
  },
  {
   "cell_type": "code",
   "execution_count": 99,
   "id": "005c6a84",
   "metadata": {},
   "outputs": [
    {
     "data": {
      "text/html": [
       "<div>\n",
       "<style scoped>\n",
       "    .dataframe tbody tr th:only-of-type {\n",
       "        vertical-align: middle;\n",
       "    }\n",
       "\n",
       "    .dataframe tbody tr th {\n",
       "        vertical-align: top;\n",
       "    }\n",
       "\n",
       "    .dataframe thead th {\n",
       "        text-align: right;\n",
       "    }\n",
       "</style>\n",
       "<table border=\"1\" class=\"dataframe\">\n",
       "  <thead>\n",
       "    <tr style=\"text-align: right;\">\n",
       "      <th></th>\n",
       "      <th>LinReg Training</th>\n",
       "      <th>LinReg Testing</th>\n",
       "      <th>Polynomial Training</th>\n",
       "      <th>Polynomial Testing</th>\n",
       "    </tr>\n",
       "  </thead>\n",
       "  <tbody>\n",
       "    <tr>\n",
       "      <th>R2</th>\n",
       "      <td>0.679162</td>\n",
       "      <td>0.699466</td>\n",
       "      <td>0.954238</td>\n",
       "      <td>0.702595</td>\n",
       "    </tr>\n",
       "    <tr>\n",
       "      <th>MAE</th>\n",
       "      <td>3.590584</td>\n",
       "      <td>3.719478</td>\n",
       "      <td>1.360326</td>\n",
       "      <td>2.492920</td>\n",
       "    </tr>\n",
       "    <tr>\n",
       "      <th>MSE</th>\n",
       "      <td>26.463284</td>\n",
       "      <td>27.246625</td>\n",
       "      <td>3.397490</td>\n",
       "      <td>16.522338</td>\n",
       "    </tr>\n",
       "    <tr>\n",
       "      <th>RMSE</th>\n",
       "      <td>5.144248</td>\n",
       "      <td>5.219830</td>\n",
       "      <td>1.843228</td>\n",
       "      <td>4.064768</td>\n",
       "    </tr>\n",
       "  </tbody>\n",
       "</table>\n",
       "</div>"
      ],
      "text/plain": [
       "      LinReg Training  LinReg Testing  Polynomial Training  Polynomial Testing\n",
       "R2           0.679162        0.699466             0.954238            0.702595\n",
       "MAE          3.590584        3.719478             1.360326            2.492920\n",
       "MSE         26.463284       27.246625             3.397490           16.522338\n",
       "RMSE         5.144248        5.219830             1.843228            4.064768"
      ]
     },
     "execution_count": 99,
     "metadata": {},
     "output_type": "execute_result"
    }
   ],
   "source": [
    "eva_data = {\n",
    "    \"LinReg Training\" : [r2_train, MAE_train, MSE_train, RMSE_train],\n",
    "    \"LinReg Testing\" : [r2_test, MAE_test, MSE_test, RMSE_test],\n",
    "    'Polynomial Training' : [r2_PF, MAE_PF, MSE_PF, RMSE_PF],\n",
    "    'Polynomial Testing' : [r2_PF_test, MAE_PF_test, MSE_PF_test, RMSE_PF_test]\n",
    "}\n",
    "pd.DataFrame(eva_data, index=['R2', 'MAE', 'MSE', 'RMSE'])"
   ]
  },
  {
   "cell_type": "markdown",
   "id": "95726387",
   "metadata": {},
   "source": [
    "## Improvement Machine Learning using Regularization"
   ]
  },
  {
   "cell_type": "code",
   "execution_count": 100,
   "id": "138d3deb",
   "metadata": {},
   "outputs": [],
   "source": [
    "from sklearn.linear_model import Ridge, Lasso, ElasticNet"
   ]
  },
  {
   "cell_type": "markdown",
   "id": "425f8a97",
   "metadata": {},
   "source": [
    "## Ridge"
   ]
  },
  {
   "cell_type": "code",
   "execution_count": 101,
   "id": "0ed5b663",
   "metadata": {},
   "outputs": [],
   "source": [
    "Alpha_R = np.arange(0, 3, 0.001)"
   ]
  },
  {
   "cell_type": "code",
   "execution_count": 102,
   "id": "8c7b9781",
   "metadata": {},
   "outputs": [],
   "source": [
    "train_r = []\n",
    "test_r = []\n",
    "\n",
    "for i in Alpha_R: \n",
    "    model_R = Ridge(alpha=i) \n",
    "    model_R.fit(df_XtrainPoli, y_train) \n",
    "    y_pred_tr = model_R.predict(df_XtrainPoli) \n",
    "    R2_train = r2_score(y_train, y_pred_tr) \n",
    "    train_r.append(R2_train) \n",
    "    y_pred_ts = model_R.predict(df_XtestPoli) \n",
    "    R2_test = r2_score(y_test, y_pred_ts) \n",
    "    test_r.append(R2_test)"
   ]
  },
  {
   "cell_type": "code",
   "execution_count": 118,
   "id": "980b82cd",
   "metadata": {},
   "outputs": [
    {
     "data": {
      "image/png": "[encoded data removed]",
      "text/plain": [
       "<Figure size 720x720 with 1 Axes>"
      ]
     },
     "metadata": {
      "needs_background": "light"
     },
     "output_type": "display_data"
    }
   ],
   "source": [
    "plt.figure(figsize=(10,10))\n",
    "plt.plot(Alpha_R, train_r, 'r*-')\n",
    "plt.plot(Alpha_R, test_r, 'b*-')\n",
    "plt.legend(['Train R2', 'Test R2'])\n",
    "plt.title(\"Manual Tuning Ridge\")\n",
    "plt.show()"
   ]
  },
  {
   "cell_type": "code",
   "execution_count": 104,
   "id": "2c49941c",
   "metadata": {},
   "outputs": [
    {
     "data": {
      "text/plain": [
       "[0.7025950110218522,\n",
       " 0.7771373356612583,\n",
       " 0.78934638238271,\n",
       " 0.7979992109972087,\n",
       " 0.8044395250277048,\n",
       " 0.8093917431441331,\n",
       " 0.8133007697806455,\n",
       " 0.8164545584838119,\n",
       " 0.8190467872222253,\n",
       " 0.8212119459422846,\n",
       " 0.823046001975232,\n",
       " 0.8246190618159738,\n",
       " 0.8259833967069766,\n",
       " 0.8271786825184299,\n",
       " 0.8282355121171026,\n",
       " 0.82917780545323,\n",
       " 0.8300244979652663,\n",
       " 0.8307907466478515,\n",
       " 0.8314888052092633,\n",
       " 0.8321286698099241,\n",
       " 0.8327185617648094,\n",
       " 0.8332652931048679,\n",
       " 0.8337745466256691,\n",
       " 0.8342510927553468,\n",
       " 0.8346989590642522,\n",
       " 0.8351215641018647,\n",
       " 0.8355218238080085,\n",
       " 0.8359022367946223,\n",
       " 0.8362649532754443,\n",
       " 0.8366118311706894,\n",
       " 0.8369444816873002,\n",
       " 0.8372643072779791,\n",
       " 0.8375725325888683,\n",
       " 0.8378702305247525,\n",
       " 0.8381583438762062,\n",
       " 0.8384377034180149,\n",
       " 0.8387090432875367,\n",
       " 0.8389730139562345,\n",
       " 0.8392301931144417,\n",
       " 0.8394810951655275,\n",
       " 0.8397261792657625,\n",
       " 0.8399658560370262,\n",
       " 0.8402004936555034,\n",
       " 0.8404304229087528,\n",
       " 0.8406559415563113,\n",
       " 0.8408773182654461,\n",
       " 0.8410947958761975,\n",
       " 0.841308594333128,\n",
       " 0.841518913242608,\n",
       " 0.8417259340926962,\n",
       " 0.8419298221806284,\n",
       " 0.842130728395637,\n",
       " 0.8423287906755508,\n",
       " 0.8425241353517202,\n",
       " 0.8427168783882879,\n",
       " 0.8429071263409936,\n",
       " 0.8430949773750929,\n",
       " 0.8432805220449637,\n",
       " 0.8434638440111231,\n",
       " 0.8436450207813377,\n",
       " 0.8438241241984058,\n",
       " 0.8440012210226683,\n",
       " 0.8441763733573087,\n",
       " 0.8443496391707845,\n",
       " 0.8445210725188914,\n",
       " 0.8446907239897055,\n",
       " 0.8448586410458186,\n",
       " 0.8450248681726988,\n",
       " 0.8451894472070609,\n",
       " 0.8453524175746128,\n",
       " 0.8455138164450975,\n",
       " 0.8456736789404398,\n",
       " 0.8458320383093423,\n",
       " 0.8459889260364859,\n",
       " 0.8461443720765923,\n",
       " 0.8462984048075388,\n",
       " 0.8464510513611178,\n",
       " 0.8466023375242682,\n",
       " 0.8467522879482374,\n",
       " 0.8469009262266604,\n",
       " 0.8470482749350857,\n",
       " 0.8471943557180223,\n",
       " 0.8473391893687128,\n",
       " 0.847482795840053,\n",
       " 0.8476251943920502,\n",
       " 0.8477664035529431,\n",
       " 0.8479064411851274,\n",
       " 0.8480453245701609,\n",
       " 0.8481830704022576,\n",
       " 0.8483196948272149,\n",
       " 0.8484552134968195,\n",
       " 0.848589641609383,\n",
       " 0.8487229938699118,\n",
       " 0.848855284612231,\n",
       " 0.8489865277322332,\n",
       " 0.8491167368022559,\n",
       " 0.8492459249638314,\n",
       " 0.8493741050817967,\n",
       " 0.849501289715247,\n",
       " 0.8496274910645426,\n",
       " 0.8497527210758135,\n",
       " 0.8498769914187924,\n",
       " 0.8500003135028062,\n",
       " 0.8501226985132876,\n",
       " 0.8502441573344988,\n",
       " 0.850364700662881,\n",
       " 0.8504843390035818,\n",
       " 0.8506030826128744,\n",
       " 0.8507209415723667,\n",
       " 0.8508379257554046,\n",
       " 0.8509540448534922,\n",
       " 0.8510693084002718,\n",
       " 0.8511837257272197,\n",
       " 0.8512973060532726,\n",
       " 0.8514100583561519,\n",
       " 0.8515219915601854,\n",
       " 0.8516331143483528,\n",
       " 0.8517434353172123,\n",
       " 0.8518529629302051,\n",
       " 0.8519617054727084,\n",
       " 0.8520696711366871,\n",
       " 0.852176867959458,\n",
       " 0.8522833038891969,\n",
       " 0.8523889867309693,\n",
       " 0.8524939241726117,\n",
       " 0.8525981238168288,\n",
       " 0.8527015931186864,\n",
       " 0.852804339443913,\n",
       " 0.852906370047804,\n",
       " 0.8530076921077612,\n",
       " 0.8531083126413205,\n",
       " 0.8532082386748061,\n",
       " 0.8533074770186087,\n",
       " 0.8534060344765256,\n",
       " 0.8535039177202708,\n",
       " 0.8536011333410503,\n",
       " 0.853697687847696,\n",
       " 0.8537935876613583,\n",
       " 0.853888839124655,\n",
       " 0.8539834485007856,\n",
       " 0.8540774219518613,\n",
       " 0.8541707655962306,\n",
       " 0.8542634854171969,\n",
       " 0.8543555874042557,\n",
       " 0.8544470773859072,\n",
       " 0.8545379611916688,\n",
       " 0.8546282445448337,\n",
       " 0.854717933080068,\n",
       " 0.8548070324054156,\n",
       " 0.8548955480289193,\n",
       " 0.8549834853931649,\n",
       " 0.8550708499000236,\n",
       " 0.8551576468744209,\n",
       " 0.8552438815530814,\n",
       " 0.8553295591501248,\n",
       " 0.8554146847778034,\n",
       " 0.855499263534423,\n",
       " 0.8555833004175946,\n",
       " 0.8556668003856204,\n",
       " 0.8557497683331456,\n",
       " 0.8558322091057642,\n",
       " 0.8559141274882723,\n",
       " 0.8559955281853582,\n",
       " 0.8560764158971265,\n",
       " 0.85615679524181,\n",
       " 0.8562366707810593,\n",
       " 0.8563160470209152,\n",
       " 0.8563949284423719,\n",
       " 0.8564733194450963,\n",
       " 0.8565512244055414,\n",
       " 0.8566286476240292,\n",
       " 0.8567055933837238,\n",
       " 0.8567820658921576,\n",
       " 0.8568580693042285,\n",
       " 0.8569336077801112,\n",
       " 0.857008685371615,\n",
       " 0.8570833061171061,\n",
       " 0.8571574740071555,\n",
       " 0.8572311929940124,\n",
       " 0.8573044669717752,\n",
       " 0.857377299796459,\n",
       " 0.8574496952843647,\n",
       " 0.8575216572135855,\n",
       " 0.8575931893201781,\n",
       " 0.8576642952916023,\n",
       " 0.8577349787795188,\n",
       " 0.8578052434050821,\n",
       " 0.8578750927299958,\n",
       " 0.8579445302968902,\n",
       " 0.8580135596081169,\n",
       " 0.8580821841128543,\n",
       " 0.8581504072444582,\n",
       " 0.8582182323875873,\n",
       " 0.8582856628853186,\n",
       " 0.8583527020472534,\n",
       " 0.8584193531716187,\n",
       " 0.8584856194852102,\n",
       " 0.8585515042123352,\n",
       " 0.8586170105269121,\n",
       " 0.8586821415552808,\n",
       " 0.8587469004240064,\n",
       " 0.8588112902131287,\n",
       " 0.8588753139467664,\n",
       " 0.8589389746609848,\n",
       " 0.8590022753215207,\n",
       " 0.8590652188917809,\n",
       " 0.8591278082824179,\n",
       " 0.8591900463837701,\n",
       " 0.8592519360712332,\n",
       " 0.8593134801515668,\n",
       " 0.8593746814427011,\n",
       " 0.8594355427075459,\n",
       " 0.8594960666879371,\n",
       " 0.8595562561114564,\n",
       " 0.8596161136579983,\n",
       " 0.8596756419982469,\n",
       " 0.8597348437446233,\n",
       " 0.8597937215185141,\n",
       " 0.8598522779077589,\n",
       " 0.8599105154532114,\n",
       " 0.8599684366855621,\n",
       " 0.8600260441051889,\n",
       " 0.8600833401976876,\n",
       " 0.8601403274042964,\n",
       " 0.86019700817621,\n",
       " 0.8602533848891607,\n",
       " 0.8603094599381049,\n",
       " 0.8603652356710924,\n",
       " 0.8604207144286843,\n",
       " 0.860475898514272,\n",
       " 0.8605307902193469,\n",
       " 0.8605853917992206,\n",
       " 0.8606397055107489,\n",
       " 0.8606937335511009,\n",
       " 0.8607474781397517,\n",
       " 0.8608009414417027,\n",
       " 0.8608541256122338,\n",
       " 0.8609070327778671,\n",
       " 0.860959665066886,\n",
       " 0.8610120245468414,\n",
       " 0.8610641133208141,\n",
       " 0.861115933420395,\n",
       " 0.8611674868709631,\n",
       " 0.8612187756971263,\n",
       " 0.8612698018957403,\n",
       " 0.861320567429799,\n",
       " 0.8613710742536004,\n",
       " 0.8614213242989717,\n",
       " 0.8614713194996191,\n",
       " 0.8615210617283767,\n",
       " 0.8615705528847849,\n",
       " 0.8616197948291094,\n",
       " 0.8616687894009375,\n",
       " 0.86171753842939,\n",
       " 0.8617660437208425,\n",
       " 0.8618143070742907,\n",
       " 0.8618623302663295,\n",
       " 0.8619101150429382,\n",
       " 0.8619576631536235,\n",
       " 0.8620049763341279,\n",
       " 0.8620520562744327,\n",
       " 0.8620989046808166,\n",
       " 0.8621455232275717,\n",
       " 0.8621919135823938,\n",
       " 0.8622380773808236,\n",
       " 0.8622840162713812,\n",
       " 0.8623297318535611,\n",
       " 0.8623752257382258,\n",
       " 0.862420499509722,\n",
       " 0.8624655547289817,\n",
       " 0.8625103929674275,\n",
       " 0.862555015765677,\n",
       " 0.8625994246435771,\n",
       " 0.8626436211247017,\n",
       " 0.8626876067145558,\n",
       " 0.8627313828884401,\n",
       " 0.8627749511238294,\n",
       " 0.8628183128849984,\n",
       " 0.8628614696089778,\n",
       " 0.8629044227377101,\n",
       " 0.8629471736970257,\n",
       " 0.8629897238852469,\n",
       " 0.8630320746943414,\n",
       " 0.8630742275209294,\n",
       " 0.8631161837221768,\n",
       " 0.8631579446706146,\n",
       " 0.863199511698739,\n",
       " 0.8632408861411638,\n",
       " 0.8632820693223238,\n",
       " 0.8633230625554434,\n",
       " 0.8633638671431425,\n",
       " 0.8634044843540709,\n",
       " 0.8634449154873303,\n",
       " 0.8634851617955674,\n",
       " 0.8635252245284737,\n",
       " 0.8635651049323576,\n",
       " 0.8636048042386401,\n",
       " 0.8636443236640273,\n",
       " 0.8636836644245156,\n",
       " 0.8637228277141558,\n",
       " 0.8637618147234652,\n",
       " 0.8638006266267584,\n",
       " 0.863839264601615,\n",
       " 0.8638777297889337,\n",
       " 0.8639160233595403,\n",
       " 0.8639541464346658,\n",
       " 0.8639921001532522,\n",
       " 0.8640298856207247,\n",
       " 0.8640675039541907,\n",
       " 0.8641049562448895,\n",
       " 0.8641422436000465,\n",
       " 0.8641793670844311,\n",
       " 0.8642163277741357,\n",
       " 0.8642531267250566,\n",
       " 0.8642897650007274,\n",
       " 0.8643262436404053,\n",
       " 0.8643625636803309,\n",
       " 0.8643987261382672,\n",
       " 0.8644347320468769,\n",
       " 0.8644705824046723,\n",
       " 0.8645062782178929,\n",
       " 0.8645418204743178,\n",
       " 0.8645772101598426,\n",
       " 0.8646124482553396,\n",
       " 0.8646475357185488,\n",
       " 0.864682473520059,\n",
       " 0.8647172625939388,\n",
       " 0.8647519039042723,\n",
       " 0.8647863983689897,\n",
       " 0.8648207469298891,\n",
       " 0.8648549505019398,\n",
       " 0.8648890099897514,\n",
       " 0.8649229263109822,\n",
       " 0.8649567003571453,\n",
       " 0.8649903330196005,\n",
       " 0.8650238251792675,\n",
       " 0.8650571777176295,\n",
       " 0.8650903914986772,\n",
       " 0.8651234673841923,\n",
       " 0.8651564062292161,\n",
       " 0.8651892088721872,\n",
       " 0.8652218761735742,\n",
       " 0.8652544089552874,\n",
       " 0.8652868080360046,\n",
       " 0.8653190742537267,\n",
       " 0.8653512084097024,\n",
       " 0.8653832113159069,\n",
       " 0.8654150837700921,\n",
       " 0.8654468265718598,\n",
       " 0.8654784405032447,\n",
       " 0.8655099263494574,\n",
       " 0.8655412848876733,\n",
       " 0.865572516879801,\n",
       " 0.8656036230938515,\n",
       " 0.865634604289387,\n",
       " 0.8656654612132957,\n",
       " 0.865696194611297,\n",
       " 0.865726805223191,\n",
       " 0.8657572937800284,\n",
       " 0.8657876610168884,\n",
       " 0.8658179076490227,\n",
       " 0.8658480343913644,\n",
       " 0.8658780419609508,\n",
       " 0.8659079310533268,\n",
       " 0.865937702381661,\n",
       " 0.865967356621502,\n",
       " 0.8659968944805179,\n",
       " 0.8660263166251615,\n",
       " 0.8660556237462543,\n",
       " 0.8660848165161413,\n",
       " 0.8661138955976995,\n",
       " 0.8661428616507103,\n",
       " 0.8661717153392174,\n",
       " 0.8662004573084984,\n",
       " 0.8662290882116527,\n",
       " 0.866257608688775,\n",
       " 0.8662860193722328,\n",
       " 0.8663143209089503,\n",
       " 0.8663425139174266,\n",
       " 0.8663705990168185,\n",
       " 0.8663985768273677,\n",
       " 0.8664264479670025,\n",
       " 0.8664542130476367,\n",
       " 0.8664818726551838,\n",
       " 0.8665094274090666,\n",
       " 0.8665368778946583,\n",
       " 0.8665642247103895,\n",
       " 0.8665914684377314,\n",
       " 0.8666186096517895,\n",
       " 0.8666456489413036,\n",
       " 0.8666725868793815,\n",
       " 0.8666994240209369,\n",
       " 0.8667261609466841,\n",
       " 0.8667527982118025,\n",
       " 0.8667793363716102,\n",
       " 0.866805775973438,\n",
       " 0.8668321175699455,\n",
       " 0.8668583617120084,\n",
       " 0.8668845089321866,\n",
       " 0.8669105597674591,\n",
       " 0.8669365147473911,\n",
       " 0.8669623744016703,\n",
       " 0.8669881392602328,\n",
       " 0.8670138098387247,\n",
       " 0.8670393866574438,\n",
       " 0.8670648702251884,\n",
       " 0.8670902610443708,\n",
       " 0.8671155596391876,\n",
       " 0.8671407664996189,\n",
       " 0.867165882128213,\n",
       " 0.8671909070140849,\n",
       " 0.8672158416494551,\n",
       " 0.867240686525722,\n",
       " 0.8672654421226969,\n",
       " 0.8672901089294383,\n",
       " 0.8673146874142053,\n",
       " 0.8673391780440598,\n",
       " 0.867363581308975,\n",
       " 0.8673878976613227,\n",
       " 0.8674121275671752,\n",
       " 0.8674362714993902,\n",
       " 0.8674603298981356,\n",
       " 0.8674843032179461,\n",
       " 0.8675081919224183,\n",
       " 0.867531996443377,\n",
       " 0.8675557172408557,\n",
       " 0.8675793547519395,\n",
       " 0.8676029094074126,\n",
       " 0.867626381638668,\n",
       " 0.8676497719003953,\n",
       " 0.8676730805935596,\n",
       " 0.8676963081559542,\n",
       " 0.8677194550184599,\n",
       " 0.8677425215913075,\n",
       " 0.8677655082929541,\n",
       " 0.8677884155360865,\n",
       " 0.8678112437470406,\n",
       " 0.8678339933150485,\n",
       " 0.86785666464847,\n",
       " 0.8678792581602367,\n",
       " 0.8679017742401302,\n",
       " 0.8679242132985167,\n",
       " 0.8679465757122327,\n",
       " 0.8679688618865447,\n",
       " 0.8679910722036968,\n",
       " 0.8680132070543096,\n",
       " 0.8680352668225048,\n",
       " 0.8680572518935974,\n",
       " 0.8680791626324312,\n",
       " 0.8681009994320299,\n",
       " 0.8681227626428272,\n",
       " 0.86814445265924,\n",
       " 0.868166069843021,\n",
       " 0.8681876145585181,\n",
       " 0.8682090871743661,\n",
       " 0.8682304880328766,\n",
       " 0.8682518175166362,\n",
       " 0.8682730759711671,\n",
       " 0.868294263749793,\n",
       " 0.8683153812092665,\n",
       " 0.868336428686125,\n",
       " 0.868357406540451,\n",
       " 0.8683783151136071,\n",
       " 0.8683991547537311,\n",
       " 0.8684199257803753,\n",
       " 0.8684406285572541,\n",
       " 0.8684612634010735,\n",
       " 0.8684818306519084,\n",
       " 0.8685023306401027,\n",
       " 0.8685227636984765,\n",
       " 0.8685431301445149,\n",
       " 0.868563430314478,\n",
       " 0.8685836645277916,\n",
       " 0.868603833098569,\n",
       " 0.8686239363519122,\n",
       " 0.8686439745920277,\n",
       " 0.8686639481575352,\n",
       " 0.8686838573407284,\n",
       " 0.8687037024513387,\n",
       " 0.868723483803276,\n",
       " 0.8687432017083025,\n",
       " 0.8687628564578525,\n",
       " 0.8687824483629705,\n",
       " 0.8688019777254004,\n",
       " 0.868821444829594,\n",
       " 0.8688408499885367,\n",
       " 0.8688601934888139,\n",
       " 0.868879475624214,\n",
       " 0.868898696695435,\n",
       " 0.8689178569658161,\n",
       " 0.868936956742192,\n",
       " 0.8689559963145308,\n",
       " 0.868974975953912,\n",
       " 0.8689938959430548,\n",
       " 0.8690127565638126,\n",
       " 0.8690315580953875,\n",
       " 0.8690503008175727,\n",
       " 0.8690689849995246,\n",
       " 0.8690876109117158,\n",
       " 0.8691061788304966,\n",
       " 0.8691246890297236,\n",
       " 0.869143141764382,\n",
       " 0.869161537308413,\n",
       " 0.8691798759301208,\n",
       " 0.8691981578751777,\n",
       " 0.8692163834303438,\n",
       " 0.8692345528345975,\n",
       " 0.8692526663588735,\n",
       " 0.8692707242495537,\n",
       " 0.8692887267647094,\n",
       " 0.8693066741556063,\n",
       " 0.869324566682814,\n",
       " 0.869342404580923,\n",
       " 0.8693601881167958,\n",
       " 0.8693779175185176,\n",
       " 0.8693955930515762,\n",
       " 0.8694132149357368,\n",
       " 0.869430783438844,\n",
       " 0.8694482987854848,\n",
       " 0.8694657612205748,\n",
       " 0.8694831709742378,\n",
       " 0.8695005282963887,\n",
       " 0.8695178334148836,\n",
       " 0.8695350865655381,\n",
       " 0.8695522879750732,\n",
       " 0.86956943788421,\n",
       " 0.8695865365156951,\n",
       " 0.8696035840979774,\n",
       " 0.8696205808592703,\n",
       " 0.8696375270239907,\n",
       " 0.8696544228125493,\n",
       " 0.8696712684598233,\n",
       " 0.8696880641688615,\n",
       " 0.8697048101787146,\n",
       " 0.8697215066977195,\n",
       " 0.8697381539410531,\n",
       " 0.8697547521289389,\n",
       " 0.8697713014799803,\n",
       " 0.8697878022014404,\n",
       " 0.8698042545051167,\n",
       " 0.8698206586079763,\n",
       " 0.8698370147162714,\n",
       " 0.8698533230400758,\n",
       " 0.8698695837825836,\n",
       " 0.8698857971515217,\n",
       " 0.8699019633601899,\n",
       " 0.8699180825978977,\n",
       " 0.8699341550873445,\n",
       " 0.8699501810033766,\n",
       " 0.8699661605664981,\n",
       " 0.8699820939612091,\n",
       " 0.8699979813999562,\n",
       " 0.8700138230713088,\n",
       " 0.8700296191687791,\n",
       " 0.8700453698915585,\n",
       " 0.8700610754407072,\n",
       " 0.8700767359875569,\n",
       " 0.8700923517391784,\n",
       " 0.8701079228810772,\n",
       " 0.8701234495986864,\n",
       " 0.870138932092782,\n",
       " 0.87015437053183,\n",
       " 0.8701697651136675,\n",
       " 0.8701851160164598,\n",
       " 0.8702004234308495,\n",
       " 0.8702156875312166,\n",
       " 0.8702309085066605,\n",
       " 0.8702460865296158,\n",
       " 0.8702612217852672,\n",
       " 0.8702763144499023,\n",
       " 0.8702913647035366,\n",
       " 0.8703063727196348,\n",
       " 0.8703213386730355,\n",
       " 0.8703362627399178,\n",
       " 0.8703511450862207,\n",
       " 0.8703659859008748,\n",
       " 0.870380785339571,\n",
       " 0.8703955435815276,\n",
       " 0.8704102607840907,\n",
       " 0.8704249371381387,\n",
       " 0.870439572789245,\n",
       " 0.8704541679237292,\n",
       " 0.8704687226846295,\n",
       " 0.8704832372555681,\n",
       " 0.87049771179184,\n",
       " 0.8705121464600941,\n",
       " 0.8705265414173684,\n",
       " 0.8705408968305041,\n",
       " 0.870555212858413,\n",
       " 0.8705694896499815,\n",
       " 0.8705837273883019,\n",
       " 0.8705979262101032,\n",
       " 0.8706120862741057,\n",
       " 0.8706262077402975,\n",
       " 0.8706402907732831,\n",
       " 0.870654335512909,\n",
       " 0.870668342113993,\n",
       " 0.8706823107347754,\n",
       " 0.8706962415271934,\n",
       " 0.8707101346345464,\n",
       " 0.8707239902224564,\n",
       " 0.8707378084177203,\n",
       " 0.8707515893882725,\n",
       " 0.8707653332733758,\n",
       " 0.8707790402185682,\n",
       " 0.8707927103784833,\n",
       " 0.8708063438847367,\n",
       " 0.8708199408980479,\n",
       " 0.8708335015441657,\n",
       " 0.8708470259807203,\n",
       " 0.8708605143460896,\n",
       " 0.8708739667783005,\n",
       " 0.8708873834176705,\n",
       " 0.8709007644131328,\n",
       " 0.870914109886652,\n",
       " 0.8709274199935747,\n",
       " 0.8709406948686913,\n",
       " 0.8709539346436977,\n",
       " 0.8709671394559214,\n",
       " 0.8709803094403193,\n",
       " 0.8709934447333265,\n",
       " 0.8710065454650494,\n",
       " 0.8710196117785558,\n",
       " 0.871032643799224,\n",
       " 0.8710456416627941,\n",
       " 0.8710586054948994,\n",
       " 0.8710715354268049,\n",
       " 0.8710844315974574,\n",
       " 0.8710972941275799,\n",
       " 0.8711101231439428,\n",
       " 0.8711229187846402,\n",
       " 0.8711356811677962,\n",
       " 0.8711484104245203,\n",
       " 0.871161106670038,\n",
       " 0.8711737700475595,\n",
       " 0.8711864006743746,\n",
       " 0.8711989986654751,\n",
       " 0.8712115641550418,\n",
       " 0.8712240972609548,\n",
       " 0.8712365981080408,\n",
       " 0.871249066818824,\n",
       " 0.8712615035071875,\n",
       " 0.8712739082997676,\n",
       " 0.8712862813144373,\n",
       " 0.871298622668336,\n",
       " 0.8713109324840257,\n",
       " 0.8713232108697304,\n",
       " 0.8713354579523581,\n",
       " 0.8713476738486392,\n",
       " 0.8713598586678257,\n",
       " 0.8713720125346219,\n",
       " 0.8713841355489877,\n",
       " 0.8713962278402785,\n",
       " 0.8714082895184541,\n",
       " 0.8714203206899522,\n",
       " 0.8714323214663073,\n",
       " 0.8714442919700456,\n",
       " 0.8714562323083974,\n",
       " 0.8714681425866477,\n",
       " 0.8714800229237091,\n",
       " 0.8714918734189103,\n",
       " 0.8715036941925944,\n",
       " 0.8715154853444999,\n",
       " 0.8715272469883805,\n",
       " 0.8715389792184545,\n",
       " 0.8715506821648367,\n",
       " 0.8715623559204229,\n",
       " 0.871574000587576,\n",
       " 0.8715856162796507,\n",
       " 0.87159720309805,\n",
       " 0.8716087611500519,\n",
       " 0.8716202905363599,\n",
       " 0.8716317913586245,\n",
       " 0.8716432637166432,\n",
       " 0.871654707720739,\n",
       " 0.8716661234726948,\n",
       " 0.8716775110689869,\n",
       " 0.8716888706173558,\n",
       " 0.8717002022056448,\n",
       " 0.8717115059449092,\n",
       " 0.8717227819277245,\n",
       " 0.8717340302598665,\n",
       " 0.8717452510358012,\n",
       " 0.8717564443496026,\n",
       " 0.8717676103018289,\n",
       " 0.8717787489935914,\n",
       " 0.8717898605185835,\n",
       " 0.8718009449635762,\n",
       " 0.871812002440096,\n",
       " 0.8718230330334182,\n",
       " 0.8718340368405806,\n",
       " 0.8718450139586755,\n",
       " 0.8718559644733117,\n",
       " 0.8718668884856025,\n",
       " 0.8718777860835542,\n",
       " 0.8718886573594954,\n",
       " 0.8718995024129583,\n",
       " 0.8719103213246696,\n",
       " 0.8719211141936871,\n",
       " 0.8719318810997594,\n",
       " 0.8719426221517979,\n",
       " 0.8719533374261565,\n",
       " 0.8719640270093274,\n",
       " 0.8719746909923847,\n",
       " 0.871985329479637,\n",
       " 0.8719959425409345,\n",
       " 0.8720065302658745,\n",
       " 0.8720170927480588,\n",
       " 0.8720276300687031,\n",
       " 0.8720381423189093,\n",
       " 0.8720486295769394,\n",
       " 0.8720590919444148,\n",
       " 0.8720695294886692,\n",
       " 0.8720799423076626,\n",
       " 0.8720903304800649,\n",
       " 0.8721006940800669,\n",
       " 0.8721110332163611,\n",
       " 0.8721213479467781,\n",
       " 0.8721316383619064,\n",
       " 0.8721419045569473,\n",
       " 0.8721521465946243,\n",
       " 0.8721623645731298,\n",
       " 0.872172558560629,\n",
       " 0.8721827286444424,\n",
       " 0.8721928749047858,\n",
       " 0.8722029974208768,\n",
       " 0.8722130962742171,\n",
       " 0.8722231715455733,\n",
       " 0.8722332233081223,\n",
       " 0.872243251650564,\n",
       " 0.8722532566372906,\n",
       " 0.8722632383575661,\n",
       " 0.8722731968830487,\n",
       " 0.8722831322884758,\n",
       " 0.872293044665955,\n",
       " 0.8723029340759466,\n",
       " 0.8723128006010366,\n",
       " 0.8723226443176681,\n",
       " 0.8723324652937812,\n",
       " 0.8723422636193975,\n",
       " 0.8723520393584034,\n",
       " 0.8723617925876435,\n",
       " 0.8723715233856885,\n",
       " 0.8723812318102205,\n",
       " 0.8723909179539627,\n",
       " 0.8724005818845956,\n",
       " 0.8724102236762895,\n",
       " 0.872419843387063,\n",
       " 0.8724294411060682,\n",
       " 0.8724390169036347,\n",
       " 0.8724485708455844,\n",
       " 0.8724581030041839,\n",
       " 0.8724676134531496,\n",
       " 0.8724771022572154,\n",
       " 0.8724865694905555,\n",
       " 0.8724960152257647,\n",
       " 0.8725054395302851,\n",
       " 0.8725148424694367,\n",
       " 0.8725242241155449,\n",
       " 0.8725335845404678,\n",
       " 0.8725429238100367,\n",
       " 0.8725522419921381,\n",
       " 0.8725615391534824,\n",
       " 0.8725708153623863,\n",
       " 0.8725800706894924,\n",
       " 0.8725893051965987,\n",
       " 0.8725985189487793,\n",
       " 0.8726077120177715,\n",
       " 0.8726168844732637,\n",
       " 0.872626036371496,\n",
       " 0.8726351677779366,\n",
       " 0.872644278765793,\n",
       " 0.8726533693995946,\n",
       " 0.8726624397376347,\n",
       " 0.8726714898418273,\n",
       " 0.8726805197891746,\n",
       " 0.8726895296327996,\n",
       " 0.8726985194434607,\n",
       " 0.8727074892717026,\n",
       " 0.8727164392005828,\n",
       " 0.8727253692685828,\n",
       " 0.8727342795574103,\n",
       " 0.8727431701251075,\n",
       " 0.8727520410218812,\n",
       " 0.8727608923301929,\n",
       " 0.8727697240936926,\n",
       " 0.872778536378524,\n",
       " 0.8727873292483638,\n",
       " 0.8727961027604636,\n",
       " 0.8728048569766961,\n",
       " 0.8728135919553018,\n",
       " 0.8728223077586137,\n",
       " 0.8728310044504741,\n",
       " 0.8728396820805958,\n",
       " 0.8728483407176174,\n",
       " 0.8728569804093147,\n",
       " 0.8728656012215676,\n",
       " 0.872874203213683,\n",
       " 0.8728827864355995,\n",
       " 0.8728913509512811,\n",
       " 0.8728998968257791,\n",
       " 0.8729084240998286,\n",
       " 0.8729169328424401,\n",
       " 0.8729254231065908,\n",
       " 0.872933894950481,\n",
       " 0.8729423484259912,\n",
       " 0.8729507835942699,\n",
       " 0.8729592005109514,\n",
       " 0.8729675992273751,\n",
       " 0.8729759798060304,\n",
       " 0.8729843422946315,\n",
       " 0.8729926867530755,\n",
       " 0.8730010132337147,\n",
       " 0.8730093217877577,\n",
       " 0.8730176124798465,\n",
       " 0.8730258853577392,\n",
       " 0.8730341404706073,\n",
       " 0.8730423778771855,\n",
       " 0.8730505976390296,\n",
       " 0.8730587997891179,\n",
       " 0.8730669843953588,\n",
       " 0.8730751515066641,\n",
       " 0.8730833011809902,\n",
       " 0.8730914334578239,\n",
       " 0.8730995483983082,\n",
       " 0.8731076460557436,\n",
       " 0.8731157264837309,\n",
       " 0.8731237897218431,\n",
       " 0.8731318358220667,\n",
       " 0.8731398648567374,\n",
       " 0.8731478768510634,\n",
       " 0.8731558718674418,\n",
       " 0.8731638499548009,\n",
       " 0.8731718111681902,\n",
       " 0.8731797555510349,\n",
       " 0.8731876831523349,\n",
       " 0.8731955940266425,\n",
       " 0.8732034882202013,\n",
       " 0.8732113657881828,\n",
       " 0.8732192267666238,\n",
       " 0.8732270712184075,\n",
       " 0.8732348991796427,\n",
       " 0.8732427107078728,\n",
       " 0.873250505851618,\n",
       " 0.8732582846551298,\n",
       " 0.8732660471645891,\n",
       " 0.8732737934282839,\n",
       " 0.8732815234966884,\n",
       " 0.8732892374156501,\n",
       " 0.8732969352297204,\n",
       " 0.8733046169918324,\n",
       " 0.8733122827437703,\n",
       " 0.8733199325309635,\n",
       " 0.8733275664061444,\n",
       " 0.8733351844076149,\n",
       " 0.8733427865842267,\n",
       " 0.873350372987141,\n",
       " 0.8733579436566945,\n",
       " 0.8733654986341925,\n",
       " 0.8733730379700746,\n",
       " 0.8733805617145105,\n",
       " 0.8733880699034766,\n",
       " 0.8733955625871375,\n",
       " 0.873403039802725,\n",
       " 0.8734105016011179,\n",
       " 0.8734179480281012,\n",
       " 0.873425379122281,\n",
       " 0.8734327949297125,\n",
       " 0.873440195492861,\n",
       " 0.8734475808597681,\n",
       " 0.8734549510691849,\n",
       " 0.8734623061677649,\n",
       " 0.873469646188774,\n",
       " 0.8734769711891228,\n",
       " 0.873484281201752,\n",
       " 0.8734915762731258,\n",
       " 0.8734988564444293,\n",
       " 0.8735061217533011,\n",
       " 0.873513372251059,\n",
       " 0.8735206079792918,\n",
       " 0.8735278289673433,\n",
       " 0.8735350352674871,\n",
       " 0.8735422269179184,\n",
       " 0.8735494039635914,\n",
       " 0.8735565664351894,\n",
       " 0.8735637143829491,\n",
       " 0.8735708478464823,\n",
       " 0.8735779668654375,\n",
       " 0.8735850714771098,\n",
       " 0.873592161725165,\n",
       " 0.8735992376491097,\n",
       " 0.8736062992877003,\n",
       " 0.8736133466832368,\n",
       " 0.8736203798731643,\n",
       " 0.8736273988954835,\n",
       " 0.8736344037897857,\n",
       " 0.8736413945995044,\n",
       " 0.8736483713630747,\n",
       " 0.873655334115525,\n",
       " 0.8736622828940233,\n",
       " 0.8736692177498459,\n",
       " 0.8736761387037812,\n",
       " 0.873683045804548,\n",
       " 0.8736899390924089,\n",
       " 0.8736968185954578,\n",
       " 0.873703684361236,\n",
       " 0.873710536421709,\n",
       " 0.8737173748170715,\n",
       " 0.8737241995815386,\n",
       " 0.8737310107590698,\n",
       " 0.8737378083813852,\n",
       " 0.8737445924821036,\n",
       " 0.8737513631066767,\n",
       " 0.8737581202873785,\n",
       " 0.8737648640617464,\n",
       " 0.8737715944674581,\n",
       " 0.8737783115393322,\n",
       " 0.8737850153122897,\n",
       " 0.8737917058242807,\n",
       " 0.8737983831121479,\n",
       " 0.873805047206555,\n",
       " 0.8738116981499612,\n",
       " 0.8738183359698508,\n",
       " 0.8738249607144526,\n",
       " 0.8738315724010829,\n",
       " 0.8738381710819092,\n",
       " 0.8738447567848833,\n",
       " 0.8738513295426393,\n",
       " 0.8738578893944223,\n",
       " 0.8738644363737611,\n",
       " 0.873870970513526,\n",
       " 0.87387749184218,\n",
       " 0.8738840004096549,\n",
       " 0.8738904962358531,\n",
       " 0.873896979365341,\n",
       " 0.8739034498205557,\n",
       " 0.8739099076446495,\n",
       " 0.8739163528695831,\n",
       " 0.8739227855235933,\n",
       " 0.873929205640692,\n",
       " 0.8739356132616755,\n",
       " 0.8739420084184623,\n",
       " 0.8739483911338517,\n",
       " 0.8739547614505131,\n",
       " 0.8739611193955876,\n",
       " 0.8739674650130157,\n",
       " 0.8739737983175193,\n",
       " 0.8739801193525665,\n",
       " 0.8739864281565572,\n",
       " 0.8739927247509318,\n",
       " 0.8739990091648124,\n",
       " 0.8740052814384118,\n",
       " 0.874011541607689,\n",
       " 0.8740177896920679,\n",
       " 0.8740240257334101,\n",
       " 0.8740302497578198,\n",
       " 0.8740364617961649,\n",
       " 0.8740426618831338,\n",
       " 0.8740488500477277,\n",
       " 0.8740550263174922,\n",
       " 0.8740611907333103,\n",
       " 0.8740673433209147,\n",
       " 0.8740734841089655,\n",
       " 0.8740796131257899,\n",
       " 0.8740857304084361,\n",
       " 0.8740918359858552,\n",
       " 0.8740979298880333,\n",
       " 0.8741040121423144,\n",
       " 0.8741100827804579,\n",
       " 0.8741161418295419,\n",
       " 0.8741221893298254,\n",
       " 0.8741282253026357,\n",
       " 0.8741342497765339,\n",
       " 0.8741402627803454,\n",
       " 0.8741462643522375,\n",
       " 0.8741522545182654,\n",
       " 0.874158233294695,\n",
       " 0.8741642007322787,\n",
       " 0.874170156844309,\n",
       " 0.8741761016669071,\n",
       " 0.8741820352278952,\n",
       " 0.8741879575534837,\n",
       " 0.8741938686737902,\n",
       " 0.8741997686105387,\n",
       " 0.8742056574090218,\n",
       " 0.8742115350818191,\n",
       " 0.8742174016660518,\n",
       " 0.8742232571895951,\n",
       " 0.8742291016712422,\n",
       " 0.8742349351502239,\n",
       " 0.87424075764441,\n",
       " 0.874246569192275,\n",
       " 0.8742523698154998,\n",
       " 0.8742581595411956,\n",
       " 0.8742639383954097,\n",
       " 0.8742697064095216,\n",
       " 0.8742754636129632,\n",
       " 0.8742812100271329,\n",
       " 0.8742869456843083,\n",
       " 0.8742926706040903,\n",
       " ...]"
      ]
     },
     "execution_count": 104,
     "metadata": {},
     "output_type": "execute_result"
    }
   ],
   "source": [
    "test_r"
   ]
  },
  {
   "cell_type": "code",
   "execution_count": 105,
   "id": "9beda30f",
   "metadata": {},
   "outputs": [
    {
     "data": {
      "text/plain": [
       "0.877764260943273"
      ]
     },
     "execution_count": 105,
     "metadata": {},
     "output_type": "execute_result"
    }
   ],
   "source": [
    "np.max(test_r)"
   ]
  },
  {
   "cell_type": "code",
   "execution_count": 106,
   "id": "97f22941",
   "metadata": {},
   "outputs": [
    {
     "data": {
      "text/plain": [
       "2999"
      ]
     },
     "execution_count": 106,
     "metadata": {},
     "output_type": "execute_result"
    }
   ],
   "source": [
    "np.argmax(test_r)"
   ]
  },
  {
   "cell_type": "code",
   "execution_count": 107,
   "id": "ad91a0e3",
   "metadata": {},
   "outputs": [
    {
     "data": {
      "text/plain": [
       "2.999"
      ]
     },
     "execution_count": 107,
     "metadata": {},
     "output_type": "execute_result"
    }
   ],
   "source": [
    "Alpha_R[2999]"
   ]
  },
  {
   "cell_type": "code",
   "execution_count": 108,
   "id": "c7f14d8a",
   "metadata": {},
   "outputs": [
    {
     "data": {
      "text/plain": [
       "2.999"
      ]
     },
     "execution_count": 108,
     "metadata": {},
     "output_type": "execute_result"
    }
   ],
   "source": [
    "Alpha_R[np.argmax(test_r)]"
   ]
  },
  {
   "cell_type": "code",
   "execution_count": 135,
   "id": "cba8490a",
   "metadata": {},
   "outputs": [],
   "source": [
    "Model_R_tuned = Ridge(alpha=2.999)"
   ]
  },
  {
   "cell_type": "code",
   "execution_count": 136,
   "id": "afde34c4",
   "metadata": {},
   "outputs": [
    {
     "data": {
      "text/html": [
       "<style>#sk-container-id-6 {color: black;background-color: white;}#sk-container-id-6 pre{padding: 0;}#sk-container-id-6 div.sk-toggleable {background-color: white;}#sk-container-id-6 label.sk-toggleable__label {cursor: pointer;display: block;width: 100%;margin-bottom: 0;padding: 0.3em;box-sizing: border-box;text-align: center;}#sk-container-id-6 label.sk-toggleable__label-arrow:before {content: \"▸\";float: left;margin-right: 0.25em;color: #696969;}#sk-container-id-6 label.sk-toggleable__label-arrow:hover:before {color: black;}#sk-container-id-6 div.sk-estimator:hover label.sk-toggleable__label-arrow:before {color: black;}#sk-container-id-6 div.sk-toggleable__content {max-height: 0;max-width: 0;overflow: hidden;text-align: left;background-color: #f0f8ff;}#sk-container-id-6 div.sk-toggleable__content pre {margin: 0.2em;color: black;border-radius: 0.25em;background-color: #f0f8ff;}#sk-container-id-6 input.sk-toggleable__control:checked~div.sk-toggleable__content {max-height: 200px;max-width: 100%;overflow: auto;}#sk-container-id-6 input.sk-toggleable__control:checked~label.sk-toggleable__label-arrow:before {content: \"▾\";}#sk-container-id-6 div.sk-estimator input.sk-toggleable__control:checked~label.sk-toggleable__label {background-color: #d4ebff;}#sk-container-id-6 div.sk-label input.sk-toggleable__control:checked~label.sk-toggleable__label {background-color: #d4ebff;}#sk-container-id-6 input.sk-hidden--visually {border: 0;clip: rect(1px 1px 1px 1px);clip: rect(1px, 1px, 1px, 1px);height: 1px;margin: -1px;overflow: hidden;padding: 0;position: absolute;width: 1px;}#sk-container-id-6 div.sk-estimator {font-family: monospace;background-color: #f0f8ff;border: 1px dotted black;border-radius: 0.25em;box-sizing: border-box;margin-bottom: 0.5em;}#sk-container-id-6 div.sk-estimator:hover {background-color: #d4ebff;}#sk-container-id-6 div.sk-parallel-item::after {content: \"\";width: 100%;border-bottom: 1px solid gray;flex-grow: 1;}#sk-container-id-6 div.sk-label:hover label.sk-toggleable__label {background-color: #d4ebff;}#sk-container-id-6 div.sk-serial::before {content: \"\";position: absolute;border-left: 1px solid gray;box-sizing: border-box;top: 0;bottom: 0;left: 50%;z-index: 0;}#sk-container-id-6 div.sk-serial {display: flex;flex-direction: column;align-items: center;background-color: white;padding-right: 0.2em;padding-left: 0.2em;position: relative;}#sk-container-id-6 div.sk-item {position: relative;z-index: 1;}#sk-container-id-6 div.sk-parallel {display: flex;align-items: stretch;justify-content: center;background-color: white;position: relative;}#sk-container-id-6 div.sk-item::before, #sk-container-id-6 div.sk-parallel-item::before {content: \"\";position: absolute;border-left: 1px solid gray;box-sizing: border-box;top: 0;bottom: 0;left: 50%;z-index: -1;}#sk-container-id-6 div.sk-parallel-item {display: flex;flex-direction: column;z-index: 1;position: relative;background-color: white;}#sk-container-id-6 div.sk-parallel-item:first-child::after {align-self: flex-end;width: 50%;}#sk-container-id-6 div.sk-parallel-item:last-child::after {align-self: flex-start;width: 50%;}#sk-container-id-6 div.sk-parallel-item:only-child::after {width: 0;}#sk-container-id-6 div.sk-dashed-wrapped {border: 1px dashed gray;margin: 0 0.4em 0.5em 0.4em;box-sizing: border-box;padding-bottom: 0.4em;background-color: white;}#sk-container-id-6 div.sk-label label {font-family: monospace;font-weight: bold;display: inline-block;line-height: 1.2em;}#sk-container-id-6 div.sk-label-container {text-align: center;}#sk-container-id-6 div.sk-container {/* jupyter's `normalize.less` sets `[hidden] { display: none; }` but bootstrap.min.css set `[hidden] { display: none !important; }` so we also need the `!important` here to be able to override the default hidden behavior on the sphinx rendered scikit-learn.org. See: https://github.com/scikit-learn/scikit-learn/issues/21755 */display: inline-block !important;position: relative;}#sk-container-id-6 div.sk-text-repr-fallback {display: none;}</style><div id=\"sk-container-id-6\" class=\"sk-top-container\"><div class=\"sk-text-repr-fallback\"><pre>Ridge(alpha=2.999)</pre><b>In a Jupyter environment, please rerun this cell to show the HTML representation or trust the notebook. <br />On GitHub, the HTML representation is unable to render, please try loading this page with nbviewer.org.</b></div><div class=\"sk-container\" hidden><div class=\"sk-item\"><div class=\"sk-estimator sk-toggleable\"><input class=\"sk-toggleable__control sk-hidden--visually\" id=\"sk-estimator-id-6\" type=\"checkbox\" checked><label for=\"sk-estimator-id-6\" class=\"sk-toggleable__label sk-toggleable__label-arrow\">Ridge</label><div class=\"sk-toggleable__content\"><pre>Ridge(alpha=2.999)</pre></div></div></div></div></div>"
      ],
      "text/plain": [
       "Ridge(alpha=2.999)"
      ]
     },
     "execution_count": 136,
     "metadata": {},
     "output_type": "execute_result"
    }
   ],
   "source": [
    "Model_R_tuned.fit(df_XtrainPoli, y_train)"
   ]
  },
  {
   "cell_type": "markdown",
   "id": "6a4dab16",
   "metadata": {},
   "source": [
    "## Lasso"
   ]
  },
  {
   "cell_type": "code",
   "execution_count": 111,
   "id": "b82980ac",
   "metadata": {},
   "outputs": [],
   "source": [
    "def Manual_Tune(Alpha, X_train, X_test, y_train, y_test, Model):\n",
    "    train_r = []\n",
    "    test_r = []\n",
    "    \n",
    "    for i in Alpha:\n",
    "        model_R = Model(alpha=i)\n",
    "        model_R.fit(X_train, y_train)\n",
    "        y_pred_tr = model_R.predict(X_train)\n",
    "        R2_train = r2_score(y_train, y_pred_tr)\n",
    "        train_r.append(R2_train)\n",
    "        y_pred_ts = model_R.predict(X_test)\n",
    "        R2_test = r2_score(y_test, y_pred_ts)\n",
    "        test_r.append(R2_test)\n",
    "    return train_r, test_r"
   ]
  },
  {
   "cell_type": "code",
   "execution_count": 112,
   "id": "2b48c375",
   "metadata": {},
   "outputs": [],
   "source": [
    "Alpha_L = np.arange(0, 3, 0.001)"
   ]
  },
  {
   "cell_type": "code",
   "execution_count": 114,
   "id": "55854b03",
   "metadata": {},
   "outputs": [],
   "source": [
    "train_Lasso, test_Lasso = Manual_Tune(Alpha_L, df_XtrainPoli, df_XtestPoli, y_train, y_test, Lasso)"
   ]
  },
  {
   "cell_type": "code",
   "execution_count": 120,
   "id": "07e09917",
   "metadata": {},
   "outputs": [
    {
     "data": {
      "image/png": "[encoded data removed]",
      "text/plain": [
       "<Figure size 720x720 with 1 Axes>"
      ]
     },
     "metadata": {
      "needs_background": "light"
     },
     "output_type": "display_data"
    }
   ],
   "source": [
    "plt.figure(figsize=(10,10))\n",
    "plt.plot(Alpha_L, train_Lasso, 'r*-')\n",
    "plt.plot(Alpha_L, test_Lasso, 'b*-')\n",
    "plt.legend(['Train R2', 'Test R2'])\n",
    "plt.title(\"Manual Tuning Lasso + Polynomial\")\n",
    "plt.xlabel(\"Alpha\")\n",
    "plt.ylabel(\"R2 Score\")\n",
    "plt.show()"
   ]
  },
  {
   "cell_type": "code",
   "execution_count": 137,
   "id": "3a842702",
   "metadata": {},
   "outputs": [
    {
     "data": {
      "text/plain": [
       "0.8997425143111051"
      ]
     },
     "execution_count": 137,
     "metadata": {},
     "output_type": "execute_result"
    }
   ],
   "source": [
    "np.max(test_Lasso)"
   ]
  },
  {
   "cell_type": "code",
   "execution_count": 138,
   "id": "4a814678",
   "metadata": {},
   "outputs": [
    {
     "data": {
      "text/plain": [
       "0.046"
      ]
     },
     "execution_count": 138,
     "metadata": {},
     "output_type": "execute_result"
    }
   ],
   "source": [
    "Alpha_L[np.argmax(test_Lasso)]"
   ]
  },
  {
   "cell_type": "code",
   "execution_count": 139,
   "id": "b4167acb",
   "metadata": {},
   "outputs": [],
   "source": [
    "Model_L_tuned = Lasso(alpha=0.046)"
   ]
  },
  {
   "cell_type": "code",
   "execution_count": 140,
   "id": "9c6e597a",
   "metadata": {},
   "outputs": [
    {
     "data": {
      "text/html": [
       "<style>#sk-container-id-7 {color: black;background-color: white;}#sk-container-id-7 pre{padding: 0;}#sk-container-id-7 div.sk-toggleable {background-color: white;}#sk-container-id-7 label.sk-toggleable__label {cursor: pointer;display: block;width: 100%;margin-bottom: 0;padding: 0.3em;box-sizing: border-box;text-align: center;}#sk-container-id-7 label.sk-toggleable__label-arrow:before {content: \"▸\";float: left;margin-right: 0.25em;color: #696969;}#sk-container-id-7 label.sk-toggleable__label-arrow:hover:before {color: black;}#sk-container-id-7 div.sk-estimator:hover label.sk-toggleable__label-arrow:before {color: black;}#sk-container-id-7 div.sk-toggleable__content {max-height: 0;max-width: 0;overflow: hidden;text-align: left;background-color: #f0f8ff;}#sk-container-id-7 div.sk-toggleable__content pre {margin: 0.2em;color: black;border-radius: 0.25em;background-color: #f0f8ff;}#sk-container-id-7 input.sk-toggleable__control:checked~div.sk-toggleable__content {max-height: 200px;max-width: 100%;overflow: auto;}#sk-container-id-7 input.sk-toggleable__control:checked~label.sk-toggleable__label-arrow:before {content: \"▾\";}#sk-container-id-7 div.sk-estimator input.sk-toggleable__control:checked~label.sk-toggleable__label {background-color: #d4ebff;}#sk-container-id-7 div.sk-label input.sk-toggleable__control:checked~label.sk-toggleable__label {background-color: #d4ebff;}#sk-container-id-7 input.sk-hidden--visually {border: 0;clip: rect(1px 1px 1px 1px);clip: rect(1px, 1px, 1px, 1px);height: 1px;margin: -1px;overflow: hidden;padding: 0;position: absolute;width: 1px;}#sk-container-id-7 div.sk-estimator {font-family: monospace;background-color: #f0f8ff;border: 1px dotted black;border-radius: 0.25em;box-sizing: border-box;margin-bottom: 0.5em;}#sk-container-id-7 div.sk-estimator:hover {background-color: #d4ebff;}#sk-container-id-7 div.sk-parallel-item::after {content: \"\";width: 100%;border-bottom: 1px solid gray;flex-grow: 1;}#sk-container-id-7 div.sk-label:hover label.sk-toggleable__label {background-color: #d4ebff;}#sk-container-id-7 div.sk-serial::before {content: \"\";position: absolute;border-left: 1px solid gray;box-sizing: border-box;top: 0;bottom: 0;left: 50%;z-index: 0;}#sk-container-id-7 div.sk-serial {display: flex;flex-direction: column;align-items: center;background-color: white;padding-right: 0.2em;padding-left: 0.2em;position: relative;}#sk-container-id-7 div.sk-item {position: relative;z-index: 1;}#sk-container-id-7 div.sk-parallel {display: flex;align-items: stretch;justify-content: center;background-color: white;position: relative;}#sk-container-id-7 div.sk-item::before, #sk-container-id-7 div.sk-parallel-item::before {content: \"\";position: absolute;border-left: 1px solid gray;box-sizing: border-box;top: 0;bottom: 0;left: 50%;z-index: -1;}#sk-container-id-7 div.sk-parallel-item {display: flex;flex-direction: column;z-index: 1;position: relative;background-color: white;}#sk-container-id-7 div.sk-parallel-item:first-child::after {align-self: flex-end;width: 50%;}#sk-container-id-7 div.sk-parallel-item:last-child::after {align-self: flex-start;width: 50%;}#sk-container-id-7 div.sk-parallel-item:only-child::after {width: 0;}#sk-container-id-7 div.sk-dashed-wrapped {border: 1px dashed gray;margin: 0 0.4em 0.5em 0.4em;box-sizing: border-box;padding-bottom: 0.4em;background-color: white;}#sk-container-id-7 div.sk-label label {font-family: monospace;font-weight: bold;display: inline-block;line-height: 1.2em;}#sk-container-id-7 div.sk-label-container {text-align: center;}#sk-container-id-7 div.sk-container {/* jupyter's `normalize.less` sets `[hidden] { display: none; }` but bootstrap.min.css set `[hidden] { display: none !important; }` so we also need the `!important` here to be able to override the default hidden behavior on the sphinx rendered scikit-learn.org. See: https://github.com/scikit-learn/scikit-learn/issues/21755 */display: inline-block !important;position: relative;}#sk-container-id-7 div.sk-text-repr-fallback {display: none;}</style><div id=\"sk-container-id-7\" class=\"sk-top-container\"><div class=\"sk-text-repr-fallback\"><pre>Lasso(alpha=0.046)</pre><b>In a Jupyter environment, please rerun this cell to show the HTML representation or trust the notebook. <br />On GitHub, the HTML representation is unable to render, please try loading this page with nbviewer.org.</b></div><div class=\"sk-container\" hidden><div class=\"sk-item\"><div class=\"sk-estimator sk-toggleable\"><input class=\"sk-toggleable__control sk-hidden--visually\" id=\"sk-estimator-id-7\" type=\"checkbox\" checked><label for=\"sk-estimator-id-7\" class=\"sk-toggleable__label sk-toggleable__label-arrow\">Lasso</label><div class=\"sk-toggleable__content\"><pre>Lasso(alpha=0.046)</pre></div></div></div></div></div>"
      ],
      "text/plain": [
       "Lasso(alpha=0.046)"
      ]
     },
     "execution_count": 140,
     "metadata": {},
     "output_type": "execute_result"
    }
   ],
   "source": [
    "Model_L_tuned.fit(df_XtrainPoli, y_train)"
   ]
  },
  {
   "cell_type": "markdown",
   "id": "31eb10fb",
   "metadata": {},
   "source": [
    "## ElasticNet"
   ]
  },
  {
   "cell_type": "code",
   "execution_count": 126,
   "id": "845030b8",
   "metadata": {},
   "outputs": [],
   "source": [
    "Alpha_E = np.arange(0, 3, 0.001)"
   ]
  },
  {
   "cell_type": "code",
   "execution_count": 127,
   "id": "9206e128",
   "metadata": {},
   "outputs": [],
   "source": [
    "train_Enet, test_Enet = Manual_Tune(Alpha_E, df_XtrainPoli, df_XtestPoli, y_train, y_test, ElasticNet)"
   ]
  },
  {
   "cell_type": "code",
   "execution_count": 128,
   "id": "01611f6b",
   "metadata": {},
   "outputs": [
    {
     "data": {
      "image/png": "[encoded data removed]",
      "text/plain": [
       "<Figure size 576x504 with 1 Axes>"
      ]
     },
     "metadata": {
      "needs_background": "light"
     },
     "output_type": "display_data"
    }
   ],
   "source": [
    "plt.figure(figsize=(8,7))\n",
    "plt.plot(Alpha_E, train_Enet, 'r*-')\n",
    "plt.plot(Alpha_E, test_Enet, 'b*-')\n",
    "plt.legend(['Train R2', 'Test R2'])\n",
    "plt.title(\"Manual Tuning ElasticNet + Polynomial\")\n",
    "plt.xlabel(\"Alpha\")\n",
    "plt.ylabel(\"R2 Score\")\n",
    "plt.show()"
   ]
  },
  {
   "cell_type": "code",
   "execution_count": 129,
   "id": "b6530e2f",
   "metadata": {},
   "outputs": [
    {
     "data": {
      "text/plain": [
       "0.8982113767591378"
      ]
     },
     "execution_count": 129,
     "metadata": {},
     "output_type": "execute_result"
    }
   ],
   "source": [
    "np.max(test_Enet)"
   ]
  },
  {
   "cell_type": "code",
   "execution_count": 130,
   "id": "4c715199",
   "metadata": {},
   "outputs": [
    {
     "data": {
      "text/plain": [
       "0.106"
      ]
     },
     "execution_count": 130,
     "metadata": {},
     "output_type": "execute_result"
    }
   ],
   "source": [
    "Alpha_E[np.argmax(test_Enet)]"
   ]
  },
  {
   "cell_type": "code",
   "execution_count": 133,
   "id": "3cc7bf18",
   "metadata": {},
   "outputs": [],
   "source": [
    "Model_E_tuned = ElasticNet(alpha=0.106)"
   ]
  },
  {
   "cell_type": "code",
   "execution_count": 134,
   "id": "4e99311e",
   "metadata": {},
   "outputs": [
    {
     "data": {
      "text/html": [
       "<style>#sk-container-id-5 {color: black;background-color: white;}#sk-container-id-5 pre{padding: 0;}#sk-container-id-5 div.sk-toggleable {background-color: white;}#sk-container-id-5 label.sk-toggleable__label {cursor: pointer;display: block;width: 100%;margin-bottom: 0;padding: 0.3em;box-sizing: border-box;text-align: center;}#sk-container-id-5 label.sk-toggleable__label-arrow:before {content: \"▸\";float: left;margin-right: 0.25em;color: #696969;}#sk-container-id-5 label.sk-toggleable__label-arrow:hover:before {color: black;}#sk-container-id-5 div.sk-estimator:hover label.sk-toggleable__label-arrow:before {color: black;}#sk-container-id-5 div.sk-toggleable__content {max-height: 0;max-width: 0;overflow: hidden;text-align: left;background-color: #f0f8ff;}#sk-container-id-5 div.sk-toggleable__content pre {margin: 0.2em;color: black;border-radius: 0.25em;background-color: #f0f8ff;}#sk-container-id-5 input.sk-toggleable__control:checked~div.sk-toggleable__content {max-height: 200px;max-width: 100%;overflow: auto;}#sk-container-id-5 input.sk-toggleable__control:checked~label.sk-toggleable__label-arrow:before {content: \"▾\";}#sk-container-id-5 div.sk-estimator input.sk-toggleable__control:checked~label.sk-toggleable__label {background-color: #d4ebff;}#sk-container-id-5 div.sk-label input.sk-toggleable__control:checked~label.sk-toggleable__label {background-color: #d4ebff;}#sk-container-id-5 input.sk-hidden--visually {border: 0;clip: rect(1px 1px 1px 1px);clip: rect(1px, 1px, 1px, 1px);height: 1px;margin: -1px;overflow: hidden;padding: 0;position: absolute;width: 1px;}#sk-container-id-5 div.sk-estimator {font-family: monospace;background-color: #f0f8ff;border: 1px dotted black;border-radius: 0.25em;box-sizing: border-box;margin-bottom: 0.5em;}#sk-container-id-5 div.sk-estimator:hover {background-color: #d4ebff;}#sk-container-id-5 div.sk-parallel-item::after {content: \"\";width: 100%;border-bottom: 1px solid gray;flex-grow: 1;}#sk-container-id-5 div.sk-label:hover label.sk-toggleable__label {background-color: #d4ebff;}#sk-container-id-5 div.sk-serial::before {content: \"\";position: absolute;border-left: 1px solid gray;box-sizing: border-box;top: 0;bottom: 0;left: 50%;z-index: 0;}#sk-container-id-5 div.sk-serial {display: flex;flex-direction: column;align-items: center;background-color: white;padding-right: 0.2em;padding-left: 0.2em;position: relative;}#sk-container-id-5 div.sk-item {position: relative;z-index: 1;}#sk-container-id-5 div.sk-parallel {display: flex;align-items: stretch;justify-content: center;background-color: white;position: relative;}#sk-container-id-5 div.sk-item::before, #sk-container-id-5 div.sk-parallel-item::before {content: \"\";position: absolute;border-left: 1px solid gray;box-sizing: border-box;top: 0;bottom: 0;left: 50%;z-index: -1;}#sk-container-id-5 div.sk-parallel-item {display: flex;flex-direction: column;z-index: 1;position: relative;background-color: white;}#sk-container-id-5 div.sk-parallel-item:first-child::after {align-self: flex-end;width: 50%;}#sk-container-id-5 div.sk-parallel-item:last-child::after {align-self: flex-start;width: 50%;}#sk-container-id-5 div.sk-parallel-item:only-child::after {width: 0;}#sk-container-id-5 div.sk-dashed-wrapped {border: 1px dashed gray;margin: 0 0.4em 0.5em 0.4em;box-sizing: border-box;padding-bottom: 0.4em;background-color: white;}#sk-container-id-5 div.sk-label label {font-family: monospace;font-weight: bold;display: inline-block;line-height: 1.2em;}#sk-container-id-5 div.sk-label-container {text-align: center;}#sk-container-id-5 div.sk-container {/* jupyter's `normalize.less` sets `[hidden] { display: none; }` but bootstrap.min.css set `[hidden] { display: none !important; }` so we also need the `!important` here to be able to override the default hidden behavior on the sphinx rendered scikit-learn.org. See: https://github.com/scikit-learn/scikit-learn/issues/21755 */display: inline-block !important;position: relative;}#sk-container-id-5 div.sk-text-repr-fallback {display: none;}</style><div id=\"sk-container-id-5\" class=\"sk-top-container\"><div class=\"sk-text-repr-fallback\"><pre>ElasticNet(alpha=0.106)</pre><b>In a Jupyter environment, please rerun this cell to show the HTML representation or trust the notebook. <br />On GitHub, the HTML representation is unable to render, please try loading this page with nbviewer.org.</b></div><div class=\"sk-container\" hidden><div class=\"sk-item\"><div class=\"sk-estimator sk-toggleable\"><input class=\"sk-toggleable__control sk-hidden--visually\" id=\"sk-estimator-id-5\" type=\"checkbox\" checked><label for=\"sk-estimator-id-5\" class=\"sk-toggleable__label sk-toggleable__label-arrow\">ElasticNet</label><div class=\"sk-toggleable__content\"><pre>ElasticNet(alpha=0.106)</pre></div></div></div></div></div>"
      ],
      "text/plain": [
       "ElasticNet(alpha=0.106)"
      ]
     },
     "execution_count": 134,
     "metadata": {},
     "output_type": "execute_result"
    }
   ],
   "source": [
    "Model_E_tuned.fit(df_XtrainPoli, y_train)"
   ]
  },
  {
   "cell_type": "markdown",
   "id": "71900dc2",
   "metadata": {},
   "source": [
    "## Evaluation Matrix - Regularization"
   ]
  },
  {
   "cell_type": "code",
   "execution_count": 142,
   "id": "7e5313cb",
   "metadata": {},
   "outputs": [],
   "source": [
    "def Eva_Matrix(Model, X, y_true):\n",
    "    y_pred = Model.predict(X)\n",
    "    R2 = r2_score(y_true, y_pred)\n",
    "    MAE = mean_absolute_error(y_true, y_pred)\n",
    "    MSE = mean_squared_error(y_true, y_pred)\n",
    "    RMSE = np.sqrt(MSE)\n",
    "    return R2, MAE, MSE, RMSE"
   ]
  },
  {
   "cell_type": "code",
   "execution_count": 143,
   "id": "fc205857",
   "metadata": {},
   "outputs": [],
   "source": [
    "## Lasso EvaMatrix Training"
   ]
  },
  {
   "cell_type": "code",
   "execution_count": 144,
   "id": "bc091af7",
   "metadata": {},
   "outputs": [
    {
     "data": {
      "text/html": [
       "<style>#sk-container-id-8 {color: black;background-color: white;}#sk-container-id-8 pre{padding: 0;}#sk-container-id-8 div.sk-toggleable {background-color: white;}#sk-container-id-8 label.sk-toggleable__label {cursor: pointer;display: block;width: 100%;margin-bottom: 0;padding: 0.3em;box-sizing: border-box;text-align: center;}#sk-container-id-8 label.sk-toggleable__label-arrow:before {content: \"▸\";float: left;margin-right: 0.25em;color: #696969;}#sk-container-id-8 label.sk-toggleable__label-arrow:hover:before {color: black;}#sk-container-id-8 div.sk-estimator:hover label.sk-toggleable__label-arrow:before {color: black;}#sk-container-id-8 div.sk-toggleable__content {max-height: 0;max-width: 0;overflow: hidden;text-align: left;background-color: #f0f8ff;}#sk-container-id-8 div.sk-toggleable__content pre {margin: 0.2em;color: black;border-radius: 0.25em;background-color: #f0f8ff;}#sk-container-id-8 input.sk-toggleable__control:checked~div.sk-toggleable__content {max-height: 200px;max-width: 100%;overflow: auto;}#sk-container-id-8 input.sk-toggleable__control:checked~label.sk-toggleable__label-arrow:before {content: \"▾\";}#sk-container-id-8 div.sk-estimator input.sk-toggleable__control:checked~label.sk-toggleable__label {background-color: #d4ebff;}#sk-container-id-8 div.sk-label input.sk-toggleable__control:checked~label.sk-toggleable__label {background-color: #d4ebff;}#sk-container-id-8 input.sk-hidden--visually {border: 0;clip: rect(1px 1px 1px 1px);clip: rect(1px, 1px, 1px, 1px);height: 1px;margin: -1px;overflow: hidden;padding: 0;position: absolute;width: 1px;}#sk-container-id-8 div.sk-estimator {font-family: monospace;background-color: #f0f8ff;border: 1px dotted black;border-radius: 0.25em;box-sizing: border-box;margin-bottom: 0.5em;}#sk-container-id-8 div.sk-estimator:hover {background-color: #d4ebff;}#sk-container-id-8 div.sk-parallel-item::after {content: \"\";width: 100%;border-bottom: 1px solid gray;flex-grow: 1;}#sk-container-id-8 div.sk-label:hover label.sk-toggleable__label {background-color: #d4ebff;}#sk-container-id-8 div.sk-serial::before {content: \"\";position: absolute;border-left: 1px solid gray;box-sizing: border-box;top: 0;bottom: 0;left: 50%;z-index: 0;}#sk-container-id-8 div.sk-serial {display: flex;flex-direction: column;align-items: center;background-color: white;padding-right: 0.2em;padding-left: 0.2em;position: relative;}#sk-container-id-8 div.sk-item {position: relative;z-index: 1;}#sk-container-id-8 div.sk-parallel {display: flex;align-items: stretch;justify-content: center;background-color: white;position: relative;}#sk-container-id-8 div.sk-item::before, #sk-container-id-8 div.sk-parallel-item::before {content: \"\";position: absolute;border-left: 1px solid gray;box-sizing: border-box;top: 0;bottom: 0;left: 50%;z-index: -1;}#sk-container-id-8 div.sk-parallel-item {display: flex;flex-direction: column;z-index: 1;position: relative;background-color: white;}#sk-container-id-8 div.sk-parallel-item:first-child::after {align-self: flex-end;width: 50%;}#sk-container-id-8 div.sk-parallel-item:last-child::after {align-self: flex-start;width: 50%;}#sk-container-id-8 div.sk-parallel-item:only-child::after {width: 0;}#sk-container-id-8 div.sk-dashed-wrapped {border: 1px dashed gray;margin: 0 0.4em 0.5em 0.4em;box-sizing: border-box;padding-bottom: 0.4em;background-color: white;}#sk-container-id-8 div.sk-label label {font-family: monospace;font-weight: bold;display: inline-block;line-height: 1.2em;}#sk-container-id-8 div.sk-label-container {text-align: center;}#sk-container-id-8 div.sk-container {/* jupyter's `normalize.less` sets `[hidden] { display: none; }` but bootstrap.min.css set `[hidden] { display: none !important; }` so we also need the `!important` here to be able to override the default hidden behavior on the sphinx rendered scikit-learn.org. See: https://github.com/scikit-learn/scikit-learn/issues/21755 */display: inline-block !important;position: relative;}#sk-container-id-8 div.sk-text-repr-fallback {display: none;}</style><div id=\"sk-container-id-8\" class=\"sk-top-container\"><div class=\"sk-text-repr-fallback\"><pre>Lasso(alpha=0.046)</pre><b>In a Jupyter environment, please rerun this cell to show the HTML representation or trust the notebook. <br />On GitHub, the HTML representation is unable to render, please try loading this page with nbviewer.org.</b></div><div class=\"sk-container\" hidden><div class=\"sk-item\"><div class=\"sk-estimator sk-toggleable\"><input class=\"sk-toggleable__control sk-hidden--visually\" id=\"sk-estimator-id-8\" type=\"checkbox\" checked><label for=\"sk-estimator-id-8\" class=\"sk-toggleable__label sk-toggleable__label-arrow\">Lasso</label><div class=\"sk-toggleable__content\"><pre>Lasso(alpha=0.046)</pre></div></div></div></div></div>"
      ],
      "text/plain": [
       "Lasso(alpha=0.046)"
      ]
     },
     "execution_count": 144,
     "metadata": {},
     "output_type": "execute_result"
    }
   ],
   "source": [
    "Model_L_tuned"
   ]
  },
  {
   "cell_type": "code",
   "execution_count": 145,
   "id": "36afab3e",
   "metadata": {},
   "outputs": [],
   "source": [
    "r2_L_tr, MAE_L_tr, MSE_L_tr, RMSE_L_tr = Eva_Matrix(Model_L_tuned, df_XtrainPoli, y_train)"
   ]
  },
  {
   "cell_type": "code",
   "execution_count": 146,
   "id": "95a34461",
   "metadata": {},
   "outputs": [],
   "source": [
    "## Lasso EvaMatrix Testing"
   ]
  },
  {
   "cell_type": "code",
   "execution_count": 147,
   "id": "78dc7173",
   "metadata": {},
   "outputs": [],
   "source": [
    "r2_L_ts, MAE_L_ts, MSE_L_ts, RMSE_L_ts = Eva_Matrix(Model_L_tuned, df_XtestPoli, y_test)"
   ]
  },
  {
   "cell_type": "code",
   "execution_count": 148,
   "id": "d5ace32c",
   "metadata": {},
   "outputs": [],
   "source": [
    "## Ridge EvaMatrix Training"
   ]
  },
  {
   "cell_type": "code",
   "execution_count": 149,
   "id": "61a38463",
   "metadata": {},
   "outputs": [],
   "source": [
    "r2_R_tr, MAE_R_tr, MSE_R_tr, RMSE_R_tr = Eva_Matrix(Model_R_tuned, df_XtrainPoli, y_train)"
   ]
  },
  {
   "cell_type": "code",
   "execution_count": 150,
   "id": "d622eb54",
   "metadata": {},
   "outputs": [],
   "source": [
    "## Ridge EvaMatrix Testing"
   ]
  },
  {
   "cell_type": "code",
   "execution_count": 151,
   "id": "95d69cf4",
   "metadata": {},
   "outputs": [],
   "source": [
    "r2_R_ts, MAE_R_ts, MSE_R_ts, RMSE_R_ts = Eva_Matrix(Model_R_tuned, df_XtestPoli, y_test)"
   ]
  },
  {
   "cell_type": "code",
   "execution_count": 152,
   "id": "3c932664",
   "metadata": {},
   "outputs": [],
   "source": [
    "## ElasticNet EvaMatrix Training"
   ]
  },
  {
   "cell_type": "code",
   "execution_count": 153,
   "id": "f2642850",
   "metadata": {},
   "outputs": [],
   "source": [
    "r2_E_tr, MAE_E_tr, MSE_E_tr, RMSE_E_tr = Eva_Matrix(Model_E_tuned, df_XtrainPoli, y_train)"
   ]
  },
  {
   "cell_type": "code",
   "execution_count": 154,
   "id": "2bbb4955",
   "metadata": {},
   "outputs": [],
   "source": [
    "## ElasticNet EvaMatrix Testing"
   ]
  },
  {
   "cell_type": "code",
   "execution_count": 155,
   "id": "e3c73d3b",
   "metadata": {},
   "outputs": [],
   "source": [
    "r2_E_ts, MAE_E_ts, MSE_E_ts, RMSE_E_ts = Eva_Matrix(Model_E_tuned, df_XtestPoli, y_test)"
   ]
  },
  {
   "cell_type": "code",
   "execution_count": 156,
   "id": "9e849a1d",
   "metadata": {},
   "outputs": [
    {
     "data": {
      "text/html": [
       "<div>\n",
       "<style scoped>\n",
       "    .dataframe tbody tr th:only-of-type {\n",
       "        vertical-align: middle;\n",
       "    }\n",
       "\n",
       "    .dataframe tbody tr th {\n",
       "        vertical-align: top;\n",
       "    }\n",
       "\n",
       "    .dataframe thead th {\n",
       "        text-align: right;\n",
       "    }\n",
       "</style>\n",
       "<table border=\"1\" class=\"dataframe\">\n",
       "  <thead>\n",
       "    <tr style=\"text-align: right;\">\n",
       "      <th></th>\n",
       "      <th>R2</th>\n",
       "      <th>MAE</th>\n",
       "      <th>MSE</th>\n",
       "      <th>RMSE</th>\n",
       "    </tr>\n",
       "  </thead>\n",
       "  <tbody>\n",
       "    <tr>\n",
       "      <th>Ridge Tuned Training</th>\n",
       "      <td>0.942861</td>\n",
       "      <td>1.566819</td>\n",
       "      <td>4.242148</td>\n",
       "      <td>2.059647</td>\n",
       "    </tr>\n",
       "    <tr>\n",
       "      <th>Ridge Tuned Testing</th>\n",
       "      <td>0.877764</td>\n",
       "      <td>2.003776</td>\n",
       "      <td>6.790808</td>\n",
       "      <td>2.605918</td>\n",
       "    </tr>\n",
       "    <tr>\n",
       "      <th>Lasso Tuned Training</th>\n",
       "      <td>0.926501</td>\n",
       "      <td>1.788663</td>\n",
       "      <td>5.456750</td>\n",
       "      <td>2.335969</td>\n",
       "    </tr>\n",
       "    <tr>\n",
       "      <th>Lasso Tuned Testing</th>\n",
       "      <td>0.899743</td>\n",
       "      <td>1.771782</td>\n",
       "      <td>5.569806</td>\n",
       "      <td>2.360044</td>\n",
       "    </tr>\n",
       "    <tr>\n",
       "      <th>ElasticNet Tuned Training</th>\n",
       "      <td>0.920398</td>\n",
       "      <td>1.843169</td>\n",
       "      <td>5.909821</td>\n",
       "      <td>2.431012</td>\n",
       "    </tr>\n",
       "    <tr>\n",
       "      <th>ElasticNet Tuned Testing</th>\n",
       "      <td>0.898211</td>\n",
       "      <td>1.814071</td>\n",
       "      <td>5.654868</td>\n",
       "      <td>2.377997</td>\n",
       "    </tr>\n",
       "  </tbody>\n",
       "</table>\n",
       "</div>"
      ],
      "text/plain": [
       "                                 R2       MAE       MSE      RMSE\n",
       "Ridge Tuned Training       0.942861  1.566819  4.242148  2.059647\n",
       "Ridge Tuned Testing        0.877764  2.003776  6.790808  2.605918\n",
       "Lasso Tuned Training       0.926501  1.788663  5.456750  2.335969\n",
       "Lasso Tuned Testing        0.899743  1.771782  5.569806  2.360044\n",
       "ElasticNet Tuned Training  0.920398  1.843169  5.909821  2.431012\n",
       "ElasticNet Tuned Testing   0.898211  1.814071  5.654868  2.377997"
      ]
     },
     "execution_count": 156,
     "metadata": {},
     "output_type": "execute_result"
    }
   ],
   "source": [
    "eva_data = {\n",
    "    \"Ridge Tuned Training\" : [r2_R_tr, MAE_R_tr, MSE_R_tr, RMSE_R_tr],\n",
    "    \"Ridge Tuned Testing\" : [r2_R_ts, MAE_R_ts, MSE_R_ts, RMSE_R_ts],\n",
    "    \"Lasso Tuned Training\" : [r2_L_tr, MAE_L_tr, MSE_L_tr, RMSE_L_tr],\n",
    "    \"Lasso Tuned Testing\" : [r2_L_ts, MAE_L_ts, MSE_L_ts, RMSE_L_ts],\n",
    "    \"ElasticNet Tuned Training\" : [r2_E_tr, MAE_E_tr, MSE_E_tr, RMSE_E_tr],\n",
    "    \"ElasticNet Tuned Testing\" : [r2_E_ts, MAE_E_ts, MSE_E_ts, RMSE_E_ts]\n",
    "}\n",
    "pd.DataFrame(eva_data, index=['R2', 'MAE', 'MSE', 'RMSE']).T"
   ]
  },
  {
   "cell_type": "markdown",
   "id": "13134075",
   "metadata": {},
   "source": [
    "## Conclusion\n",
    "\n",
    "The best model : Lasso with Polynomial Feature"
   ]
  }
 ],
 "metadata": {
  "kernelspec": {
   "display_name": "Python 3 (ipykernel)",
   "language": "python",
   "name": "python3"
  },
  "language_info": {
   "codemirror_mode": {
    "name": "ipython",
    "version": 3
   },
   "file_extension": ".py",
   "mimetype": "text/x-python",
   "name": "python",
   "nbconvert_exporter": "python",
   "pygments_lexer": "ipython3",
   "version": "3.9.7"
  }
 },
 "nbformat": 4,
 "nbformat_minor": 5
}
